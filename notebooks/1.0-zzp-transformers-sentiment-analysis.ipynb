{
 "cells": [
  {
   "cell_type": "code",
   "execution_count": 2,
   "metadata": {},
   "outputs": [],
   "source": [
    "import numpy as np\n",
    "import pandas as pd\n",
    "from scipy.special import softmax\n",
    "import csv\n",
    "import urllib.request\n",
    "import ssl\n",
    "import certifi\n",
    "import os"
   ]
  },
  {
   "cell_type": "code",
   "execution_count": 3,
   "metadata": {},
   "outputs": [
    {
     "name": "stderr",
     "output_type": "stream",
     "text": [
      "2022-02-06 23:21:06.135254: I tensorflow/core/platform/cpu_feature_guard.cc:142] This TensorFlow binary is optimized with oneAPI Deep Neural Network Library (oneDNN) to use the following CPU instructions in performance-critical operations:  AVX2 FMA\n",
      "To enable them in other operations, rebuild TensorFlow with the appropriate compiler flags.\n",
      "All model checkpoint layers were used when initializing TFRobertaForSequenceClassification.\n",
      "\n",
      "All the layers of TFRobertaForSequenceClassification were initialized from the model checkpoint at ../models/cardiffnlp/twitter-roberta-base-sentiment.\n",
      "If your task is similar to the task the model of the checkpoint was trained on, you can already use TFRobertaForSequenceClassification for predictions without further training.\n"
     ]
    }
   ],
   "source": [
    "from transformers import AutoTokenizer, TFAutoModelForSequenceClassification\n",
    "# Tasks:\n",
    "# emoji, emotion, hate, irony, offensive, sentiment\n",
    "# stance/abortion, stance/atheism, stance/climate, stance/feminist, stance/hillary\n",
    "task='sentiment'\n",
    "MODEL = f\"cardiffnlp/twitter-roberta-base-{task}\"\n",
    "\n",
    "#tokenizer = AutoTokenizer.from_pretrained(MODEL)\n",
    "#model = TFAutoModelForSequenceClassification.from_pretrained(MODEL)\n",
    "#model.save_pretrained(save_directory='../models/' + MODEL)\n",
    "#tokenizer.save_pretrained(save_directory='../models/' + MODEL)\n",
    "\n",
    "tokenizer = AutoTokenizer.from_pretrained('../models/' + MODEL, local_files_only=True)\n",
    "model = TFAutoModelForSequenceClassification.from_pretrained('../models/' + MODEL, local_files_only=True)\n"
   ]
  },
  {
   "cell_type": "code",
   "execution_count": 4,
   "metadata": {},
   "outputs": [],
   "source": [
    "# download label mapping\n",
    "labels=[]\n",
    "task='sentiment'\n",
    "mapping_link = f\"https://raw.githubusercontent.com/cardiffnlp/tweeteval/main/datasets/{task}/mapping.txt\"\n",
    "with urllib.request.urlopen(mapping_link, context=ssl.create_default_context(cafile=certifi.where())) as f:\n",
    "    html = f.read().decode('utf-8').split(\"\\n\")\n",
    "    csvreader = csv.reader(html, delimiter='\\t')\n",
    "labels = [row[1] for row in csvreader if len(row) > 1]"
   ]
  },
  {
   "cell_type": "code",
   "execution_count": 5,
   "metadata": {},
   "outputs": [
    {
     "name": "stdout",
     "output_type": "stream",
     "text": [
      "[0.00341765 0.31853524 0.67804724]\n",
      "negative\n",
      "neutral\n",
      "positive\n"
     ]
    }
   ],
   "source": [
    "# # TF Examples\n",
    "#Yeah exactly, dxy is pumping and every thing is still green.. SPX and DJI and BTC.. struggling yeah, but not dumping though, given that bulls and bears are calling for the 38k.. 💁🏻‍♂️ So where do you see us go from here? In the next weeks and until the end of year?\n",
    "#\"I think bitcoin is really on the verge of getting broad acceptance by conventional finance people\"\n",
    "#neu1 = \"WHY CHINA’S RENEWED HARSH CRACKDOWN ON CRYPTO ISN’T STIFLING BITCOIN — AT LEAST NOT YET #bitcoin #btc\"\n",
    "#text1 = \"If Bitcoin was able to capture a $1T market cap, it's not even impossible at this point. It might take time. But there is a chance.\"\n",
    "positive = \"If SEC approves the one of the ETF’s , this will allow people and instutitional investors to buy bitcoin easier.\"\n",
    "#neg1 = \"yesterday $btc suffered the largest percentage drop in a single day since june 21st📉, falling by almost $6,000! are you buying the dip or do you think we'll see more downside? bet on the price of (⬆️ or ⬇️) with up to x1000 leverage👉:\"\n",
    "#neg2 = \"problems continue to plague el salvador's bitcoin rollout\"\n",
    "def predict(text):\n",
    "    encoded_input = tokenizer(text, return_tensors='tf')\n",
    "    output = model(encoded_input)\n",
    "    scores = output[0][0].numpy()\n",
    "    scores = softmax(scores)\n",
    "    print(scores)\n",
    "    print(labels[0])\n",
    "    print(labels[1])\n",
    "    print(labels[2])\n",
    "    \"\"\"ranking = np.argsort(scores)\n",
    "    ranking = ranking[::-1]\n",
    "    for i in range(scores.shape[0]):\n",
    "        l = labels[ranking[i]]\n",
    "        s = scores[ranking[i]]\n",
    "        print(f\"{i+1}) {l} {np.round(float(s), 4)}\")\"\"\"\n",
    "predict(positive)"
   ]
  },
  {
   "cell_type": "code",
   "execution_count": 6,
   "metadata": {},
   "outputs": [
    {
     "name": "stderr",
     "output_type": "stream",
     "text": [
      "/Library/Frameworks/Python.framework/Versions/3.9/lib/python3.9/site-packages/numpy/lib/arraysetops.py:580: FutureWarning: elementwise comparison failed; returning scalar instead, but in the future will perform elementwise comparison\n",
      "  mask |= (ar1 == a)\n"
     ]
    }
   ],
   "source": [
    "#load preprocessed dataset\n",
    "data = pd.read_csv('../data/processed/bitcoin_tweets_result_processed_20210101-20210930.csv', index_col=0)\n"
   ]
  },
  {
   "cell_type": "code",
   "execution_count": 7,
   "metadata": {},
   "outputs": [
    {
     "name": "stdout",
     "output_type": "stream",
     "text": [
      "(19936535, 13)\n",
      "<class 'pandas.core.frame.DataFrame'>\n",
      "Int64Index: 19936535 entries, 0 to 20357615\n",
      "Data columns (total 13 columns):\n",
      " #   Column             Dtype  \n",
      "---  ------             -----  \n",
      " 0   id                 int64  \n",
      " 1   date               object \n",
      " 2   text               object \n",
      " 3   hashtags           object \n",
      " 4   replyCount         float64\n",
      " 5   retweetCount       float64\n",
      " 6   likeCount          float64\n",
      " 7   userName           object \n",
      " 8   userFollowerCount  float64\n",
      " 9   userFavCount       float64\n",
      " 10  userFriendCount    float64\n",
      " 11  dateTime           object \n",
      " 12  textLength         int64  \n",
      "dtypes: float64(6), int64(2), object(5)\n",
      "memory usage: 2.1+ GB\n"
     ]
    }
   ],
   "source": [
    "print(data.shape)\n",
    "data.head()\n",
    "data.info()"
   ]
  },
  {
   "cell_type": "code",
   "execution_count": 31,
   "metadata": {},
   "outputs": [
    {
     "name": "stdout",
     "output_type": "stream",
     "text": [
      "(1349440, 13)\n",
      "the number of selected texts: 1349440\n",
      "estimated completion time: 59.97511111111111 hours\n"
     ]
    }
   ],
   "source": [
    "#select a slice of the dataset for prediction, based on dateTime\n",
    "#data = data.drop(['Unnamed: 0'])\n",
    "\n",
    "sData = data[(data['dateTime'] >= '2021-07-20') & (data['dateTime'] < '2021-08-10')]\n",
    "\n",
    "sData = sData.dropna(subset=['text'])\n",
    "\n",
    "print(sData[sData['text'].map(type)== str].shape) \n",
    "\n",
    "print('the number of selected texts:', sData.shape[0])\n",
    "\n",
    "print('estimated completion time:', sData.shape[0] * 0.16 / 60 / 60, 'hours')"
   ]
  },
  {
   "cell_type": "code",
   "execution_count": 32,
   "metadata": {},
   "outputs": [
    {
     "name": "stdout",
     "output_type": "stream",
     "text": [
      "error: jfc!! im like pavlov's dog now, every time i hear \"pump it up\" ✊🏾✊🏾✊🏾✊🏾✊🏾✊🏾✊🏾✊🏾✊🏾✊🏾✊🏾✊🏾✊🏾✊🏾✊🏾✊🏾✊🏾✊🏾✊🏾✊🏾✊🏾✊🏾✊🏾✊🏾✊🏾✊🏾✊🏾✊🏾✊🏾✊🏾✊🏾✊🏾✊🏾✊🏾✊🏾✊🏾✊🏾✊🏾✊🏾✊🏾✊🏾✊🏾✊🏾✊🏾✊🏾✊🏾✊🏾✊🏾✊🏾✊🏾✊🏾✊🏾✊🏾✊🏾✊🏾✊🏾✊🏾✊🏾✊🏾✊🏾✊🏾✊🏾✊🏾✊🏾✊🏾✊🏾✊🏾✊🏾✊🏾✊🏾✊🏾✊🏾✊🏾✊🏾✊🏾✊🏾✊🏾✊🏾✊🏾✊🏾✊🏾✊🏾✊🏾✊🏾✊🏾✊🏾✊🏾✊🏾✊🏾✊🏾✊🏾✊🏾✊🏾✊🏾✊🏾✊🏾✊🏾✊🏾✊🏾✊🏾✊🏾\n"
     ]
    }
   ],
   "source": [
    "#apply prediction on texts\n",
    "def predict(text):\n",
    "    try:\n",
    "        encoded_input = tokenizer(text, return_tensors='tf')\n",
    "        output = model(encoded_input)\n",
    "        scores = output[0][0].numpy()\n",
    "        scores = softmax(scores)\n",
    "        negative = np.round(float(scores[0]), 4)\n",
    "        neutral = np.round(float(scores[1]), 4)\n",
    "        positive = np.round(float(scores[2]), 4)\n",
    "        ranking = np.argsort(scores)\n",
    "        ranking = ranking[::-1]\n",
    "        prediction = labels[ranking[0]]\n",
    "        #score = scores[ranking[0]]\n",
    "        #confidence = np.round(float(score), 4)\n",
    "        return pd.Series([prediction, negative, neutral, positive])\n",
    "    except:\n",
    "        print('error:', text)\n",
    "        return pd.Series(['unknown', 0,0,0])\n",
    "\n",
    "#btcdata['sentiment'] = btcdata['text'].apply(lambda x: x.lower())\n",
    "sData[['prediction','negative', 'neutral', 'positive']] = sData['text'].apply(lambda x: predict(x))"
   ]
  },
  {
   "cell_type": "code",
   "execution_count": 29,
   "metadata": {},
   "outputs": [
    {
     "data": {
      "text/html": [
       "<div>\n",
       "<style scoped>\n",
       "    .dataframe tbody tr th:only-of-type {\n",
       "        vertical-align: middle;\n",
       "    }\n",
       "\n",
       "    .dataframe tbody tr th {\n",
       "        vertical-align: top;\n",
       "    }\n",
       "\n",
       "    .dataframe thead th {\n",
       "        text-align: right;\n",
       "    }\n",
       "</style>\n",
       "<table border=\"1\" class=\"dataframe\">\n",
       "  <thead>\n",
       "    <tr style=\"text-align: right;\">\n",
       "      <th></th>\n",
       "      <th>id</th>\n",
       "      <th>date</th>\n",
       "      <th>text</th>\n",
       "      <th>hashtags</th>\n",
       "      <th>replyCount</th>\n",
       "      <th>retweetCount</th>\n",
       "      <th>likeCount</th>\n",
       "      <th>userName</th>\n",
       "      <th>userFollowerCount</th>\n",
       "      <th>userFavCount</th>\n",
       "      <th>userFriendCount</th>\n",
       "      <th>dateTime</th>\n",
       "      <th>textLength</th>\n",
       "      <th>prediction</th>\n",
       "      <th>negative</th>\n",
       "      <th>neutral</th>\n",
       "      <th>positive</th>\n",
       "    </tr>\n",
       "  </thead>\n",
       "  <tbody>\n",
       "    <tr>\n",
       "      <th>2938669</th>\n",
       "      <td>1428507066147262464</td>\n",
       "      <td>2021-08-19 23:59:59+00:00</td>\n",
       "      <td>finish this sentence: this weekend, will reach...</td>\n",
       "      <td>['Bitcoin']</td>\n",
       "      <td>20.0</td>\n",
       "      <td>1.0</td>\n",
       "      <td>27.0</td>\n",
       "      <td>Okcoin</td>\n",
       "      <td>139336.0</td>\n",
       "      <td>15535.0</td>\n",
       "      <td>939.0</td>\n",
       "      <td>2021-08-19 23:59:59+00:00</td>\n",
       "      <td>51</td>\n",
       "      <td>neutral</td>\n",
       "      <td>0.0425</td>\n",
       "      <td>0.8850</td>\n",
       "      <td>0.0725</td>\n",
       "    </tr>\n",
       "    <tr>\n",
       "      <th>2938670</th>\n",
       "      <td>1428507059272798210</td>\n",
       "      <td>2021-08-19 23:59:57+00:00</td>\n",
       "      <td>if anyone knows me, they know i'm as bullish a...</td>\n",
       "      <td>['bitcoin']</td>\n",
       "      <td>0.0</td>\n",
       "      <td>0.0</td>\n",
       "      <td>0.0</td>\n",
       "      <td>kluza</td>\n",
       "      <td>313.0</td>\n",
       "      <td>2957.0</td>\n",
       "      <td>998.0</td>\n",
       "      <td>2021-08-19 23:59:57+00:00</td>\n",
       "      <td>269</td>\n",
       "      <td>neutral</td>\n",
       "      <td>0.3460</td>\n",
       "      <td>0.5445</td>\n",
       "      <td>0.1095</td>\n",
       "    </tr>\n",
       "    <tr>\n",
       "      <th>2938671</th>\n",
       "      <td>1428507058807189511</td>\n",
       "      <td>2021-08-19 23:59:57+00:00</td>\n",
       "      <td>49.5% in this optimal portfolio and 50.5% in t...</td>\n",
       "      <td>['Investing', 'crypto', 'cash', 'Bitcoin', 'ri...</td>\n",
       "      <td>0.0</td>\n",
       "      <td>0.0</td>\n",
       "      <td>0.0</td>\n",
       "      <td>CryptoWatchBot</td>\n",
       "      <td>2993.0</td>\n",
       "      <td>215.0</td>\n",
       "      <td>2891.0</td>\n",
       "      <td>2021-08-19 23:59:57+00:00</td>\n",
       "      <td>140</td>\n",
       "      <td>neutral</td>\n",
       "      <td>0.0423</td>\n",
       "      <td>0.6954</td>\n",
       "      <td>0.2624</td>\n",
       "    </tr>\n",
       "    <tr>\n",
       "      <th>2938672</th>\n",
       "      <td>1428507033649786882</td>\n",
       "      <td>2021-08-19 23:59:51+00:00</td>\n",
       "      <td>🚨 +5% profit of $mana-usd in less than 9 hours...</td>\n",
       "      <td>['MANA', 'BTC', 'Bitcoin', 'Crypto', 'cryptocu...</td>\n",
       "      <td>0.0</td>\n",
       "      <td>0.0</td>\n",
       "      <td>0.0</td>\n",
       "      <td>torshis</td>\n",
       "      <td>1586.0</td>\n",
       "      <td>121.0</td>\n",
       "      <td>0.0</td>\n",
       "      <td>2021-08-19 23:59:51+00:00</td>\n",
       "      <td>127</td>\n",
       "      <td>neutral</td>\n",
       "      <td>0.0093</td>\n",
       "      <td>0.5193</td>\n",
       "      <td>0.4714</td>\n",
       "    </tr>\n",
       "    <tr>\n",
       "      <th>2938673</th>\n",
       "      <td>1428507028067176453</td>\n",
       "      <td>2021-08-19 23:59:50+00:00</td>\n",
       "      <td>bitcoin.</td>\n",
       "      <td>NaN</td>\n",
       "      <td>0.0</td>\n",
       "      <td>0.0</td>\n",
       "      <td>0.0</td>\n",
       "      <td>Binary_Miner</td>\n",
       "      <td>1004.0</td>\n",
       "      <td>16818.0</td>\n",
       "      <td>811.0</td>\n",
       "      <td>2021-08-19 23:59:50+00:00</td>\n",
       "      <td>8</td>\n",
       "      <td>neutral</td>\n",
       "      <td>0.0811</td>\n",
       "      <td>0.7214</td>\n",
       "      <td>0.1976</td>\n",
       "    </tr>\n",
       "  </tbody>\n",
       "</table>\n",
       "</div>"
      ],
      "text/plain": [
       "                          id                       date  \\\n",
       "2938669  1428507066147262464  2021-08-19 23:59:59+00:00   \n",
       "2938670  1428507059272798210  2021-08-19 23:59:57+00:00   \n",
       "2938671  1428507058807189511  2021-08-19 23:59:57+00:00   \n",
       "2938672  1428507033649786882  2021-08-19 23:59:51+00:00   \n",
       "2938673  1428507028067176453  2021-08-19 23:59:50+00:00   \n",
       "\n",
       "                                                      text  \\\n",
       "2938669  finish this sentence: this weekend, will reach...   \n",
       "2938670  if anyone knows me, they know i'm as bullish a...   \n",
       "2938671  49.5% in this optimal portfolio and 50.5% in t...   \n",
       "2938672  🚨 +5% profit of $mana-usd in less than 9 hours...   \n",
       "2938673                                           bitcoin.   \n",
       "\n",
       "                                                  hashtags  replyCount  \\\n",
       "2938669                                        ['Bitcoin']        20.0   \n",
       "2938670                                        ['bitcoin']         0.0   \n",
       "2938671  ['Investing', 'crypto', 'cash', 'Bitcoin', 'ri...         0.0   \n",
       "2938672  ['MANA', 'BTC', 'Bitcoin', 'Crypto', 'cryptocu...         0.0   \n",
       "2938673                                                NaN         0.0   \n",
       "\n",
       "         retweetCount  likeCount        userName  userFollowerCount  \\\n",
       "2938669           1.0       27.0          Okcoin           139336.0   \n",
       "2938670           0.0        0.0           kluza              313.0   \n",
       "2938671           0.0        0.0  CryptoWatchBot             2993.0   \n",
       "2938672           0.0        0.0         torshis             1586.0   \n",
       "2938673           0.0        0.0    Binary_Miner             1004.0   \n",
       "\n",
       "         userFavCount  userFriendCount                   dateTime  textLength  \\\n",
       "2938669       15535.0            939.0  2021-08-19 23:59:59+00:00          51   \n",
       "2938670        2957.0            998.0  2021-08-19 23:59:57+00:00         269   \n",
       "2938671         215.0           2891.0  2021-08-19 23:59:57+00:00         140   \n",
       "2938672         121.0              0.0  2021-08-19 23:59:51+00:00         127   \n",
       "2938673       16818.0            811.0  2021-08-19 23:59:50+00:00           8   \n",
       "\n",
       "        prediction  negative  neutral  positive  \n",
       "2938669    neutral    0.0425   0.8850    0.0725  \n",
       "2938670    neutral    0.3460   0.5445    0.1095  \n",
       "2938671    neutral    0.0423   0.6954    0.2624  \n",
       "2938672    neutral    0.0093   0.5193    0.4714  \n",
       "2938673    neutral    0.0811   0.7214    0.1976  "
      ]
     },
     "execution_count": 29,
     "metadata": {},
     "output_type": "execute_result"
    }
   ],
   "source": [
    "sData.head()"
   ]
  },
  {
   "cell_type": "code",
   "execution_count": 30,
   "metadata": {},
   "outputs": [],
   "source": [
    "filename = '../data/interim/bitcoin_all_tweets_sentiments_20210101-20210930.csv'\n",
    "file_exists = os.path.isfile(filename)\n",
    "\n",
    "#Open/create a file to append data to\n",
    "#csvFile = open(filename, 'a', newline='', encoding='utf8')\n",
    "\n",
    "#Use csv writer\n",
    "#csvWriter = csv.writer(csvFile)\n",
    "if not file_exists:\n",
    "    sData.to_csv(filename, mode='w')\n",
    "sData.to_csv(filename, mode='a', header=False)\n",
    "#csvFile.close()"
   ]
  }
 ],
 "metadata": {
  "interpreter": {
   "hash": "aee8b7b246df8f9039afb4144a1f6fd8d2ca17a180786b69acc140d282b71a49"
  },
  "kernelspec": {
   "display_name": "Python 3.9.6 64-bit",
   "name": "python3"
  },
  "language_info": {
   "codemirror_mode": {
    "name": "ipython",
    "version": 3
   },
   "file_extension": ".py",
   "mimetype": "text/x-python",
   "name": "python",
   "nbconvert_exporter": "python",
   "pygments_lexer": "ipython3",
   "version": "3.9.6"
  },
  "orig_nbformat": 4
 },
 "nbformat": 4,
 "nbformat_minor": 2
}
