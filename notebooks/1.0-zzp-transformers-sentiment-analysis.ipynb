{
 "cells": [
  {
   "cell_type": "code",
   "execution_count": 2,
   "metadata": {},
   "outputs": [],
   "source": [
    "import numpy as np\n",
    "import pandas as pd\n",
    "from scipy.special import softmax\n",
    "import csv\n",
    "import urllib.request\n",
    "import ssl\n",
    "import certifi\n",
    "import os"
   ]
  },
  {
   "cell_type": "code",
   "execution_count": 3,
   "metadata": {},
   "outputs": [
    {
     "name": "stderr",
     "output_type": "stream",
     "text": [
      "2022-02-06 23:21:06.135254: I tensorflow/core/platform/cpu_feature_guard.cc:142] This TensorFlow binary is optimized with oneAPI Deep Neural Network Library (oneDNN) to use the following CPU instructions in performance-critical operations:  AVX2 FMA\n",
      "To enable them in other operations, rebuild TensorFlow with the appropriate compiler flags.\n",
      "All model checkpoint layers were used when initializing TFRobertaForSequenceClassification.\n",
      "\n",
      "All the layers of TFRobertaForSequenceClassification were initialized from the model checkpoint at ../models/cardiffnlp/twitter-roberta-base-sentiment.\n",
      "If your task is similar to the task the model of the checkpoint was trained on, you can already use TFRobertaForSequenceClassification for predictions without further training.\n"
     ]
    }
   ],
   "source": [
    "from transformers import AutoTokenizer, TFAutoModelForSequenceClassification\n",
    "# Tasks:\n",
    "# emoji, emotion, hate, irony, offensive, sentiment\n",
    "# stance/abortion, stance/atheism, stance/climate, stance/feminist, stance/hillary\n",
    "task='sentiment'\n",
    "MODEL = f\"cardiffnlp/twitter-roberta-base-{task}\"\n",
    "\n",
    "#tokenizer = AutoTokenizer.from_pretrained(MODEL)\n",
    "#model = TFAutoModelForSequenceClassification.from_pretrained(MODEL)\n",
    "#model.save_pretrained(save_directory='../models/' + MODEL)\n",
    "#tokenizer.save_pretrained(save_directory='../models/' + MODEL)\n",
    "\n",
    "tokenizer = AutoTokenizer.from_pretrained('../models/' + MODEL, local_files_only=True)\n",
    "model = TFAutoModelForSequenceClassification.from_pretrained('../models/' + MODEL, local_files_only=True)\n"
   ]
  },
  {
   "cell_type": "code",
   "execution_count": 4,
   "metadata": {},
   "outputs": [],
   "source": [
    "# download label mapping\n",
    "labels=[]\n",
    "task='sentiment'\n",
    "mapping_link = f\"https://raw.githubusercontent.com/cardiffnlp/tweeteval/main/datasets/{task}/mapping.txt\"\n",
    "with urllib.request.urlopen(mapping_link, context=ssl.create_default_context(cafile=certifi.where())) as f:\n",
    "    html = f.read().decode('utf-8').split(\"\\n\")\n",
    "    csvreader = csv.reader(html, delimiter='\\t')\n",
    "labels = [row[1] for row in csvreader if len(row) > 1]"
   ]
  },
  {
   "cell_type": "code",
   "execution_count": 5,
   "metadata": {},
   "outputs": [
    {
     "name": "stdout",
     "output_type": "stream",
     "text": [
      "[0.00341765 0.31853524 0.67804724]\n",
      "negative\n",
      "neutral\n",
      "positive\n"
     ]
    }
   ],
   "source": [
    "# # TF Examples\n",
    "#Yeah exactly, dxy is pumping and every thing is still green.. SPX and DJI and BTC.. struggling yeah, but not dumping though, given that bulls and bears are calling for the 38k.. 💁🏻‍♂️ So where do you see us go from here? In the next weeks and until the end of year?\n",
    "#\"I think bitcoin is really on the verge of getting broad acceptance by conventional finance people\"\n",
    "#neu1 = \"WHY CHINA’S RENEWED HARSH CRACKDOWN ON CRYPTO ISN’T STIFLING BITCOIN — AT LEAST NOT YET #bitcoin #btc\"\n",
    "#text1 = \"If Bitcoin was able to capture a $1T market cap, it's not even impossible at this point. It might take time. But there is a chance.\"\n",
    "positive = \"If SEC approves the one of the ETF’s , this will allow people and instutitional investors to buy bitcoin easier.\"\n",
    "#neg1 = \"yesterday $btc suffered the largest percentage drop in a single day since june 21st📉, falling by almost $6,000! are you buying the dip or do you think we'll see more downside? bet on the price of (⬆️ or ⬇️) with up to x1000 leverage👉:\"\n",
    "#neg2 = \"problems continue to plague el salvador's bitcoin rollout\"\n",
    "def predict(text):\n",
    "    encoded_input = tokenizer(text, return_tensors='tf')\n",
    "    output = model(encoded_input)\n",
    "    scores = output[0][0].numpy()\n",
    "    scores = softmax(scores)\n",
    "    print(scores)\n",
    "    print(labels[0])\n",
    "    print(labels[1])\n",
    "    print(labels[2])\n",
    "    \"\"\"ranking = np.argsort(scores)\n",
    "    ranking = ranking[::-1]\n",
    "    for i in range(scores.shape[0]):\n",
    "        l = labels[ranking[i]]\n",
    "        s = scores[ranking[i]]\n",
    "        print(f\"{i+1}) {l} {np.round(float(s), 4)}\")\"\"\"\n",
    "predict(positive)"
   ]
  },
  {
   "cell_type": "code",
   "execution_count": 6,
   "metadata": {},
   "outputs": [
    {
     "name": "stderr",
     "output_type": "stream",
     "text": [
      "/Library/Frameworks/Python.framework/Versions/3.9/lib/python3.9/site-packages/numpy/lib/arraysetops.py:580: FutureWarning: elementwise comparison failed; returning scalar instead, but in the future will perform elementwise comparison\n",
      "  mask |= (ar1 == a)\n"
     ]
    }
   ],
   "source": [
    "#load preprocessed dataset\n",
    "data = pd.read_csv('../data/processed/bitcoin_tweets_result_processed_20210101-20210930.csv', index_col=0)\n"
   ]
  },
  {
   "cell_type": "code",
   "execution_count": 7,
   "metadata": {},
   "outputs": [
    {
     "name": "stdout",
     "output_type": "stream",
     "text": [
      "(19936535, 13)\n",
      "<class 'pandas.core.frame.DataFrame'>\n",
      "Int64Index: 19936535 entries, 0 to 20357615\n",
      "Data columns (total 13 columns):\n",
      " #   Column             Dtype  \n",
      "---  ------             -----  \n",
      " 0   id                 int64  \n",
      " 1   date               object \n",
      " 2   text               object \n",
      " 3   hashtags           object \n",
      " 4   replyCount         float64\n",
      " 5   retweetCount       float64\n",
      " 6   likeCount          float64\n",
      " 7   userName           object \n",
      " 8   userFollowerCount  float64\n",
      " 9   userFavCount       float64\n",
      " 10  userFriendCount    float64\n",
      " 11  dateTime           object \n",
      " 12  textLength         int64  \n",
      "dtypes: float64(6), int64(2), object(5)\n",
      "memory usage: 2.1+ GB\n"
     ]
    }
   ],
   "source": [
    "print(data.shape)\n",
    "data.head()\n",
    "data.info()"
   ]
  },
  {
   "cell_type": "code",
   "execution_count": 46,
   "metadata": {},
   "outputs": [
    {
     "name": "stdout",
     "output_type": "stream",
     "text": [
      "(874811, 13)\n",
      "the number of selected texts: 874811\n",
      "estimated completion time: 38.88048888888889 hours\n"
     ]
    }
   ],
   "source": [
    "#select a slice of the dataset for prediction, based on dateTime\n",
    "#data = data.drop(['Unnamed: 0'])\n",
    "\n",
    "sData = data[(data['dateTime'] >= '2021-06-01') & (data['dateTime'] < '2021-06-10')]\n",
    "\n",
    "sData = sData.dropna(subset=['text'])\n",
    "\n",
    "print(sData[sData['text'].map(type)== str].shape) \n",
    "\n",
    "print('the number of selected texts:', sData.shape[0])\n",
    "\n",
    "print('estimated completion time:', sData.shape[0] * 0.16 / 60 / 60, 'hours')"
   ]
  },
  {
   "cell_type": "code",
   "execution_count": 47,
   "metadata": {},
   "outputs": [
    {
     "name": "stdout",
     "output_type": "stream",
     "text": [
      "error: 🦍🔥❤️🦍🔥❤️future is coming 🇨🇳🇨🇫🇨🇱🇬🇮🇯🇴🇻🇳🇿🇲🇯🇪🇹🇩🇮🇴🇻🇬🏴󠁧󠁢󠁷󠁬󠁳󠁿🏴󠁧󠁢󠁳󠁣󠁴󠁿🏴󠁧󠁢󠁥󠁮󠁧󠁿🇮🇹🇮🇳🇮🇩🇬🇧🇮🇷🇮🇶🇾🇪🇦🇲🇯🇲🇸🇬🇳🇨🇳🇿🇭🇺🇸🇾🇬🇷🇪🇭🇪🇸🇺🇿🇻🇪🇧🇳🇺🇬🇺🇦🇺🇾🇬🇹🇻🇺🇼🇫🇹🇰🇹🇲🇹🇨🇹🇹🇹🇳🇹🇻🇹🇷🇹🇴🇹🇿🇹🇭🇹🇯🇸🇻🇯🇵🇨🇭🇸🇪🇳🇺🇳🇪🇳🇵🇳🇮🇿🇦🇲🇦🇺🇸🇸🇽🇰🇷🇬🇱🇨🇴🇵🇦🇵🇷🇦🇺🇦🇮🇵🇰🇧🇷\n",
      "error: earn free crypto btc for 2 hour 20$🔋💵💸💷💴💰💸💱💲📈🏧🔞🔜🔝🔺️♾🇦🇨🇦🇩🇦🇪🇦🇫🇦🇬🇦🇮🇦🇱🇦🇲🇦🇴🇦🇶🇦🇷🇦🇸🇦🇹🇦🇺🇦🇼🇦🇽🇦🇿🇧🇦🇧🇧🇧🇩🇧🇪🇧🇫🇧🇬🇧🇭🇧🇮🇧🇯🇧🇱🇧🇲🇧🇳🇧🇴🇧🇶🇧🇷🇧🇸🇧🇹🇧🇼🇧🇾🇧🇿🇨🇦🇨🇨🇨🇩🇨🇫🇨🇬🇨🇭🇨🇮🇨🇰🇨🇱🇨🇲🇨🇳🇨🇴🇨🇷🇨🇺🇨🇻🇨🇼🇨🇽🇨🇾🇨🇿🇩🇪🇩🇯🇩🇰🇩🇲🇩🇴🇩🇿🇪🇨🇪🇪🇪🇬🇪🇭🇪🇷🇪🇸🇪🇹🇪🇺🇫🇮🇫🇯🇫🇰🇫🇲🇫🇴🇫🇷🇬🇦🇬🇧🇬🇩🇬🇪🇬🇫🇬🇬🇬🇭🇬🇮🇬🇱🇬🇲🇬🇳🇬🇵🇬🇶🇬🇷🇬🇸🇬🇹🇬🇺\n",
      "error: earn free crypto btc for 2 hour 20$🔋💵💸💷💴💰💸💱💲📈🏧🔞🔜🔝🔺️♾🇦🇨🇦🇩🇦🇪🇦🇫🇦🇬🇦🇮🇦🇱🇦🇲🇦🇴🇦🇶🇦🇷🇦🇸🇦🇹🇦🇺🇦🇼🇦🇽🇦🇿🇧🇦🇧🇧🇧🇩🇧🇪🇧🇫🇧🇬🇧🇭🇧🇮🇧🇯🇧🇱🇧🇲🇧🇳🇧🇴🇧🇶🇧🇷🇧🇸🇧🇹🇧🇼🇧🇾🇧🇿🇨🇦🇨🇨🇨🇩🇨🇫🇨🇬🇨🇭🇨🇮🇨🇰🇨🇱🇨🇲🇨🇳🇨🇴🇨🇷🇨🇺🇨🇻🇨🇼🇨🇽🇨🇾🇨🇿🇩🇪🇩🇯🇩🇰🇩🇲🇩🇴🇩🇿🇪🇨🇪🇪🇪🇬🇪🇭🇪🇷🇪🇸🇪🇹🇪🇺🇫🇮🇫🇯🇫🇰🇫🇲🇫🇴🇫🇷🇬🇦🇬🇧🇬🇩🇬🇪🇬🇫🇬🇬🇬🇭🇬🇮🇬🇱🇬🇲🇬🇳🇬🇵🇬🇶🇬🇷🇬🇸🇬🇹🇬🇺\n",
      "error: earn free crypto btc for 2 hour 20$🔋💵💸💷💴💰💸💱💲📈🏧🔞🔜🔝🔺️♾🇦🇨🇦🇩🇦🇪🇦🇫🇦🇬🇦🇮🇦🇱🇦🇲🇦🇴🇦🇶🇦🇷🇦🇸🇦🇹🇦🇺🇦🇼🇦🇽🇦🇿🇧🇦🇧🇧🇧🇩🇧🇪🇧🇫🇧🇬🇧🇭🇧🇮🇧🇯🇧🇱🇧🇲🇧🇳🇧🇴🇧🇶🇧🇷🇧🇸🇧🇹🇧🇼🇧🇾🇧🇿🇨🇦🇨🇨🇨🇩🇨🇫🇨🇬🇨🇭🇨🇮🇨🇰🇨🇱🇨🇲🇨🇳🇨🇴🇨🇷🇨🇺🇨🇻🇨🇼🇨🇽🇨🇾🇨🇿🇩🇪🇩🇯🇩🇰🇩🇲🇩🇴🇩🇿🇪🇨🇪🇪🇪🇬🇪🇭🇪🇷🇪🇸🇪🇹🇪🇺🇫🇮🇫🇯🇫🇰🇫🇲🇫🇴🇫🇷🇬🇦🇬🇧🇬🇩🇬🇪🇬🇫🇬🇬🇬🇭🇬🇮🇬🇱🇬🇲🇬🇳🇬🇵🇬🇶🇬🇷🇬🇸🇬🇹🇬🇺\n",
      "error: earn free crypto btc for 2 hour 20$🔋💵💸💷💴💰💸💱💲📈🏧🔞🔜🔝🔺️♾🇦🇨🇦🇩🇦🇪🇦🇫🇦🇬🇦🇮🇦🇱🇦🇲🇦🇴🇦🇶🇦🇷🇦🇸🇦🇹🇦🇺🇦🇼🇦🇽🇦🇿🇧🇦🇧🇧🇧🇩🇧🇪🇧🇫🇧🇬🇧🇭🇧🇮🇧🇯🇧🇱🇧🇲🇧🇳🇧🇴🇧🇶🇧🇷🇧🇸🇧🇹🇧🇼🇧🇾🇧🇿🇨🇦🇨🇨🇨🇩🇨🇫🇨🇬🇨🇭🇨🇮🇨🇰🇨🇱🇨🇲🇨🇳🇨🇴🇨🇷🇨🇺🇨🇻🇨🇼🇨🇽🇨🇾🇨🇿🇩🇪🇩🇯🇩🇰🇩🇲🇩🇴🇩🇿🇪🇨🇪🇪🇪🇬🇪🇭🇪🇷🇪🇸🇪🇹🇪🇺🇫🇮🇫🇯🇫🇰🇫🇲🇫🇴🇫🇷🇬🇦🇬🇧🇬🇩🇬🇪🇬🇫🇬🇬🇬🇭🇬🇮🇬🇱🇬🇲🇬🇳🇬🇵🇬🇶🇬🇷🇬🇸🇬🇹🇬🇺\n",
      "error: it's just a matter of time. 🇳🇮 🤙🤙🤙 🏴󠁧󠁢󠁷󠁬󠁳󠁿🏴󠁧󠁢󠁳󠁣󠁴󠁿🏴󠁧󠁢󠁥󠁮󠁧󠁿🇿🇼🇿🇲🇿🇦🇾🇹🇾🇪🇻🇨🇻🇪🇻🇬🇻🇳🇻🇺🇼🇫🇽🇰🇻🇦🇺🇾🇺🇸🇺🇳🇺🇦🇹🇿🇹🇰🇹🇲🇹🇴🇹🇹🇹🇼🇹🇯🇹🇬🇹🇫🇹🇩🇹🇦🇸🇾🇸🇽🇸🇹🇸🇸🇸🇴🇸🇲🇸🇱🇸🇨🇸🇪🇸🇬🇸🇯🇸🇰🇸🇦🇷🇺🇷🇴🇷🇪🇵🇾🇵🇬🇵🇱🇵🇳🇵🇸🇵🇹🇵🇪🇵🇦🇳🇿🇳🇺🇳🇵🇳🇱🇳🇬🇳🇪🇳🇦🇲🇿🇲🇵🇲🇷🇲🇸🇲🇺🇲🇻🇲🇽🇲🇴🇲🇱🇲🇭🇲🇬🇲🇪🇱🇸🇱🇷🇱🇾🇲🇨🇲🇩🇱🇰🇱🇨🇱🇦🇰🇿🇰🇼🇰🇵🇰🇬🇯🇵🇯🇴🇮🇴🇮🇷🇮🇹🇯🇪🇮🇱🇮🇪🇮🇨🇭🇺🇭🇷.....\n"
     ]
    }
   ],
   "source": [
    "#apply prediction on texts\n",
    "def predict(text):\n",
    "    try:\n",
    "        encoded_input = tokenizer(text, return_tensors='tf')\n",
    "        output = model(encoded_input)\n",
    "        scores = output[0][0].numpy()\n",
    "        scores = softmax(scores)\n",
    "        negative = np.round(float(scores[0]), 4)\n",
    "        neutral = np.round(float(scores[1]), 4)\n",
    "        positive = np.round(float(scores[2]), 4)\n",
    "        ranking = np.argsort(scores)\n",
    "        ranking = ranking[::-1]\n",
    "        prediction = labels[ranking[0]]\n",
    "        #score = scores[ranking[0]]\n",
    "        #confidence = np.round(float(score), 4)\n",
    "        return pd.Series([prediction, negative, neutral, positive])\n",
    "    except:\n",
    "        print('error:', text)\n",
    "        return pd.Series(['unknown', 0,0,0])\n",
    "\n",
    "#btcdata['sentiment'] = btcdata['text'].apply(lambda x: x.lower())\n",
    "sData[['prediction','negative', 'neutral', 'positive']] = sData['text'].apply(lambda x: predict(x))"
   ]
  },
  {
   "cell_type": "code",
   "execution_count": 49,
   "metadata": {},
   "outputs": [
    {
     "data": {
      "text/html": [
       "<div>\n",
       "<style scoped>\n",
       "    .dataframe tbody tr th:only-of-type {\n",
       "        vertical-align: middle;\n",
       "    }\n",
       "\n",
       "    .dataframe tbody tr th {\n",
       "        vertical-align: top;\n",
       "    }\n",
       "\n",
       "    .dataframe thead th {\n",
       "        text-align: right;\n",
       "    }\n",
       "</style>\n",
       "<table border=\"1\" class=\"dataframe\">\n",
       "  <thead>\n",
       "    <tr style=\"text-align: right;\">\n",
       "      <th></th>\n",
       "      <th>id</th>\n",
       "      <th>date</th>\n",
       "      <th>text</th>\n",
       "      <th>hashtags</th>\n",
       "      <th>replyCount</th>\n",
       "      <th>retweetCount</th>\n",
       "      <th>likeCount</th>\n",
       "      <th>userName</th>\n",
       "      <th>userFollowerCount</th>\n",
       "      <th>userFavCount</th>\n",
       "      <th>userFriendCount</th>\n",
       "      <th>dateTime</th>\n",
       "      <th>textLength</th>\n",
       "      <th>prediction</th>\n",
       "      <th>negative</th>\n",
       "      <th>neutral</th>\n",
       "      <th>positive</th>\n",
       "    </tr>\n",
       "  </thead>\n",
       "  <tbody>\n",
       "    <tr>\n",
       "      <th>7860747</th>\n",
       "      <td>1402578286505611264</td>\n",
       "      <td>2021-06-09 10:48:16+00:00</td>\n",
       "      <td>on purchases over $25 at</td>\n",
       "      <td>['tumblr', 'twitter', 'facebook', 'instagram',...</td>\n",
       "      <td>0.0</td>\n",
       "      <td>0.0</td>\n",
       "      <td>0.0</td>\n",
       "      <td>brettmurphynet</td>\n",
       "      <td>296.0</td>\n",
       "      <td>33.0</td>\n",
       "      <td>301.0</td>\n",
       "      <td>2021-06-09 10:48:16+00:00</td>\n",
       "      <td>24</td>\n",
       "      <td>neutral</td>\n",
       "      <td>0.1458</td>\n",
       "      <td>0.8074</td>\n",
       "      <td>0.0468</td>\n",
       "    </tr>\n",
       "    <tr>\n",
       "      <th>7860749</th>\n",
       "      <td>1402777529258237952</td>\n",
       "      <td>2021-06-09 23:59:59+00:00</td>\n",
       "      <td>the new episode of, what's on tap? is now live...</td>\n",
       "      <td>['Bitcoin']</td>\n",
       "      <td>0.0</td>\n",
       "      <td>0.0</td>\n",
       "      <td>1.0</td>\n",
       "      <td>blockchainRI</td>\n",
       "      <td>8208.0</td>\n",
       "      <td>1305.0</td>\n",
       "      <td>1337.0</td>\n",
       "      <td>2021-06-09 23:59:59+00:00</td>\n",
       "      <td>137</td>\n",
       "      <td>neutral</td>\n",
       "      <td>0.0086</td>\n",
       "      <td>0.8713</td>\n",
       "      <td>0.1201</td>\n",
       "    </tr>\n",
       "    <tr>\n",
       "      <th>7860750</th>\n",
       "      <td>1402777525021855746</td>\n",
       "      <td>2021-06-09 23:59:58+00:00</td>\n",
       "      <td>you can buy a fraction of a bitcoin. personall...</td>\n",
       "      <td>NaN</td>\n",
       "      <td>3.0</td>\n",
       "      <td>1.0</td>\n",
       "      <td>12.0</td>\n",
       "      <td>jespow</td>\n",
       "      <td>77392.0</td>\n",
       "      <td>19774.0</td>\n",
       "      <td>2968.0</td>\n",
       "      <td>2021-06-09 23:59:58+00:00</td>\n",
       "      <td>166</td>\n",
       "      <td>positive</td>\n",
       "      <td>0.0098</td>\n",
       "      <td>0.2315</td>\n",
       "      <td>0.7586</td>\n",
       "    </tr>\n",
       "    <tr>\n",
       "      <th>7860751</th>\n",
       "      <td>1402777524816465921</td>\n",
       "      <td>2021-06-09 23:59:58+00:00</td>\n",
       "      <td>i think in future elections bitcoin and crypto...</td>\n",
       "      <td>NaN</td>\n",
       "      <td>0.0</td>\n",
       "      <td>0.0</td>\n",
       "      <td>0.0</td>\n",
       "      <td>IrishVoluntary1</td>\n",
       "      <td>845.0</td>\n",
       "      <td>16522.0</td>\n",
       "      <td>1705.0</td>\n",
       "      <td>2021-06-09 23:59:58+00:00</td>\n",
       "      <td>195</td>\n",
       "      <td>neutral</td>\n",
       "      <td>0.0771</td>\n",
       "      <td>0.5888</td>\n",
       "      <td>0.3341</td>\n",
       "    </tr>\n",
       "    <tr>\n",
       "      <th>7860752</th>\n",
       "      <td>1402777523264442369</td>\n",
       "      <td>2021-06-09 23:59:58+00:00</td>\n",
       "      <td>bitcoin is classist. look at the transaction f...</td>\n",
       "      <td>NaN</td>\n",
       "      <td>0.0</td>\n",
       "      <td>0.0</td>\n",
       "      <td>0.0</td>\n",
       "      <td>bubbles3805</td>\n",
       "      <td>116.0</td>\n",
       "      <td>3624.0</td>\n",
       "      <td>149.0</td>\n",
       "      <td>2021-06-09 23:59:58+00:00</td>\n",
       "      <td>50</td>\n",
       "      <td>negative</td>\n",
       "      <td>0.8402</td>\n",
       "      <td>0.1487</td>\n",
       "      <td>0.0111</td>\n",
       "    </tr>\n",
       "  </tbody>\n",
       "</table>\n",
       "</div>"
      ],
      "text/plain": [
       "                          id                       date  \\\n",
       "7860747  1402578286505611264  2021-06-09 10:48:16+00:00   \n",
       "7860749  1402777529258237952  2021-06-09 23:59:59+00:00   \n",
       "7860750  1402777525021855746  2021-06-09 23:59:58+00:00   \n",
       "7860751  1402777524816465921  2021-06-09 23:59:58+00:00   \n",
       "7860752  1402777523264442369  2021-06-09 23:59:58+00:00   \n",
       "\n",
       "                                                      text  \\\n",
       "7860747                           on purchases over $25 at   \n",
       "7860749  the new episode of, what's on tap? is now live...   \n",
       "7860750  you can buy a fraction of a bitcoin. personall...   \n",
       "7860751  i think in future elections bitcoin and crypto...   \n",
       "7860752  bitcoin is classist. look at the transaction f...   \n",
       "\n",
       "                                                  hashtags  replyCount  \\\n",
       "7860747  ['tumblr', 'twitter', 'facebook', 'instagram',...         0.0   \n",
       "7860749                                        ['Bitcoin']         0.0   \n",
       "7860750                                                NaN         3.0   \n",
       "7860751                                                NaN         0.0   \n",
       "7860752                                                NaN         0.0   \n",
       "\n",
       "         retweetCount  likeCount         userName  userFollowerCount  \\\n",
       "7860747           0.0        0.0   brettmurphynet              296.0   \n",
       "7860749           0.0        1.0     blockchainRI             8208.0   \n",
       "7860750           1.0       12.0           jespow            77392.0   \n",
       "7860751           0.0        0.0  IrishVoluntary1              845.0   \n",
       "7860752           0.0        0.0      bubbles3805              116.0   \n",
       "\n",
       "         userFavCount  userFriendCount                   dateTime  textLength  \\\n",
       "7860747          33.0            301.0  2021-06-09 10:48:16+00:00          24   \n",
       "7860749        1305.0           1337.0  2021-06-09 23:59:59+00:00         137   \n",
       "7860750       19774.0           2968.0  2021-06-09 23:59:58+00:00         166   \n",
       "7860751       16522.0           1705.0  2021-06-09 23:59:58+00:00         195   \n",
       "7860752        3624.0            149.0  2021-06-09 23:59:58+00:00          50   \n",
       "\n",
       "        prediction  negative  neutral  positive  \n",
       "7860747    neutral    0.1458   0.8074    0.0468  \n",
       "7860749    neutral    0.0086   0.8713    0.1201  \n",
       "7860750   positive    0.0098   0.2315    0.7586  \n",
       "7860751    neutral    0.0771   0.5888    0.3341  \n",
       "7860752   negative    0.8402   0.1487    0.0111  "
      ]
     },
     "execution_count": 49,
     "metadata": {},
     "output_type": "execute_result"
    }
   ],
   "source": [
    "sData.head()"
   ]
  },
  {
   "cell_type": "code",
   "execution_count": 50,
   "metadata": {},
   "outputs": [],
   "source": [
    "filename = '../data/interim/bitcoin_all_tweets_sentiments_20210101-20210930.csv'\n",
    "file_exists = os.path.isfile(filename)\n",
    "\n",
    "#Open/create a file to append data to\n",
    "#csvFile = open(filename, 'a', newline='', encoding='utf8')\n",
    "\n",
    "#Use csv writer\n",
    "#csvWriter = csv.writer(csvFile)\n",
    "if not file_exists:\n",
    "    sData.to_csv(filename, mode='w')\n",
    "sData.to_csv(filename, mode='a', header=False)\n",
    "#csvFile.close()"
   ]
  }
 ],
 "metadata": {
  "interpreter": {
   "hash": "aee8b7b246df8f9039afb4144a1f6fd8d2ca17a180786b69acc140d282b71a49"
  },
  "kernelspec": {
   "display_name": "Python 3.9.6 64-bit",
   "name": "python3"
  },
  "language_info": {
   "codemirror_mode": {
    "name": "ipython",
    "version": 3
   },
   "file_extension": ".py",
   "mimetype": "text/x-python",
   "name": "python",
   "nbconvert_exporter": "python",
   "pygments_lexer": "ipython3",
   "version": "3.9.6"
  },
  "orig_nbformat": 4
 },
 "nbformat": 4,
 "nbformat_minor": 2
}
