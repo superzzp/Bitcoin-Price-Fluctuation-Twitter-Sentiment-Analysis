{
 "cells": [
  {
   "cell_type": "code",
   "execution_count": 7,
   "source": [
    "import numpy as np\n",
    "import pandas as pd\n",
    "from scipy.special import softmax\n",
    "import csv\n",
    "import urllib.request\n",
    "import ssl\n",
    "import certifi"
   ],
   "outputs": [],
   "metadata": {}
  },
  {
   "cell_type": "code",
   "execution_count": 10,
   "source": [
    "from transformers import AutoTokenizer, TFAutoModelForSequenceClassification\n",
    "# Tasks:\n",
    "# emoji, emotion, hate, irony, offensive, sentiment\n",
    "# stance/abortion, stance/atheism, stance/climate, stance/feminist, stance/hillary\n",
    "task='sentiment'\n",
    "MODEL = f\"cardiffnlp/twitter-roberta-base-{task}\"\n",
    "\n",
    "#tokenizer = AutoTokenizer.from_pretrained(MODEL)\n",
    "#model = TFAutoModelForSequenceClassification.from_pretrained(MODEL)\n",
    "#model.save_pretrained(save_directory='../models/' + MODEL)\n",
    "#tokenizer.save_pretrained(save_directory='../models/' + MODEL)\n",
    "\n",
    "tokenizer = AutoTokenizer.from_pretrained('../models/' + MODEL, local_files_only=True)\n",
    "model = TFAutoModelForSequenceClassification.from_pretrained('../models/' + MODEL, local_files_only=True)\n"
   ],
   "outputs": [
    {
     "output_type": "stream",
     "name": "stderr",
     "text": [
      "All model checkpoint layers were used when initializing TFRobertaForSequenceClassification.\n",
      "\n",
      "All the layers of TFRobertaForSequenceClassification were initialized from the model checkpoint at ../models/cardiffnlp/twitter-roberta-base-sentiment.\n",
      "If your task is similar to the task the model of the checkpoint was trained on, you can already use TFRobertaForSequenceClassification for predictions without further training.\n"
     ]
    }
   ],
   "metadata": {}
  },
  {
   "cell_type": "code",
   "execution_count": 11,
   "source": [
    "# download label mapping\n",
    "labels=[]\n",
    "task='sentiment'\n",
    "mapping_link = f\"https://raw.githubusercontent.com/cardiffnlp/tweeteval/main/datasets/{task}/mapping.txt\"\n",
    "with urllib.request.urlopen(mapping_link, context=ssl.create_default_context(cafile=certifi.where())) as f:\n",
    "    html = f.read().decode('utf-8').split(\"\\n\")\n",
    "    csvreader = csv.reader(html, delimiter='\\t')\n",
    "labels = [row[1] for row in csvreader if len(row) > 1]"
   ],
   "outputs": [],
   "metadata": {}
  },
  {
   "cell_type": "code",
   "execution_count": 12,
   "source": [
    "# # TF Examples\n",
    "#Yeah exactly, dxy is pumping and every thing is still green.. SPX and DJI and BTC.. struggling yeah, but not dumping though, given that bulls and bears are calling for the 38k.. 💁🏻‍♂️ So where do you see us go from here? In the next weeks and until the end of year?\n",
    "#\"I think bitcoin is really on the verge of getting broad acceptance by conventional finance people\"\n",
    "#\"WHY CHINA’S RENEWED HARSH CRACKDOWN ON CRYPTO ISN’T STIFLING BITCOIN — AT LEAST NOT YET #bitcoin #btc\"\n",
    "text1 = \"If Bitcoin was able to capture a $1T market cap, it's not even impossible at this point. It might take time. But there is a chance.\"\n",
    "text = \"If SEC approves the one of the ETF’s , this will allow people and instutitional investors to buy bitcoin easier.\"\n",
    "def predict(text):\n",
    "    encoded_input = tokenizer(text, return_tensors='tf')\n",
    "    output = model(encoded_input)\n",
    "    scores = output[0][0].numpy()\n",
    "    scores = softmax(scores)\n",
    "    ranking = np.argsort(scores)\n",
    "    ranking = ranking[::-1]\n",
    "    for i in range(scores.shape[0]):\n",
    "        l = labels[ranking[i]]\n",
    "        s = scores[ranking[i]]\n",
    "        print(f\"{i+1}) {l} {np.round(float(s), 4)}\")\n",
    "predict(text1)"
   ],
   "outputs": [
    {
     "output_type": "stream",
     "name": "stdout",
     "text": [
      "1) positive 0.6832\n",
      "2) neutral 0.3055\n",
      "3) negative 0.0113\n"
     ]
    }
   ],
   "metadata": {}
  },
  {
   "cell_type": "code",
   "execution_count": 13,
   "source": [
    "#load preprocessed dataset with text to predict\n",
    "data = pd.read_csv('../data/interim/sample_bitcoin_tweets_ten_each_day.csv')\n",
    "data.shape"
   ],
   "outputs": [
    {
     "output_type": "execute_result",
     "data": {
      "text/plain": [
       "(310, 15)"
      ]
     },
     "metadata": {},
     "execution_count": 13
    }
   ],
   "metadata": {}
  },
  {
   "cell_type": "code",
   "execution_count": 15,
   "source": [
    "#apply prediction on texts\n",
    "def predict(text):\n",
    "    encoded_input = tokenizer(text, return_tensors='tf')\n",
    "    output = model(encoded_input)\n",
    "    scores = output[0][0].numpy()\n",
    "    scores = softmax(scores)\n",
    "    ranking = np.argsort(scores)\n",
    "    ranking = ranking[::-1]\n",
    "    prediction = labels[ranking[0]]\n",
    "    score = scores[ranking[0]]\n",
    "    confidence = np.round(float(score), 4)\n",
    "    return pd.Series([prediction, confidence])\n",
    "\n",
    "#btcdata['sentiment'] = btcdata['text'].apply(lambda x: x.lower())\n",
    "data[['prediction','confidence']] = data['text'].apply(lambda x: predict(x))"
   ],
   "outputs": [],
   "metadata": {}
  },
  {
   "cell_type": "code",
   "execution_count": 16,
   "source": [
    "data.head()"
   ],
   "outputs": [
    {
     "output_type": "execute_result",
     "data": {
      "text/html": [
       "<div>\n",
       "<style scoped>\n",
       "    .dataframe tbody tr th:only-of-type {\n",
       "        vertical-align: middle;\n",
       "    }\n",
       "\n",
       "    .dataframe tbody tr th {\n",
       "        vertical-align: top;\n",
       "    }\n",
       "\n",
       "    .dataframe thead th {\n",
       "        text-align: right;\n",
       "    }\n",
       "</style>\n",
       "<table border=\"1\" class=\"dataframe\">\n",
       "  <thead>\n",
       "    <tr style=\"text-align: right;\">\n",
       "      <th></th>\n",
       "      <th>dateTime</th>\n",
       "      <th>Unnamed: 1</th>\n",
       "      <th>id</th>\n",
       "      <th>date</th>\n",
       "      <th>text</th>\n",
       "      <th>hashtags</th>\n",
       "      <th>replyCount</th>\n",
       "      <th>retweetCount</th>\n",
       "      <th>likeCount</th>\n",
       "      <th>userName</th>\n",
       "      <th>userFollowerCount</th>\n",
       "      <th>userFavCount</th>\n",
       "      <th>userFriendCount</th>\n",
       "      <th>dateTime.1</th>\n",
       "      <th>textLength</th>\n",
       "      <th>prediction</th>\n",
       "      <th>confidence</th>\n",
       "    </tr>\n",
       "  </thead>\n",
       "  <tbody>\n",
       "    <tr>\n",
       "      <th>0</th>\n",
       "      <td>1</td>\n",
       "      <td>877320</td>\n",
       "      <td>1.432983e+18</td>\n",
       "      <td>2021-09-01 08:24:57+00:00</td>\n",
       "      <td>keep putting money into your pension, everythi...</td>\n",
       "      <td>['Bitcoin', 'FoxBusiness']</td>\n",
       "      <td>0.0</td>\n",
       "      <td>0.0</td>\n",
       "      <td>1.0</td>\n",
       "      <td>Alberto62316949</td>\n",
       "      <td>55.0</td>\n",
       "      <td>819.0</td>\n",
       "      <td>225.0</td>\n",
       "      <td>2021-09-01 08:24:57+00:00</td>\n",
       "      <td>161</td>\n",
       "      <td>neutral</td>\n",
       "      <td>0.4586</td>\n",
       "    </tr>\n",
       "    <tr>\n",
       "      <th>1</th>\n",
       "      <td>1</td>\n",
       "      <td>1620664</td>\n",
       "      <td>1.421888e+18</td>\n",
       "      <td>2021-08-01 17:37:21+00:00</td>\n",
       "      <td>the divine line “bitcoin/cryptocurrency is for...</td>\n",
       "      <td>['crypto', 'btc', 'bitcoin', 'bnb', 'bsc', 'cr...</td>\n",
       "      <td>0.0</td>\n",
       "      <td>0.0</td>\n",
       "      <td>1.0</td>\n",
       "      <td>Bbcryptonews</td>\n",
       "      <td>563.0</td>\n",
       "      <td>422.0</td>\n",
       "      <td>1357.0</td>\n",
       "      <td>2021-08-01 17:37:21+00:00</td>\n",
       "      <td>149</td>\n",
       "      <td>neutral</td>\n",
       "      <td>0.5688</td>\n",
       "    </tr>\n",
       "    <tr>\n",
       "      <th>2</th>\n",
       "      <td>1</td>\n",
       "      <td>863024</td>\n",
       "      <td>1.433146e+18</td>\n",
       "      <td>2021-09-01 19:15:14+00:00</td>\n",
       "      <td>shop &amp;amp;</td>\n",
       "      <td>['linkedin', 'twitter', 'facebook', 'instagram...</td>\n",
       "      <td>0.0</td>\n",
       "      <td>1.0</td>\n",
       "      <td>0.0</td>\n",
       "      <td>bmurphypointman</td>\n",
       "      <td>71127.0</td>\n",
       "      <td>24.0</td>\n",
       "      <td>12210.0</td>\n",
       "      <td>2021-09-01 19:15:14+00:00</td>\n",
       "      <td>10</td>\n",
       "      <td>neutral</td>\n",
       "      <td>0.7449</td>\n",
       "    </tr>\n",
       "    <tr>\n",
       "      <th>3</th>\n",
       "      <td>1</td>\n",
       "      <td>872346</td>\n",
       "      <td>1.433054e+18</td>\n",
       "      <td>2021-09-01 13:08:46+00:00</td>\n",
       "      <td>gm fam. breaking $50k today. 👊 send it</td>\n",
       "      <td>['bitcoin']</td>\n",
       "      <td>12.0</td>\n",
       "      <td>6.0</td>\n",
       "      <td>127.0</td>\n",
       "      <td>kailybuemi</td>\n",
       "      <td>5966.0</td>\n",
       "      <td>9010.0</td>\n",
       "      <td>1128.0</td>\n",
       "      <td>2021-09-01 13:08:46+00:00</td>\n",
       "      <td>38</td>\n",
       "      <td>positive</td>\n",
       "      <td>0.6983</td>\n",
       "    </tr>\n",
       "    <tr>\n",
       "      <th>4</th>\n",
       "      <td>1</td>\n",
       "      <td>877074</td>\n",
       "      <td>1.432987e+18</td>\n",
       "      <td>2021-09-01 08:42:12+00:00</td>\n",
       "      <td>delegates from el salvador's finance commissio...</td>\n",
       "      <td>['Bitcoin', 'ElSalvador']</td>\n",
       "      <td>0.0</td>\n",
       "      <td>0.0</td>\n",
       "      <td>2.0</td>\n",
       "      <td>CryptoManiacs10</td>\n",
       "      <td>521.0</td>\n",
       "      <td>1045.0</td>\n",
       "      <td>108.0</td>\n",
       "      <td>2021-09-01 08:42:12+00:00</td>\n",
       "      <td>219</td>\n",
       "      <td>positive</td>\n",
       "      <td>0.7327</td>\n",
       "    </tr>\n",
       "  </tbody>\n",
       "</table>\n",
       "</div>"
      ],
      "text/plain": [
       "   dateTime  Unnamed: 1            id                       date  \\\n",
       "0         1      877320  1.432983e+18  2021-09-01 08:24:57+00:00   \n",
       "1         1     1620664  1.421888e+18  2021-08-01 17:37:21+00:00   \n",
       "2         1      863024  1.433146e+18  2021-09-01 19:15:14+00:00   \n",
       "3         1      872346  1.433054e+18  2021-09-01 13:08:46+00:00   \n",
       "4         1      877074  1.432987e+18  2021-09-01 08:42:12+00:00   \n",
       "\n",
       "                                                text  \\\n",
       "0  keep putting money into your pension, everythi...   \n",
       "1  the divine line “bitcoin/cryptocurrency is for...   \n",
       "2                                         shop &amp;   \n",
       "3             gm fam. breaking $50k today. 👊 send it   \n",
       "4  delegates from el salvador's finance commissio...   \n",
       "\n",
       "                                            hashtags  replyCount  \\\n",
       "0                         ['Bitcoin', 'FoxBusiness']         0.0   \n",
       "1  ['crypto', 'btc', 'bitcoin', 'bnb', 'bsc', 'cr...         0.0   \n",
       "2  ['linkedin', 'twitter', 'facebook', 'instagram...         0.0   \n",
       "3                                        ['bitcoin']        12.0   \n",
       "4                          ['Bitcoin', 'ElSalvador']         0.0   \n",
       "\n",
       "   retweetCount  likeCount         userName  userFollowerCount  userFavCount  \\\n",
       "0           0.0        1.0  Alberto62316949               55.0         819.0   \n",
       "1           0.0        1.0     Bbcryptonews              563.0         422.0   \n",
       "2           1.0        0.0  bmurphypointman            71127.0          24.0   \n",
       "3           6.0      127.0       kailybuemi             5966.0        9010.0   \n",
       "4           0.0        2.0  CryptoManiacs10              521.0        1045.0   \n",
       "\n",
       "   userFriendCount                 dateTime.1  textLength prediction  \\\n",
       "0            225.0  2021-09-01 08:24:57+00:00         161    neutral   \n",
       "1           1357.0  2021-08-01 17:37:21+00:00         149    neutral   \n",
       "2          12210.0  2021-09-01 19:15:14+00:00          10    neutral   \n",
       "3           1128.0  2021-09-01 13:08:46+00:00          38   positive   \n",
       "4            108.0  2021-09-01 08:42:12+00:00         219   positive   \n",
       "\n",
       "   confidence  \n",
       "0      0.4586  \n",
       "1      0.5688  \n",
       "2      0.7449  \n",
       "3      0.6983  \n",
       "4      0.7327  "
      ]
     },
     "metadata": {},
     "execution_count": 16
    }
   ],
   "metadata": {}
  },
  {
   "cell_type": "code",
   "execution_count": 17,
   "source": [
    "data[['text','prediction','confidence']].to_csv('../data/interim/sample_bitcoin_tweets_ten_each_day_prediction.csv')"
   ],
   "outputs": [],
   "metadata": {}
  }
 ],
 "metadata": {
  "orig_nbformat": 4,
  "language_info": {
   "name": "python",
   "version": "3.9.6",
   "mimetype": "text/x-python",
   "codemirror_mode": {
    "name": "ipython",
    "version": 3
   },
   "pygments_lexer": "ipython3",
   "nbconvert_exporter": "python",
   "file_extension": ".py"
  },
  "kernelspec": {
   "name": "python3",
   "display_name": "Python 3.9.6 64-bit"
  },
  "interpreter": {
   "hash": "aee8b7b246df8f9039afb4144a1f6fd8d2ca17a180786b69acc140d282b71a49"
  }
 },
 "nbformat": 4,
 "nbformat_minor": 2
}