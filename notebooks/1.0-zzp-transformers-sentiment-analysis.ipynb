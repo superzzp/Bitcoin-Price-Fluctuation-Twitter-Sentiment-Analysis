{
 "cells": [
  {
   "cell_type": "code",
   "execution_count": 2,
   "metadata": {},
   "outputs": [],
   "source": [
    "import numpy as np\n",
    "import pandas as pd\n",
    "from scipy.special import softmax\n",
    "import csv\n",
    "import urllib.request\n",
    "import ssl\n",
    "import certifi\n",
    "import os"
   ]
  },
  {
   "cell_type": "code",
   "execution_count": 3,
   "metadata": {},
   "outputs": [
    {
     "name": "stderr",
     "output_type": "stream",
     "text": [
      "2022-02-06 23:21:06.135254: I tensorflow/core/platform/cpu_feature_guard.cc:142] This TensorFlow binary is optimized with oneAPI Deep Neural Network Library (oneDNN) to use the following CPU instructions in performance-critical operations:  AVX2 FMA\n",
      "To enable them in other operations, rebuild TensorFlow with the appropriate compiler flags.\n",
      "All model checkpoint layers were used when initializing TFRobertaForSequenceClassification.\n",
      "\n",
      "All the layers of TFRobertaForSequenceClassification were initialized from the model checkpoint at ../models/cardiffnlp/twitter-roberta-base-sentiment.\n",
      "If your task is similar to the task the model of the checkpoint was trained on, you can already use TFRobertaForSequenceClassification for predictions without further training.\n"
     ]
    }
   ],
   "source": [
    "from transformers import AutoTokenizer, TFAutoModelForSequenceClassification\n",
    "# Tasks:\n",
    "# emoji, emotion, hate, irony, offensive, sentiment\n",
    "# stance/abortion, stance/atheism, stance/climate, stance/feminist, stance/hillary\n",
    "task='sentiment'\n",
    "MODEL = f\"cardiffnlp/twitter-roberta-base-{task}\"\n",
    "\n",
    "#tokenizer = AutoTokenizer.from_pretrained(MODEL)\n",
    "#model = TFAutoModelForSequenceClassification.from_pretrained(MODEL)\n",
    "#model.save_pretrained(save_directory='../models/' + MODEL)\n",
    "#tokenizer.save_pretrained(save_directory='../models/' + MODEL)\n",
    "\n",
    "tokenizer = AutoTokenizer.from_pretrained('../models/' + MODEL, local_files_only=True)\n",
    "model = TFAutoModelForSequenceClassification.from_pretrained('../models/' + MODEL, local_files_only=True)\n"
   ]
  },
  {
   "cell_type": "code",
   "execution_count": 4,
   "metadata": {},
   "outputs": [],
   "source": [
    "# download label mapping\n",
    "labels=[]\n",
    "task='sentiment'\n",
    "mapping_link = f\"https://raw.githubusercontent.com/cardiffnlp/tweeteval/main/datasets/{task}/mapping.txt\"\n",
    "with urllib.request.urlopen(mapping_link, context=ssl.create_default_context(cafile=certifi.where())) as f:\n",
    "    html = f.read().decode('utf-8').split(\"\\n\")\n",
    "    csvreader = csv.reader(html, delimiter='\\t')\n",
    "labels = [row[1] for row in csvreader if len(row) > 1]"
   ]
  },
  {
   "cell_type": "code",
   "execution_count": 5,
   "metadata": {},
   "outputs": [
    {
     "name": "stdout",
     "output_type": "stream",
     "text": [
      "[0.00341765 0.31853524 0.67804724]\n",
      "negative\n",
      "neutral\n",
      "positive\n"
     ]
    }
   ],
   "source": [
    "# # TF Examples\n",
    "#Yeah exactly, dxy is pumping and every thing is still green.. SPX and DJI and BTC.. struggling yeah, but not dumping though, given that bulls and bears are calling for the 38k.. 💁🏻‍♂️ So where do you see us go from here? In the next weeks and until the end of year?\n",
    "#\"I think bitcoin is really on the verge of getting broad acceptance by conventional finance people\"\n",
    "#neu1 = \"WHY CHINA’S RENEWED HARSH CRACKDOWN ON CRYPTO ISN’T STIFLING BITCOIN — AT LEAST NOT YET #bitcoin #btc\"\n",
    "#text1 = \"If Bitcoin was able to capture a $1T market cap, it's not even impossible at this point. It might take time. But there is a chance.\"\n",
    "positive = \"If SEC approves the one of the ETF’s , this will allow people and instutitional investors to buy bitcoin easier.\"\n",
    "#neg1 = \"yesterday $btc suffered the largest percentage drop in a single day since june 21st📉, falling by almost $6,000! are you buying the dip or do you think we'll see more downside? bet on the price of (⬆️ or ⬇️) with up to x1000 leverage👉:\"\n",
    "#neg2 = \"problems continue to plague el salvador's bitcoin rollout\"\n",
    "def predict(text):\n",
    "    encoded_input = tokenizer(text, return_tensors='tf')\n",
    "    output = model(encoded_input)\n",
    "    scores = output[0][0].numpy()\n",
    "    scores = softmax(scores)\n",
    "    print(scores)\n",
    "    print(labels[0])\n",
    "    print(labels[1])\n",
    "    print(labels[2])\n",
    "    \"\"\"ranking = np.argsort(scores)\n",
    "    ranking = ranking[::-1]\n",
    "    for i in range(scores.shape[0]):\n",
    "        l = labels[ranking[i]]\n",
    "        s = scores[ranking[i]]\n",
    "        print(f\"{i+1}) {l} {np.round(float(s), 4)}\")\"\"\"\n",
    "predict(positive)"
   ]
  },
  {
   "cell_type": "code",
   "execution_count": 6,
   "metadata": {},
   "outputs": [
    {
     "name": "stderr",
     "output_type": "stream",
     "text": [
      "/Library/Frameworks/Python.framework/Versions/3.9/lib/python3.9/site-packages/numpy/lib/arraysetops.py:580: FutureWarning: elementwise comparison failed; returning scalar instead, but in the future will perform elementwise comparison\n",
      "  mask |= (ar1 == a)\n"
     ]
    }
   ],
   "source": [
    "#load preprocessed dataset\n",
    "data = pd.read_csv('../data/processed/bitcoin_tweets_result_processed_20210101-20210930.csv', index_col=0)\n"
   ]
  },
  {
   "cell_type": "code",
   "execution_count": 7,
   "metadata": {},
   "outputs": [
    {
     "name": "stdout",
     "output_type": "stream",
     "text": [
      "(19936535, 13)\n",
      "<class 'pandas.core.frame.DataFrame'>\n",
      "Int64Index: 19936535 entries, 0 to 20357615\n",
      "Data columns (total 13 columns):\n",
      " #   Column             Dtype  \n",
      "---  ------             -----  \n",
      " 0   id                 int64  \n",
      " 1   date               object \n",
      " 2   text               object \n",
      " 3   hashtags           object \n",
      " 4   replyCount         float64\n",
      " 5   retweetCount       float64\n",
      " 6   likeCount          float64\n",
      " 7   userName           object \n",
      " 8   userFollowerCount  float64\n",
      " 9   userFavCount       float64\n",
      " 10  userFriendCount    float64\n",
      " 11  dateTime           object \n",
      " 12  textLength         int64  \n",
      "dtypes: float64(6), int64(2), object(5)\n",
      "memory usage: 2.1+ GB\n"
     ]
    }
   ],
   "source": [
    "print(data.shape)\n",
    "data.head()\n",
    "data.info()"
   ]
  },
  {
   "cell_type": "code",
   "execution_count": 41,
   "metadata": {},
   "outputs": [
    {
     "name": "stdout",
     "output_type": "stream",
     "text": [
      "(1723259, 13)\n",
      "the number of selected texts: 1723259\n",
      "estimated completion time: 76.58928888888889 hours\n"
     ]
    }
   ],
   "source": [
    "#select a slice of the dataset for prediction, based on dateTime\n",
    "#data = data.drop(['Unnamed: 0'])\n",
    "\n",
    "sData = data[(data['dateTime'] >= '2021-06-10') & (data['dateTime'] < '2021-07-01')]\n",
    "\n",
    "sData = sData.dropna(subset=['text'])\n",
    "\n",
    "print(sData[sData['text'].map(type)== str].shape) \n",
    "\n",
    "print('the number of selected texts:', sData.shape[0])\n",
    "\n",
    "print('estimated completion time:', sData.shape[0] * 0.16 / 60 / 60, 'hours')"
   ]
  },
  {
   "cell_type": "code",
   "execution_count": 42,
   "metadata": {},
   "outputs": [
    {
     "name": "stdout",
     "output_type": "stream",
     "text": [
      "error: if u seelove ur 🇦🇪🇦🇷🇦🇺🇧🇬🇧🇪🇧🇩🇧🇱🇧🇧🇧🇦🇧🇯🇧🇳🇧🇲🇧🇴🇧🇶🇧🇷🇧🇸🇨🇳🇨🇨🇨🇦🇧🇿🇧🇾🇧🇼🇧🇻🇧🇹🇨🇫🇨🇬🇨🇭🇨🇮🇨🇰🇨🇱🇨🇲🇨🇳🇨🇾🇨🇽🇨🇼🇨🇻🇨🇺🇨🇷🇨🇵🇨🇴🇨🇿🇩🇪🇩🇬🇩🇯🇩🇰🇩🇲🇩🇴🇩🇿🇪🇹🇪🇸🇪🇷🇪🇭🇪🇬🇪🇪🇪🇨🇫🇮🇫🇴🇬🇦🇫🇲🇬🇧🇬🇩🇬🇪🇬🇫🇬🇬🇬🇭🇬🇮🇬🇱🇯🇵🇮🇳🇮🇲🇮🇱🇮🇪🇮🇷🇮🇹🇯🇪🇯🇴🇰🇪🇮🇶🇭🇺🇬🇷🇮🇱🇱🇷🇱🇧🇰🇷🇲🇦🇱🇾🇵🇰🇲🇾🇲🇽🇳🇬🇷🇴🇸🇾🇹🇯🏴󠁧󠁢󠁷󠁬󠁳󠁿🇺🇲🇹🇳🇹🇷🇸🇯🇹🇭🇸🇦🇰🇬🇫🇮🇨🇿🇵🇭🇮🇸🇲🇰🇪🇺🇺🇦🇺🇬🇸🇪\n",
      "error: a store of value () is better than a currency when everyone wants it 🌍🌏🌎🏳️🏴🏴‍☠️🏁🚩🏳️‍🌈🏳️‍⚧️🇺🇳🇦🇫🇦🇽🇦🇱🇩🇿🇦🇸🇦🇩🇦🇴🇦🇮🇦🇶🇦🇬🇦🇷🇦🇲🇦🇼🇦🇺🇦🇹🇦🇿🇧🇸🇧🇭🇧🇩🇧🇧🇧🇾🇧🇪🇧🇿🇧🇯🇧🇲🇧🇹🇧🇴🇧🇦🇧🇼🇧🇷🇻🇬🇧🇳🇧🇬🇧🇫🇧🇮🇰🇭🇨🇲🇨🇦🇮🇨🇨🇻🇧🇶🇰🇾🇨🇫🇹🇩🇮🇴🇨🇱🇨🇳🇨🇽🇨🇨🇨🇴🇰🇲🇨🇬🇨🇩🇨🇰🇨🇷🇨🇮🇭🇷🇨🇺🇨🇼🇨🇾🇨🇿🇩🇰🇩🇯🇩🇲🇩🇴🇪🇨🇪🇬🇸🇻🇬🇶🇪🇷🇪🇪🇸🇿🇪🇹🇪🇺🇫🇰🇫🇴🇫🇯🇫🇮🇫🇷🇬🇫🇵🇫🇹🇫🇬🇦🇬🇲🇬🇪🇩🇪🇬🇭🇬🇮🇬🇷🇬🇱\n",
      "error: 🧙‍♂️🧙‍♂️🧙‍♂️🧙‍♂️🧙‍♂️🧙‍♂️🧙‍♂️🧙‍♂️🧙‍♂️🧙‍♂️🧙‍♂️🧙‍♂️🧙‍♂️🧙‍♂️🧙‍♂️🧙‍♂️🧙‍♂️🧙‍♂️🧙‍♂️🧙‍♂️🧙‍♂️🧙‍♂️🧙‍♂️🧙‍♂️🧙‍♂️🧙‍♂️🧙‍♂️🧙‍♂️🧙‍♂️🧙‍♂️🧙‍♂️🧙‍♂️🧙‍♂️🧙‍♂️🧙‍♂️🧙‍♂️🧙‍♂️🧙‍♂️🧙‍♂️🧙‍♂️🧙‍♂️🧙‍♂️🧙‍♂️🧙‍♂️🧙‍♂️🧙‍♂️🧙‍♂️🧙‍♂️🧙‍♂️🧙‍♂️🧙‍♂️🧙‍♂️🧙‍♂️🧙‍♂️🧙‍♂️🧙‍♂️🧙‍♂️🧙‍♂️🧙‍♂️🧙‍♂️🧙‍♂️🧙‍♂️🧙‍♂️bitcoiners stand together🧙‍♂️🧙‍♂️🧙‍♂️🧙‍♂️🧙‍♂️🧙‍♂️🧙‍♂️🧙‍♂️🧙‍♂️🧙‍♂️🧙‍♂️🧙‍♂️🧙‍♂️🧙‍♂️🧙‍♂️🧙‍♂️🧙‍♂️🧙‍♂️🧙‍♂️🧙‍♂️🧙‍♂️🧙‍♂️🧙‍♂️🧙‍♂️🧙‍♂️🧙‍♂️🧙‍♂️🧙‍♂️🧙‍♂️🧙‍♂️🧙‍♂️🧙‍♂️🧙‍♂️🧙‍♂️🧙‍♂️🧙‍♂️🧙‍♂️🧙‍♂️🧙‍♂️🧙‍♂️🧙‍♂️🧙‍♂️🧙‍♂️🧙‍♂️🧙‍♂️🧙‍♂️🧙‍♂️🧙‍♂️🧙‍♂️🧙‍♂️🧙‍♂️🧙‍♂️🧙‍♂️🧙‍♂️🧙‍♂️🧙‍♂️🧙‍♂️🧙‍♂️🧙‍♂️🧙‍♂️\n"
     ]
    }
   ],
   "source": [
    "#apply prediction on texts\n",
    "def predict(text):\n",
    "    try:\n",
    "        encoded_input = tokenizer(text, return_tensors='tf')\n",
    "        output = model(encoded_input)\n",
    "        scores = output[0][0].numpy()\n",
    "        scores = softmax(scores)\n",
    "        negative = np.round(float(scores[0]), 4)\n",
    "        neutral = np.round(float(scores[1]), 4)\n",
    "        positive = np.round(float(scores[2]), 4)\n",
    "        ranking = np.argsort(scores)\n",
    "        ranking = ranking[::-1]\n",
    "        prediction = labels[ranking[0]]\n",
    "        #score = scores[ranking[0]]\n",
    "        #confidence = np.round(float(score), 4)\n",
    "        return pd.Series([prediction, negative, neutral, positive])\n",
    "    except:\n",
    "        print('error:', text)\n",
    "        return pd.Series(['unknown', 0,0,0])\n",
    "\n",
    "#btcdata['sentiment'] = btcdata['text'].apply(lambda x: x.lower())\n",
    "sData[['prediction','negative', 'neutral', 'positive']] = sData['text'].apply(lambda x: predict(x))"
   ]
  },
  {
   "cell_type": "code",
   "execution_count": 39,
   "metadata": {},
   "outputs": [
    {
     "data": {
      "text/html": [
       "<div>\n",
       "<style scoped>\n",
       "    .dataframe tbody tr th:only-of-type {\n",
       "        vertical-align: middle;\n",
       "    }\n",
       "\n",
       "    .dataframe tbody tr th {\n",
       "        vertical-align: top;\n",
       "    }\n",
       "\n",
       "    .dataframe thead th {\n",
       "        text-align: right;\n",
       "    }\n",
       "</style>\n",
       "<table border=\"1\" class=\"dataframe\">\n",
       "  <thead>\n",
       "    <tr style=\"text-align: right;\">\n",
       "      <th></th>\n",
       "      <th>id</th>\n",
       "      <th>date</th>\n",
       "      <th>text</th>\n",
       "      <th>hashtags</th>\n",
       "      <th>replyCount</th>\n",
       "      <th>retweetCount</th>\n",
       "      <th>likeCount</th>\n",
       "      <th>userName</th>\n",
       "      <th>userFollowerCount</th>\n",
       "      <th>userFavCount</th>\n",
       "      <th>userFriendCount</th>\n",
       "      <th>dateTime</th>\n",
       "      <th>textLength</th>\n",
       "      <th>prediction</th>\n",
       "      <th>negative</th>\n",
       "      <th>neutral</th>\n",
       "      <th>positive</th>\n",
       "    </tr>\n",
       "  </thead>\n",
       "  <tbody>\n",
       "    <tr>\n",
       "      <th>4931920</th>\n",
       "      <td>1417273043811028995</td>\n",
       "      <td>2021-07-19 23:59:59+00:00</td>\n",
       "      <td>when btc was at $63k i thought \"why in the hel...</td>\n",
       "      <td>NaN</td>\n",
       "      <td>1.0</td>\n",
       "      <td>0.0</td>\n",
       "      <td>0.0</td>\n",
       "      <td>IwasutoBehum</td>\n",
       "      <td>41.0</td>\n",
       "      <td>2582.0</td>\n",
       "      <td>130.0</td>\n",
       "      <td>2021-07-19 23:59:59+00:00</td>\n",
       "      <td>277</td>\n",
       "      <td>positive</td>\n",
       "      <td>0.1449</td>\n",
       "      <td>0.3877</td>\n",
       "      <td>0.4674</td>\n",
       "    </tr>\n",
       "    <tr>\n",
       "      <th>4931921</th>\n",
       "      <td>1417273027042103297</td>\n",
       "      <td>2021-07-19 23:59:55+00:00</td>\n",
       "      <td>or you could just build the grid and use the p...</td>\n",
       "      <td>NaN</td>\n",
       "      <td>1.0</td>\n",
       "      <td>0.0</td>\n",
       "      <td>4.0</td>\n",
       "      <td>AngsterGangsta</td>\n",
       "      <td>5.0</td>\n",
       "      <td>8623.0</td>\n",
       "      <td>49.0</td>\n",
       "      <td>2021-07-19 23:59:55+00:00</td>\n",
       "      <td>248</td>\n",
       "      <td>neutral</td>\n",
       "      <td>0.3769</td>\n",
       "      <td>0.5135</td>\n",
       "      <td>0.1096</td>\n",
       "    </tr>\n",
       "    <tr>\n",
       "      <th>4931922</th>\n",
       "      <td>1417273024928174080</td>\n",
       "      <td>2021-07-19 23:59:55+00:00</td>\n",
       "      <td>8.9% in this optimal portfolio and 91.1% in th...</td>\n",
       "      <td>['Investing', 'crypto', 'cash', 'Bitcoin', 'ri...</td>\n",
       "      <td>0.0</td>\n",
       "      <td>0.0</td>\n",
       "      <td>1.0</td>\n",
       "      <td>CryptoWatchBot</td>\n",
       "      <td>3008.0</td>\n",
       "      <td>215.0</td>\n",
       "      <td>2888.0</td>\n",
       "      <td>2021-07-19 23:59:55+00:00</td>\n",
       "      <td>140</td>\n",
       "      <td>neutral</td>\n",
       "      <td>0.0434</td>\n",
       "      <td>0.6808</td>\n",
       "      <td>0.2758</td>\n",
       "    </tr>\n",
       "    <tr>\n",
       "      <th>4931923</th>\n",
       "      <td>1417273024303312896</td>\n",
       "      <td>2021-07-19 23:59:55+00:00</td>\n",
       "      <td>crypto total market = $1215.3 billion bitcoin ...</td>\n",
       "      <td>['Bitcoin']</td>\n",
       "      <td>0.0</td>\n",
       "      <td>0.0</td>\n",
       "      <td>0.0</td>\n",
       "      <td>BitcoinBot15</td>\n",
       "      <td>715.0</td>\n",
       "      <td>25498.0</td>\n",
       "      <td>462.0</td>\n",
       "      <td>2021-07-19 23:59:55+00:00</td>\n",
       "      <td>174</td>\n",
       "      <td>neutral</td>\n",
       "      <td>0.3923</td>\n",
       "      <td>0.5577</td>\n",
       "      <td>0.0500</td>\n",
       "    </tr>\n",
       "    <tr>\n",
       "      <th>4931924</th>\n",
       "      <td>1417273014727680009</td>\n",
       "      <td>2021-07-19 23:59:53+00:00</td>\n",
       "      <td>grab em….first come first get</td>\n",
       "      <td>NaN</td>\n",
       "      <td>1.0</td>\n",
       "      <td>0.0</td>\n",
       "      <td>0.0</td>\n",
       "      <td>Louie_BTC</td>\n",
       "      <td>169.0</td>\n",
       "      <td>870.0</td>\n",
       "      <td>538.0</td>\n",
       "      <td>2021-07-19 23:59:53+00:00</td>\n",
       "      <td>29</td>\n",
       "      <td>neutral</td>\n",
       "      <td>0.0761</td>\n",
       "      <td>0.7655</td>\n",
       "      <td>0.1584</td>\n",
       "    </tr>\n",
       "  </tbody>\n",
       "</table>\n",
       "</div>"
      ],
      "text/plain": [
       "                          id                       date  \\\n",
       "4931920  1417273043811028995  2021-07-19 23:59:59+00:00   \n",
       "4931921  1417273027042103297  2021-07-19 23:59:55+00:00   \n",
       "4931922  1417273024928174080  2021-07-19 23:59:55+00:00   \n",
       "4931923  1417273024303312896  2021-07-19 23:59:55+00:00   \n",
       "4931924  1417273014727680009  2021-07-19 23:59:53+00:00   \n",
       "\n",
       "                                                      text  \\\n",
       "4931920  when btc was at $63k i thought \"why in the hel...   \n",
       "4931921  or you could just build the grid and use the p...   \n",
       "4931922  8.9% in this optimal portfolio and 91.1% in th...   \n",
       "4931923  crypto total market = $1215.3 billion bitcoin ...   \n",
       "4931924                      grab em….first come first get   \n",
       "\n",
       "                                                  hashtags  replyCount  \\\n",
       "4931920                                                NaN         1.0   \n",
       "4931921                                                NaN         1.0   \n",
       "4931922  ['Investing', 'crypto', 'cash', 'Bitcoin', 'ri...         0.0   \n",
       "4931923                                        ['Bitcoin']         0.0   \n",
       "4931924                                                NaN         1.0   \n",
       "\n",
       "         retweetCount  likeCount        userName  userFollowerCount  \\\n",
       "4931920           0.0        0.0    IwasutoBehum               41.0   \n",
       "4931921           0.0        4.0  AngsterGangsta                5.0   \n",
       "4931922           0.0        1.0  CryptoWatchBot             3008.0   \n",
       "4931923           0.0        0.0    BitcoinBot15              715.0   \n",
       "4931924           0.0        0.0       Louie_BTC              169.0   \n",
       "\n",
       "         userFavCount  userFriendCount                   dateTime  textLength  \\\n",
       "4931920        2582.0            130.0  2021-07-19 23:59:59+00:00         277   \n",
       "4931921        8623.0             49.0  2021-07-19 23:59:55+00:00         248   \n",
       "4931922         215.0           2888.0  2021-07-19 23:59:55+00:00         140   \n",
       "4931923       25498.0            462.0  2021-07-19 23:59:55+00:00         174   \n",
       "4931924         870.0            538.0  2021-07-19 23:59:53+00:00          29   \n",
       "\n",
       "        prediction  negative  neutral  positive  \n",
       "4931920   positive    0.1449   0.3877    0.4674  \n",
       "4931921    neutral    0.3769   0.5135    0.1096  \n",
       "4931922    neutral    0.0434   0.6808    0.2758  \n",
       "4931923    neutral    0.3923   0.5577    0.0500  \n",
       "4931924    neutral    0.0761   0.7655    0.1584  "
      ]
     },
     "execution_count": 39,
     "metadata": {},
     "output_type": "execute_result"
    }
   ],
   "source": [
    "sData.head()"
   ]
  },
  {
   "cell_type": "code",
   "execution_count": 40,
   "metadata": {},
   "outputs": [],
   "source": [
    "filename = '../data/interim/bitcoin_all_tweets_sentiments_20210101-20210930.csv'\n",
    "file_exists = os.path.isfile(filename)\n",
    "\n",
    "#Open/create a file to append data to\n",
    "#csvFile = open(filename, 'a', newline='', encoding='utf8')\n",
    "\n",
    "#Use csv writer\n",
    "#csvWriter = csv.writer(csvFile)\n",
    "if not file_exists:\n",
    "    sData.to_csv(filename, mode='w')\n",
    "sData.to_csv(filename, mode='a', header=False)\n",
    "#csvFile.close()"
   ]
  }
 ],
 "metadata": {
  "interpreter": {
   "hash": "aee8b7b246df8f9039afb4144a1f6fd8d2ca17a180786b69acc140d282b71a49"
  },
  "kernelspec": {
   "display_name": "Python 3.9.6 64-bit",
   "name": "python3"
  },
  "language_info": {
   "codemirror_mode": {
    "name": "ipython",
    "version": 3
   },
   "file_extension": ".py",
   "mimetype": "text/x-python",
   "name": "python",
   "nbconvert_exporter": "python",
   "pygments_lexer": "ipython3",
   "version": "3.9.6"
  },
  "orig_nbformat": 4
 },
 "nbformat": 4,
 "nbformat_minor": 2
}
