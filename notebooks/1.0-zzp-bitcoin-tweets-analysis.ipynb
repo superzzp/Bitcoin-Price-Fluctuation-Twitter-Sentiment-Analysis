{
 "cells": [
  {
   "cell_type": "code",
   "execution_count": 31,
   "source": [
    "import pandas as pd\n",
    "import numpy as np\n",
    "import matplotlib.pyplot as plt\n",
    "import random \n",
    "import re\n",
    "import preprocessor as p\n"
   ],
   "outputs": [],
   "metadata": {}
  },
  {
   "cell_type": "code",
   "execution_count": 2,
   "source": [
    "#chunksize = 10 ** 8\n",
    "\n",
    "btcdata = pd.read_csv('../data/interim/bitcoin_engage_tweets_test.csv')\n",
    "#btcdata = pd.read_csv('../data/raw/btc-tweets-2016-2019/tweets.csv', sep='delimiter', header=None, low_memory=False)\n"
   ],
   "outputs": [
    {
     "output_type": "stream",
     "name": "stderr",
     "text": [
      "/Library/Frameworks/Python.framework/Versions/3.9/lib/python3.9/site-packages/IPython/core/interactiveshell.py:3441: DtypeWarning: Columns (0,4,5,6,8,9,10,11,12,17,21,22,23,27,30,31,32,33,34,35,36,37,38,39,40) have mixed types.Specify dtype option on import or set low_memory=False.\n",
      "  exec(code_obj, self.user_global_ns, self.user_ns)\n"
     ]
    }
   ],
   "metadata": {}
  },
  {
   "cell_type": "code",
   "execution_count": 3,
   "source": [
    "btcdata.shape\n",
    "\n",
    "\n",
    "\n",
    "btcdata = btcdata[['id', 'date', 'text', 'hashtags', 'replyCount', 'retweetCount',\n",
    "'likeCount', 'userName', 'userFollowerCount', 'userFavCount', 'userFriendCount']]\n",
    "\n",
    "btcdata.head()\n",
    "btcdata.info()\n"
   ],
   "outputs": [
    {
     "output_type": "stream",
     "name": "stdout",
     "text": [
      "<class 'pandas.core.frame.DataFrame'>\n",
      "RangeIndex: 1884180 entries, 0 to 1884179\n",
      "Data columns (total 11 columns):\n",
      " #   Column             Dtype \n",
      "---  ------             ----- \n",
      " 0   id                 object\n",
      " 1   date               object\n",
      " 2   text               object\n",
      " 3   hashtags           object\n",
      " 4   replyCount         object\n",
      " 5   retweetCount       object\n",
      " 6   likeCount          object\n",
      " 7   userName           object\n",
      " 8   userFollowerCount  object\n",
      " 9   userFavCount       object\n",
      " 10  userFriendCount    object\n",
      "dtypes: object(11)\n",
      "memory usage: 158.1+ MB\n"
     ]
    }
   ],
   "metadata": {}
  },
  {
   "cell_type": "code",
   "execution_count": 4,
   "source": [
    "#btcdata = btcdata[[\"user_followers\", \"user_friends\", \"user_favourites\",\"text\"]]\n",
    "btcdata.shape\n",
    "\n",
    "btcdata = btcdata[(btcdata[\"userFollowerCount\"].notna()) & (btcdata[\"userFavCount\"].notna()) & (btcdata[\"userFriendCount\"].notna())]\n",
    "\n",
    "#btcdata = btcdata[btcdata[\"user_friends\"] != \"False\"]\n",
    "\n",
    "\n",
    "btcdata['replyCount'] = pd.to_numeric(btcdata['replyCount'], errors='coerce')\n",
    "btcdata['retweetCount'] = pd.to_numeric(btcdata['retweetCount'], errors='coerce')\n",
    "btcdata['likeCount'] = pd.to_numeric(btcdata['likeCount'], errors='coerce')\n",
    "btcdata['userFollowerCount'] = pd.to_numeric(btcdata['userFollowerCount'], errors='coerce')\n",
    "btcdata['userFavCount'] = pd.to_numeric(btcdata['userFavCount'], errors='coerce')\n",
    "btcdata['userFriendCount'] = pd.to_numeric(btcdata['userFriendCount'], errors='coerce')\n",
    "\n",
    "\n",
    "\n",
    "#btcdata.shape\n",
    "btcdata = btcdata.dropna(subset=['replyCount', 'retweetCount', 'likeCount', 'userFollowerCount', 'userFavCount', 'userFriendCount'])\n",
    "#btcdata.query(\"(user_followers == 0) & (user_friends == 0) & (user_favourites == 0)\").describe()\n",
    "btcdata.shape\n",
    "#btcdata = btcdata.astype({\n",
    "    #\"userFollowerCount\": \"int\",\n",
    "    #\"userFavCount\": \"int\",\n",
    "    #\"userFriendCount\": \"int\",\n",
    "    #\"replyCount\": \"int\",\n",
    "    #\"retweetCount\": \"int\",\n",
    "    #\"likeCount\": \"int\"\n",
    "    #}) \n",
    "\n",
    "\n",
    "#btcdata.describe().apply(lambda s: s.apply('{0:.5f}'.format))\n",
    "\n"
   ],
   "outputs": [
    {
     "output_type": "execute_result",
     "data": {
      "text/plain": [
       "(1884177, 11)"
      ]
     },
     "metadata": {},
     "execution_count": 4
    }
   ],
   "metadata": {}
  },
  {
   "cell_type": "code",
   "execution_count": 5,
   "source": [
    "#converting to datetime from string\n",
    "btcdata[\"dateTime\"] = pd.to_datetime(btcdata[\"date\"], format=\"%Y-%m-%d %H:%M:%S\", errors='coerce')\n",
    "\n",
    "#to get rows from a period of time using dateTime\n",
    "#august = btcdata[(btcdata['dateTime'] > '2021-08-01') & (btcdata['dateTime'] < '2021-09-01')]\n"
   ],
   "outputs": [],
   "metadata": {}
  },
  {
   "cell_type": "code",
   "execution_count": 6,
   "source": [
    "btcdata.text[30000:40000]\n",
    "#data = btcdata.astype({\"text\": \"str\"}, copy=True)\n",
    "#data['text'] = data['text'].str.replace('@[\\w]+', '')\n",
    "#data.info()\n"
   ],
   "outputs": [
    {
     "output_type": "execute_result",
     "data": {
      "text/plain": [
       "30000    @Slytoshi @RebelRabbits1 @REBEL_JQKER LEGEND @...\n",
       "30001    [SCAN RESULTS - 4h]\\n\\nExchange: #KuCoin\\n\\nTo...\n",
       "30002    @nokie555 @fredtheinvestor @ThobelaniMchun3 Th...\n",
       "30003                              @crypto_birb $BTC Green\n",
       "30004    #DecentralizedFinance is  buzz word of late. T...\n",
       "                               ...                        \n",
       "39995                            Amazing reaction Congrats\n",
       "39996    I can see that being the bottom tbh. Good amou...\n",
       "39997    Might start shilling SOL NFTs in Bitcoin Maxi ...\n",
       "39998    @TimFindlay @jacobcabe Trust me, I don't trust...\n",
       "39999    📄 Transaction Report\\n🖥 GMO Coin\\n🕘 2021-09-30...\n",
       "Name: text, Length: 10000, dtype: object"
      ]
     },
     "metadata": {},
     "execution_count": 6
    }
   ],
   "metadata": {}
  },
  {
   "cell_type": "code",
   "execution_count": 7,
   "source": [
    "btcdata['text'] = btcdata['text'].apply(lambda x: x.lower()) #transform text to lowercase\n",
    "\n",
    "\n",
    "data = btcdata\n",
    "data.text[39999]"
   ],
   "outputs": [
    {
     "output_type": "execute_result",
     "data": {
      "text/plain": [
       "'📄 transaction report\\n🖥 gmo coin\\n🕘 2021-09-30 09:45 jst\\n📖 open buy 0.11 btc/jpy\\n#⃣ #bitcoin #ビットコイン #自動売買'"
      ]
     },
     "metadata": {},
     "execution_count": 7
    }
   ],
   "metadata": {}
  },
  {
   "cell_type": "code",
   "execution_count": 8,
   "source": [
    "#dropping the tweets from users with no followers, friends and favourites\n",
    "print('before dropping invalid users:' , data.shape)\n",
    "data = data[~((data[\"userFollowerCount\"] == 0) & (data[\"userFavCount\"] == 0) & (data[\"userFriendCount\"] == 0))]\n",
    "#data = data.drop(data[(data[\"user_followers\"] == 0) | (data[\"user_friends\"] == 0) | (data[\"user_favourites\"] == 0)].index)\n",
    "print('after dropping invalid users:', data.shape)\n"
   ],
   "outputs": [
    {
     "output_type": "stream",
     "name": "stdout",
     "text": [
      "before dropping invalid users: (1884177, 12)\n",
      "after dropping invalid users: (1883978, 12)\n"
     ]
    }
   ],
   "metadata": {}
  },
  {
   "cell_type": "code",
   "execution_count": 9,
   "source": [
    "#dropping the tweets with suspicious hashtags, words, bigrams, and trigrams\n",
    "\n",
    "#any(substring in string for substring in substring_list)\n",
    "\n",
    "#hashtags\n",
    "print('before dropping by hashtags:' , data.shape)\n",
    "data = data[~data.text.str.contains('#freecrypto|#freemoney|#freebitcoin|#freebtc')]\n",
    "print('after dropping by hashtags:' , data.shape)\n",
    "\n",
    "#words\n",
    "print('before dropping by single keyword:' , data.shape)\n",
    "data = data[~data.text.str.contains('entertaining|subscribe')]\n",
    "print('after dropping by single keyword:' , data.shape)\n",
    "\n",
    "#bigrams\n",
    "print('before dropping by bigrams:' , data.shape)\n",
    "data = data[~(data.text.str.contains('free bitcoin|current price|bitcoin price|earn bitcoin'))]\n",
    "print('after dropping by bigrams:' , data.shape)\n",
    "#data = data[~(data.text.str.contains('current') & (data.text.str.contains('price')))]\n",
    "#data = data[~(data.text.str.contains('bitcoin') & (data.text.str.contains('price')))]\n",
    "#data = data[~(data.text.str.contains('earn') & (data.text.str.contains('bitcoin')))]\n",
    "\n",
    "#trigrams\n",
    "print('before dropping by trigrams:' , data.shape)\n",
    "data = data[~(data.text.str.contains('start trading bitcoin'))]\n",
    "print('after dropping by trigrams:' , data.shape)\n"
   ],
   "outputs": [
    {
     "output_type": "stream",
     "name": "stdout",
     "text": [
      "before dropping by hashtags: (1883978, 12)\n",
      "after dropping by hashtags: (1883139, 12)\n",
      "before dropping by single keyword: (1883139, 12)\n",
      "after dropping by single keyword: (1879863, 12)\n",
      "before dropping by bigrams: (1879863, 12)\n",
      "after dropping by bigrams: (1860778, 12)\n",
      "before dropping by trigrams: (1860778, 12)\n",
      "after dropping by trigrams: (1860741, 12)\n"
     ]
    }
   ],
   "metadata": {}
  },
  {
   "cell_type": "code",
   "execution_count": 10,
   "source": [
    "#Remove urls, mentions, hashtags, empty lines, spaces, reserved words (RT, FAV)\n",
    "#keep emojis, smileys, numbers\n",
    "\n",
    "data.text[39999]\n",
    "\n",
    "p.set_options(p.OPT.URL, p.OPT.MENTION, p.OPT.HASHTAG, p.OPT.RESERVED)\n",
    "data['text'] = data['text'].apply(lambda x: p.clean(x))\n",
    "\n"
   ],
   "outputs": [],
   "metadata": {}
  },
  {
   "cell_type": "code",
   "execution_count": 11,
   "source": [
    "#Check the header of formated text\n",
    "data.text[100:200]\n"
   ],
   "outputs": [
    {
     "output_type": "execute_result",
     "data": {
      "text/plain": [
       "101    you know it right? you don't have to buy an en...\n",
       "102    the nuclear power industry screws up constantl...\n",
       "103                                the answer is bitcoin\n",
       "104                               my goodness the vols 🤯\n",
       "105                                  love your neighbor.\n",
       "                             ...                        \n",
       "199    i thought lightning was its own network for li...\n",
       "200    amazed with and swapped ltc to btc in under 3 ...\n",
       "201    i only feel this way when bitcoin goes down. w...\n",
       "202    is going to be everywhere 👀 with all the huge ...\n",
       "203    self-serving. self-serving .... self-serving ....\n",
       "Name: text, Length: 100, dtype: object"
      ]
     },
     "metadata": {},
     "execution_count": 11
    }
   ],
   "metadata": {}
  },
  {
   "cell_type": "code",
   "execution_count": 12,
   "source": [
    "#remove special characters\n",
    "#data['text'] = data['text'].apply(lambda x: re.sub('[^a-zA-z0-9\\s]', '', x)) "
   ],
   "outputs": [],
   "metadata": {}
  },
  {
   "cell_type": "code",
   "execution_count": 13,
   "source": [
    "#remove extra space between words\n",
    "#data['text'] = data['text'].apply(lambda x: re.sub(' +', ' ', x)) "
   ],
   "outputs": [],
   "metadata": {}
  },
  {
   "cell_type": "code",
   "execution_count": 14,
   "source": [
    "#save the length of each tweets to df\n",
    "data['textLength'] = data['text'].str.len()"
   ],
   "outputs": [],
   "metadata": {}
  },
  {
   "cell_type": "markdown",
   "source": [
    "Display histograms of tweets length"
   ],
   "metadata": {}
  },
  {
   "cell_type": "code",
   "execution_count": 15,
   "source": [
    "#display histograms of tweets length\n",
    "#cols = [\"user_followers\", \"user_friends\", \"user_favourites\"]\n",
    "\n",
    "#for col in cols:\n",
    "col = \"textLength\"\n",
    "#btcdata = btcdata.astype({\"user_friends\": \"float64\"}) #Conv datatype of df3, user_followers Col from object to int64\n",
    "#pos_series = btcdata[col].tolist()\n",
    "#neg_series = negative_examples[col].tolist()\n",
    "plt.hist(data[col], 50, facecolor='g', alpha=0.7)\n",
    "#plt.hist(neg_series, 50, facecolor='r', alpha=0.7, label=\"0\")\n",
    "#plt.legend(prop={\"size\": 10})\n",
    "plt.xlabel(col)\n",
    "plt.ylabel(\"count\")\n",
    "plt.ticklabel_format(style='plain')\n",
    "plt.title(\"Histogram of \" + col + \" by target class\")\n",
    "plt.show()"
   ],
   "outputs": [
    {
     "output_type": "display_data",
     "data": {
      "image/png": "[encoded data removed]",
      "text/plain": [
       "<Figure size 432x288 with 1 Axes>"
      ]
     },
     "metadata": {
      "needs_background": "light"
     }
    }
   ],
   "metadata": {}
  },
  {
   "cell_type": "markdown",
   "source": [
    "Check the total number of tweets for each day, overlay with bitcoin closing price"
   ],
   "metadata": {}
  },
  {
   "cell_type": "code",
   "execution_count": 16,
   "source": [
    "#load bitcoin pricing information\n",
    "price = pd.read_csv('../data/external/BTC_USD_2020-10-10_2021-10-09-CoinDesk.csv')\n",
    "pdata = price[['Date', 'Closing Price (USD)']]"
   ],
   "outputs": [],
   "metadata": {}
  },
  {
   "cell_type": "code",
   "execution_count": 17,
   "source": [
    "#count number of tweets each date\n",
    "df = data['dateTime'].groupby(data['dateTime'].dt.date).size().reset_index(name='count')"
   ],
   "outputs": [],
   "metadata": {}
  },
  {
   "cell_type": "code",
   "execution_count": 29,
   "source": [
    "#merge two dfs by date\n",
    "\n",
    "\n",
    "df = df.astype({\"dateTime\": \"str\"}) \n",
    "print(type(df['dateTime'][0]))\n",
    "print(type(pdata['Date'][0]))\n",
    "\n",
    "merged_df1 = pd.merge(left=df, right=pdata, left_on='dateTime', right_on='Date')\n",
    "merged_df1 = merged_df1.astype({\"Closing Price (USD)\": \"int\"}) \n",
    "merged_df1"
   ],
   "outputs": [
    {
     "output_type": "stream",
     "name": "stdout",
     "text": [
      "<class 'str'>\n",
      "<class 'str'>\n"
     ]
    },
    {
     "output_type": "execute_result",
     "data": {
      "text/html": [
       "<div>\n",
       "<style scoped>\n",
       "    .dataframe tbody tr th:only-of-type {\n",
       "        vertical-align: middle;\n",
       "    }\n",
       "\n",
       "    .dataframe tbody tr th {\n",
       "        vertical-align: top;\n",
       "    }\n",
       "\n",
       "    .dataframe thead th {\n",
       "        text-align: right;\n",
       "    }\n",
       "</style>\n",
       "<table border=\"1\" class=\"dataframe\">\n",
       "  <thead>\n",
       "    <tr style=\"text-align: right;\">\n",
       "      <th></th>\n",
       "      <th>dateTime</th>\n",
       "      <th>count</th>\n",
       "      <th>Date</th>\n",
       "      <th>Closing Price (USD)</th>\n",
       "    </tr>\n",
       "  </thead>\n",
       "  <tbody>\n",
       "    <tr>\n",
       "      <th>0</th>\n",
       "      <td>2021-07-22</td>\n",
       "      <td>11987</td>\n",
       "      <td>2021-07-22</td>\n",
       "      <td>32203</td>\n",
       "    </tr>\n",
       "    <tr>\n",
       "      <th>1</th>\n",
       "      <td>2021-07-23</td>\n",
       "      <td>22651</td>\n",
       "      <td>2021-07-23</td>\n",
       "      <td>33117</td>\n",
       "    </tr>\n",
       "    <tr>\n",
       "      <th>2</th>\n",
       "      <td>2021-07-24</td>\n",
       "      <td>21151</td>\n",
       "      <td>2021-07-24</td>\n",
       "      <td>34014</td>\n",
       "    </tr>\n",
       "    <tr>\n",
       "      <th>3</th>\n",
       "      <td>2021-07-25</td>\n",
       "      <td>21230</td>\n",
       "      <td>2021-07-25</td>\n",
       "      <td>34574</td>\n",
       "    </tr>\n",
       "    <tr>\n",
       "      <th>4</th>\n",
       "      <td>2021-07-26</td>\n",
       "      <td>42477</td>\n",
       "      <td>2021-07-26</td>\n",
       "      <td>37114</td>\n",
       "    </tr>\n",
       "    <tr>\n",
       "      <th>...</th>\n",
       "      <td>...</td>\n",
       "      <td>...</td>\n",
       "      <td>...</td>\n",
       "      <td>...</td>\n",
       "    </tr>\n",
       "    <tr>\n",
       "      <th>66</th>\n",
       "      <td>2021-09-26</td>\n",
       "      <td>24423</td>\n",
       "      <td>2021-09-26</td>\n",
       "      <td>43572</td>\n",
       "    </tr>\n",
       "    <tr>\n",
       "      <th>67</th>\n",
       "      <td>2021-09-27</td>\n",
       "      <td>35703</td>\n",
       "      <td>2021-09-27</td>\n",
       "      <td>43136</td>\n",
       "    </tr>\n",
       "    <tr>\n",
       "      <th>68</th>\n",
       "      <td>2021-09-28</td>\n",
       "      <td>34524</td>\n",
       "      <td>2021-09-28</td>\n",
       "      <td>41734</td>\n",
       "    </tr>\n",
       "    <tr>\n",
       "      <th>69</th>\n",
       "      <td>2021-09-29</td>\n",
       "      <td>41330</td>\n",
       "      <td>2021-09-29</td>\n",
       "      <td>41412</td>\n",
       "    </tr>\n",
       "    <tr>\n",
       "      <th>70</th>\n",
       "      <td>2021-09-30</td>\n",
       "      <td>40833</td>\n",
       "      <td>2021-09-30</td>\n",
       "      <td>43718</td>\n",
       "    </tr>\n",
       "  </tbody>\n",
       "</table>\n",
       "<p>71 rows × 4 columns</p>\n",
       "</div>"
      ],
      "text/plain": [
       "      dateTime  count        Date  Closing Price (USD)\n",
       "0   2021-07-22  11987  2021-07-22                32203\n",
       "1   2021-07-23  22651  2021-07-23                33117\n",
       "2   2021-07-24  21151  2021-07-24                34014\n",
       "3   2021-07-25  21230  2021-07-25                34574\n",
       "4   2021-07-26  42477  2021-07-26                37114\n",
       "..         ...    ...         ...                  ...\n",
       "66  2021-09-26  24423  2021-09-26                43572\n",
       "67  2021-09-27  35703  2021-09-27                43136\n",
       "68  2021-09-28  34524  2021-09-28                41734\n",
       "69  2021-09-29  41330  2021-09-29                41412\n",
       "70  2021-09-30  40833  2021-09-30                43718\n",
       "\n",
       "[71 rows x 4 columns]"
      ]
     },
     "metadata": {},
     "execution_count": 29
    }
   ],
   "metadata": {}
  },
  {
   "cell_type": "code",
   "execution_count": 38,
   "source": [
    "x = merged_df1['dateTime']\n",
    "y1 = merged_df1['count']\n",
    "y2 = merged_df1['Closing Price (USD)']\n",
    "\n",
    "# Plot Line1 (Left Y Axis)\n",
    "fig, ax1 = plt.subplots(1,1,figsize=(16,9), dpi= 80)\n",
    "ax1.plot(x, y1, color='tab:red')\n",
    "\n",
    "\n",
    "# Plot Line2 (Right Y Axis)\n",
    "ax2 = ax1.twinx()  # instantiate a second axes that shares the same x-axis\n",
    "ax2.plot(x, y2, color='tab:blue')\n",
    "\n",
    "# Decorations\n",
    "# ax1 (left Y axis)\n",
    "ax1.set_xlabel('Date', fontsize=20)\n",
    "ax1.tick_params(axis='x', rotation=0, labelsize=12)\n",
    "ax1.set_ylabel('Tweets count by date', color='tab:red', fontsize=20)\n",
    "ax1.tick_params(axis='y', rotation=0, labelcolor='tab:red' )\n",
    "ax1.grid(alpha=.4)\n",
    "\n",
    "# ax2 (right Y axis)\n",
    "ax2.set_ylabel(\"Bitcoin closing price (USD)\", color='tab:blue', fontsize=20)\n",
    "ax2.tick_params(axis='y', labelcolor='tab:blue')\n",
    "ax2.set_xticks(np.arange(0, len(x), 8))\n",
    "ax2.set_xticklabels(x[::8], rotation=90, fontdict={'fontsize':10})\n",
    "#ax2.set_title(\"Personal Savings Rate vs Unemployed: Plotting in Secondary Y Axis\", fontsize=22)\n",
    "\n",
    "fig.tight_layout()\n",
    "plt.show()\n",
    "\n",
    "\n"
   ],
   "outputs": [
    {
     "output_type": "display_data",
     "data": {
      "image/png": "[encoded data removed]",
      "text/plain": [
       "<Figure size 1280x720 with 2 Axes>"
      ]
     },
     "metadata": {
      "needs_background": "light"
     }
    }
   ],
   "metadata": {}
  },
  {
   "cell_type": "markdown",
   "source": [
    "Randomly select rows from each day"
   ],
   "metadata": {}
  },
  {
   "cell_type": "code",
   "execution_count": 29,
   "source": [
    "#btcdata.groupby(btcdata['date_time'].dt.year).apply(lambda x :x.iloc[random.choice(range(0,len(x)))])\n",
    "#btcdata.groupby(btcdata['date_time'].dt.year).apply(lambda x: x.sample(2)).reset_index(drop=True)\n",
    "\n",
    "selected = data.groupby(data['dateTime'].dt.day).apply(lambda x: x.sample(10, random_state=889))\n",
    "\n",
    "selected.to_csv('sample_bitcoin_tweets_ten_each_day.csv')\n",
    "selected"
   ],
   "outputs": [
    {
     "output_type": "execute_result",
     "data": {
      "text/html": [
       "<div>\n",
       "<style scoped>\n",
       "    .dataframe tbody tr th:only-of-type {\n",
       "        vertical-align: middle;\n",
       "    }\n",
       "\n",
       "    .dataframe tbody tr th {\n",
       "        vertical-align: top;\n",
       "    }\n",
       "\n",
       "    .dataframe thead th {\n",
       "        text-align: right;\n",
       "    }\n",
       "</style>\n",
       "<table border=\"1\" class=\"dataframe\">\n",
       "  <thead>\n",
       "    <tr style=\"text-align: right;\">\n",
       "      <th></th>\n",
       "      <th></th>\n",
       "      <th>id</th>\n",
       "      <th>date</th>\n",
       "      <th>text</th>\n",
       "      <th>hashtags</th>\n",
       "      <th>replyCount</th>\n",
       "      <th>retweetCount</th>\n",
       "      <th>likeCount</th>\n",
       "      <th>userName</th>\n",
       "      <th>userFollowerCount</th>\n",
       "      <th>userFavCount</th>\n",
       "      <th>userFriendCount</th>\n",
       "      <th>dateTime</th>\n",
       "      <th>textLength</th>\n",
       "    </tr>\n",
       "    <tr>\n",
       "      <th>dateTime</th>\n",
       "      <th></th>\n",
       "      <th></th>\n",
       "      <th></th>\n",
       "      <th></th>\n",
       "      <th></th>\n",
       "      <th></th>\n",
       "      <th></th>\n",
       "      <th></th>\n",
       "      <th></th>\n",
       "      <th></th>\n",
       "      <th></th>\n",
       "      <th></th>\n",
       "      <th></th>\n",
       "      <th></th>\n",
       "    </tr>\n",
       "  </thead>\n",
       "  <tbody>\n",
       "    <tr>\n",
       "      <th rowspan=\"5\" valign=\"top\">1</th>\n",
       "      <th>877320</th>\n",
       "      <td>1432982797438889985</td>\n",
       "      <td>2021-09-01 08:24:57+00:00</td>\n",
       "      <td>keep putting money into your pension, everythi...</td>\n",
       "      <td>['Bitcoin', 'FoxBusiness']</td>\n",
       "      <td>0.0</td>\n",
       "      <td>0.0</td>\n",
       "      <td>1.0</td>\n",
       "      <td>Alberto62316949</td>\n",
       "      <td>55.0</td>\n",
       "      <td>819.0</td>\n",
       "      <td>225.0</td>\n",
       "      <td>2021-09-01 08:24:57+00:00</td>\n",
       "      <td>161</td>\n",
       "    </tr>\n",
       "    <tr>\n",
       "      <th>1620664</th>\n",
       "      <td>1421887791797919744</td>\n",
       "      <td>2021-08-01 17:37:21+00:00</td>\n",
       "      <td>the divine line “bitcoin/cryptocurrency is for...</td>\n",
       "      <td>['crypto', 'btc', 'bitcoin', 'bnb', 'bsc', 'cr...</td>\n",
       "      <td>0.0</td>\n",
       "      <td>0.0</td>\n",
       "      <td>1.0</td>\n",
       "      <td>Bbcryptonews</td>\n",
       "      <td>563.0</td>\n",
       "      <td>422.0</td>\n",
       "      <td>1357.0</td>\n",
       "      <td>2021-08-01 17:37:21+00:00</td>\n",
       "      <td>149</td>\n",
       "    </tr>\n",
       "    <tr>\n",
       "      <th>863024</th>\n",
       "      <td>1433146446728024065</td>\n",
       "      <td>2021-09-01 19:15:14+00:00</td>\n",
       "      <td>shop &amp;amp;</td>\n",
       "      <td>['linkedin', 'twitter', 'facebook', 'instagram...</td>\n",
       "      <td>0.0</td>\n",
       "      <td>1.0</td>\n",
       "      <td>0.0</td>\n",
       "      <td>bmurphypointman</td>\n",
       "      <td>71127.0</td>\n",
       "      <td>24.0</td>\n",
       "      <td>12210.0</td>\n",
       "      <td>2021-09-01 19:15:14+00:00</td>\n",
       "      <td>10</td>\n",
       "    </tr>\n",
       "    <tr>\n",
       "      <th>872346</th>\n",
       "      <td>1433054222388396055</td>\n",
       "      <td>2021-09-01 13:08:46+00:00</td>\n",
       "      <td>gm fam. breaking $50k today. 👊 send it</td>\n",
       "      <td>['bitcoin']</td>\n",
       "      <td>12.0</td>\n",
       "      <td>6.0</td>\n",
       "      <td>127.0</td>\n",
       "      <td>kailybuemi</td>\n",
       "      <td>5966.0</td>\n",
       "      <td>9010.0</td>\n",
       "      <td>1128.0</td>\n",
       "      <td>2021-09-01 13:08:46+00:00</td>\n",
       "      <td>38</td>\n",
       "    </tr>\n",
       "    <tr>\n",
       "      <th>877074</th>\n",
       "      <td>1432987140791672835</td>\n",
       "      <td>2021-09-01 08:42:12+00:00</td>\n",
       "      <td>delegates from el salvador's finance commissio...</td>\n",
       "      <td>['Bitcoin', 'ElSalvador']</td>\n",
       "      <td>0.0</td>\n",
       "      <td>0.0</td>\n",
       "      <td>2.0</td>\n",
       "      <td>CryptoManiacs10</td>\n",
       "      <td>521.0</td>\n",
       "      <td>1045.0</td>\n",
       "      <td>108.0</td>\n",
       "      <td>2021-09-01 08:42:12+00:00</td>\n",
       "      <td>219</td>\n",
       "    </tr>\n",
       "    <tr>\n",
       "      <th>...</th>\n",
       "      <th>...</th>\n",
       "      <td>...</td>\n",
       "      <td>...</td>\n",
       "      <td>...</td>\n",
       "      <td>...</td>\n",
       "      <td>...</td>\n",
       "      <td>...</td>\n",
       "      <td>...</td>\n",
       "      <td>...</td>\n",
       "      <td>...</td>\n",
       "      <td>...</td>\n",
       "      <td>...</td>\n",
       "      <td>...</td>\n",
       "      <td>...</td>\n",
       "    </tr>\n",
       "    <tr>\n",
       "      <th rowspan=\"5\" valign=\"top\">31</th>\n",
       "      <th>1652708</th>\n",
       "      <td>1421357858134822913</td>\n",
       "      <td>2021-07-31 06:31:35+00:00</td>\n",
       "      <td>imagine if everyone in bitcoin and the larger ...</td>\n",
       "      <td>NaN</td>\n",
       "      <td>5.0</td>\n",
       "      <td>2.0</td>\n",
       "      <td>36.0</td>\n",
       "      <td>austorms</td>\n",
       "      <td>4373.0</td>\n",
       "      <td>20306.0</td>\n",
       "      <td>695.0</td>\n",
       "      <td>2021-07-31 06:31:35+00:00</td>\n",
       "      <td>112</td>\n",
       "    </tr>\n",
       "    <tr>\n",
       "      <th>1655000</th>\n",
       "      <td>1421310741588496386</td>\n",
       "      <td>2021-07-31 03:24:22+00:00</td>\n",
       "      <td>full send!!! 💚🚀💥👻🔥✈️✈️</td>\n",
       "      <td>NaN</td>\n",
       "      <td>0.0</td>\n",
       "      <td>0.0</td>\n",
       "      <td>1.0</td>\n",
       "      <td>WatchingCryptYo</td>\n",
       "      <td>16.0</td>\n",
       "      <td>1793.0</td>\n",
       "      <td>146.0</td>\n",
       "      <td>2021-07-31 03:24:22+00:00</td>\n",
       "      <td>22</td>\n",
       "    </tr>\n",
       "    <tr>\n",
       "      <th>898887</th>\n",
       "      <td>1432663044157489159</td>\n",
       "      <td>2021-08-31 11:14:21+00:00</td>\n",
       "      <td>$eth flips $btc on its next run up and i don’t...</td>\n",
       "      <td>NaN</td>\n",
       "      <td>0.0</td>\n",
       "      <td>5.0</td>\n",
       "      <td>26.0</td>\n",
       "      <td>notEezzy</td>\n",
       "      <td>27483.0</td>\n",
       "      <td>14424.0</td>\n",
       "      <td>1966.0</td>\n",
       "      <td>2021-08-31 11:14:21+00:00</td>\n",
       "      <td>63</td>\n",
       "    </tr>\n",
       "    <tr>\n",
       "      <th>1654542</th>\n",
       "      <td>1421318263133310983</td>\n",
       "      <td>2021-07-31 03:54:15+00:00</td>\n",
       "      <td>join me at bitcoin: macroeconomics, geopolitic...</td>\n",
       "      <td>NaN</td>\n",
       "      <td>0.0</td>\n",
       "      <td>0.0</td>\n",
       "      <td>1.0</td>\n",
       "      <td>Bitcoindad88</td>\n",
       "      <td>865.0</td>\n",
       "      <td>3503.0</td>\n",
       "      <td>2770.0</td>\n",
       "      <td>2021-07-31 03:54:15+00:00</td>\n",
       "      <td>66</td>\n",
       "    </tr>\n",
       "    <tr>\n",
       "      <th>886224</th>\n",
       "      <td>1432819299429888005</td>\n",
       "      <td>2021-08-31 21:35:16+00:00</td>\n",
       "      <td>when you say \"a bitcoin model\" you mean they u...</td>\n",
       "      <td>NaN</td>\n",
       "      <td>0.0</td>\n",
       "      <td>0.0</td>\n",
       "      <td>10.0</td>\n",
       "      <td>GSR6669</td>\n",
       "      <td>79.0</td>\n",
       "      <td>5770.0</td>\n",
       "      <td>199.0</td>\n",
       "      <td>2021-08-31 21:35:16+00:00</td>\n",
       "      <td>98</td>\n",
       "    </tr>\n",
       "  </tbody>\n",
       "</table>\n",
       "<p>310 rows × 13 columns</p>\n",
       "</div>"
      ],
      "text/plain": [
       "                                   id                       date  \\\n",
       "dateTime                                                           \n",
       "1        877320   1432982797438889985  2021-09-01 08:24:57+00:00   \n",
       "         1620664  1421887791797919744  2021-08-01 17:37:21+00:00   \n",
       "         863024   1433146446728024065  2021-09-01 19:15:14+00:00   \n",
       "         872346   1433054222388396055  2021-09-01 13:08:46+00:00   \n",
       "         877074   1432987140791672835  2021-09-01 08:42:12+00:00   \n",
       "...                               ...                        ...   \n",
       "31       1652708  1421357858134822913  2021-07-31 06:31:35+00:00   \n",
       "         1655000  1421310741588496386  2021-07-31 03:24:22+00:00   \n",
       "         898887   1432663044157489159  2021-08-31 11:14:21+00:00   \n",
       "         1654542  1421318263133310983  2021-07-31 03:54:15+00:00   \n",
       "         886224   1432819299429888005  2021-08-31 21:35:16+00:00   \n",
       "\n",
       "                                                               text  \\\n",
       "dateTime                                                              \n",
       "1        877320   keep putting money into your pension, everythi...   \n",
       "         1620664  the divine line “bitcoin/cryptocurrency is for...   \n",
       "         863024                                          shop &amp;   \n",
       "         872346              gm fam. breaking $50k today. 👊 send it   \n",
       "         877074   delegates from el salvador's finance commissio...   \n",
       "...                                                             ...   \n",
       "31       1652708  imagine if everyone in bitcoin and the larger ...   \n",
       "         1655000                             full send!!! 💚🚀💥👻🔥✈️✈️   \n",
       "         898887   $eth flips $btc on its next run up and i don’t...   \n",
       "         1654542  join me at bitcoin: macroeconomics, geopolitic...   \n",
       "         886224   when you say \"a bitcoin model\" you mean they u...   \n",
       "\n",
       "                                                           hashtags  \\\n",
       "dateTime                                                              \n",
       "1        877320                          ['Bitcoin', 'FoxBusiness']   \n",
       "         1620664  ['crypto', 'btc', 'bitcoin', 'bnb', 'bsc', 'cr...   \n",
       "         863024   ['linkedin', 'twitter', 'facebook', 'instagram...   \n",
       "         872346                                         ['bitcoin']   \n",
       "         877074                           ['Bitcoin', 'ElSalvador']   \n",
       "...                                                             ...   \n",
       "31       1652708                                                NaN   \n",
       "         1655000                                                NaN   \n",
       "         898887                                                 NaN   \n",
       "         1654542                                                NaN   \n",
       "         886224                                                 NaN   \n",
       "\n",
       "                  replyCount  retweetCount  likeCount         userName  \\\n",
       "dateTime                                                                 \n",
       "1        877320          0.0           0.0        1.0  Alberto62316949   \n",
       "         1620664         0.0           0.0        1.0     Bbcryptonews   \n",
       "         863024          0.0           1.0        0.0  bmurphypointman   \n",
       "         872346         12.0           6.0      127.0       kailybuemi   \n",
       "         877074          0.0           0.0        2.0  CryptoManiacs10   \n",
       "...                      ...           ...        ...              ...   \n",
       "31       1652708         5.0           2.0       36.0         austorms   \n",
       "         1655000         0.0           0.0        1.0  WatchingCryptYo   \n",
       "         898887          0.0           5.0       26.0         notEezzy   \n",
       "         1654542         0.0           0.0        1.0     Bitcoindad88   \n",
       "         886224          0.0           0.0       10.0          GSR6669   \n",
       "\n",
       "                  userFollowerCount  userFavCount  userFriendCount  \\\n",
       "dateTime                                                             \n",
       "1        877320                55.0         819.0            225.0   \n",
       "         1620664              563.0         422.0           1357.0   \n",
       "         863024             71127.0          24.0          12210.0   \n",
       "         872346              5966.0        9010.0           1128.0   \n",
       "         877074               521.0        1045.0            108.0   \n",
       "...                             ...           ...              ...   \n",
       "31       1652708             4373.0       20306.0            695.0   \n",
       "         1655000               16.0        1793.0            146.0   \n",
       "         898887             27483.0       14424.0           1966.0   \n",
       "         1654542              865.0        3503.0           2770.0   \n",
       "         886224                79.0        5770.0            199.0   \n",
       "\n",
       "                                  dateTime  textLength  \n",
       "dateTime                                                \n",
       "1        877320  2021-09-01 08:24:57+00:00         161  \n",
       "         1620664 2021-08-01 17:37:21+00:00         149  \n",
       "         863024  2021-09-01 19:15:14+00:00          10  \n",
       "         872346  2021-09-01 13:08:46+00:00          38  \n",
       "         877074  2021-09-01 08:42:12+00:00         219  \n",
       "...                                    ...         ...  \n",
       "31       1652708 2021-07-31 06:31:35+00:00         112  \n",
       "         1655000 2021-07-31 03:24:22+00:00          22  \n",
       "         898887  2021-08-31 11:14:21+00:00          63  \n",
       "         1654542 2021-07-31 03:54:15+00:00          66  \n",
       "         886224  2021-08-31 21:35:16+00:00          98  \n",
       "\n",
       "[310 rows x 13 columns]"
      ]
     },
     "metadata": {},
     "execution_count": 29
    }
   ],
   "metadata": {}
  }
 ],
 "metadata": {
  "interpreter": {
   "hash": "aee8b7b246df8f9039afb4144a1f6fd8d2ca17a180786b69acc140d282b71a49"
  },
  "kernelspec": {
   "name": "python3",
   "display_name": "Python 3.9.6 64-bit"
  },
  "language_info": {
   "codemirror_mode": {
    "name": "ipython",
    "version": 3
   },
   "file_extension": ".py",
   "mimetype": "text/x-python",
   "name": "python",
   "nbconvert_exporter": "python",
   "pygments_lexer": "ipython3",
   "version": "3.9.6"
  },
  "orig_nbformat": 4
 },
 "nbformat": 4,
 "nbformat_minor": 2
}