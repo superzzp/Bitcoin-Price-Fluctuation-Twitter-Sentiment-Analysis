{
 "cells": [
  {
   "cell_type": "code",
   "execution_count": 1,
   "metadata": {},
   "outputs": [],
   "source": [
    "import pandas as pd\n",
    "import numpy as np\n",
    "import matplotlib.pyplot as plt\n",
    "import random \n",
    "import re\n",
    "import preprocessor as p\n"
   ]
  },
  {
   "cell_type": "code",
   "execution_count": 2,
   "metadata": {},
   "outputs": [],
   "source": [
    "#chunksize = 10 ** 8\n",
    "\n",
    "#btcdata = pd.read_csv('../data/interim/copy/bitcoin_engage_tweets_search_result_temp.csv')\n",
    "#btcdata = pd.read_csv('../data/raw/btc-tweets-2016-2019/tweets.csv', sep='delimiter', header=None, low_memory=False)\n",
    "#btcdata = pd.read_csv('../data/interim/bitcoin_all_tweets_search_result.csv')\n",
    "btcTrainData = pd.read_csv('../data/interim/bitcoin_all_tweets_search_result_20211001-20220130.csv')\n",
    "\n"
   ]
  },
  {
   "cell_type": "code",
   "execution_count": 3,
   "metadata": {},
   "outputs": [
    {
     "name": "stdout",
     "output_type": "stream",
     "text": [
      "(9168747, 11)\n",
      "<class 'pandas.core.frame.DataFrame'>\n",
      "RangeIndex: 9168747 entries, 0 to 9168746\n",
      "Data columns (total 11 columns):\n",
      " #   Column             Dtype \n",
      "---  ------             ----- \n",
      " 0   id                 int64 \n",
      " 1   date               object\n",
      " 2   text               object\n",
      " 3   hashtags           object\n",
      " 4   replyCount         int64 \n",
      " 5   retweetCount       int64 \n",
      " 6   likeCount          int64 \n",
      " 7   userName           object\n",
      " 8   userFollowerCount  int64 \n",
      " 9   userFavCount       int64 \n",
      " 10  userFriendCount    int64 \n",
      "dtypes: int64(7), object(4)\n",
      "memory usage: 769.5+ MB\n"
     ]
    }
   ],
   "source": [
    "\n",
    "btcTrainData = btcTrainData[['id', 'date', 'text', 'hashtags', 'replyCount', 'retweetCount',\n",
    "'likeCount', 'userName', 'userFollowerCount', 'userFavCount', 'userFriendCount']]\n",
    "print(btcTrainData.shape)\n",
    "btcTrainData.info()\n"
   ]
  },
  {
   "cell_type": "code",
   "execution_count": 4,
   "metadata": {},
   "outputs": [
    {
     "name": "stdout",
     "output_type": "stream",
     "text": [
      "before dropping duplicate by id: (9168747, 11)\n",
      "after dropping duplicate by id: (9168747, 11)\n"
     ]
    }
   ],
   "source": [
    "#Remove duplicates based on the id\n",
    "print('before dropping duplicate by id:' , btcTrainData.shape)\n",
    "btcTrainData = btcTrainData.drop_duplicates(subset=['id'], keep='first')\n",
    "print('after dropping duplicate by id:' , btcTrainData.shape)\n"
   ]
  },
  {
   "cell_type": "code",
   "execution_count": 5,
   "metadata": {},
   "outputs": [
    {
     "data": {
      "text/plain": [
       "(9168747, 11)"
      ]
     },
     "execution_count": 5,
     "metadata": {},
     "output_type": "execute_result"
    }
   ],
   "source": [
    "#convert type of numeric fields\n",
    "btcTrainData['replyCount'] = pd.to_numeric(btcTrainData['replyCount'], errors='coerce')\n",
    "btcTrainData['retweetCount'] = pd.to_numeric(btcTrainData['retweetCount'], errors='coerce')\n",
    "btcTrainData['likeCount'] = pd.to_numeric(btcTrainData['likeCount'], errors='coerce')\n",
    "btcTrainData['userFollowerCount'] = pd.to_numeric(btcTrainData['userFollowerCount'], errors='coerce')\n",
    "btcTrainData['userFavCount'] = pd.to_numeric(btcTrainData['userFavCount'], errors='coerce')\n",
    "btcTrainData['userFriendCount'] = pd.to_numeric(btcTrainData['userFriendCount'], errors='coerce')\n",
    "\n",
    "#convert type of text fields\n",
    "btcTrainData['text'] = btcTrainData['text'].astype(\"string\")\n",
    "\n",
    "#btcdata.shape\n",
    "btcTrainData = btcTrainData.dropna(subset=['replyCount', 'retweetCount', 'likeCount', 'userFollowerCount', 'userFavCount', 'userFriendCount'])\n",
    "btcTrainData.shape\n",
    "#btcdata = btcdata.astype({\n",
    "    #\"userFollowerCount\": \"int\",\n",
    "    #\"userFavCount\": \"int\",\n",
    "    #\"userFriendCount\": \"int\",\n",
    "    #\"replyCount\": \"int\",\n",
    "    #\"retweetCount\": \"int\",\n",
    "    #\"likeCount\": \"int\"\n",
    "    #}) \n",
    "\n",
    "\n",
    "#btcdata.describe().apply(lambda s: s.apply('{0:.5f}'.format))\n",
    "\n"
   ]
  },
  {
   "cell_type": "code",
   "execution_count": 6,
   "metadata": {},
   "outputs": [],
   "source": [
    "#converting to datetime from string\n",
    "btcTrainData[\"dateTime\"] = pd.to_datetime(btcTrainData[\"date\"], format=\"%Y-%m-%d %H:%M:%S\", errors='coerce')\n",
    "\n",
    "#to get rows from a period of time using dateTime\n",
    "#august = btcdata[(btcdata['dateTime'] > '2021-08-01') & (btcdata['dateTime'] < '2021-09-01')]\n"
   ]
  },
  {
   "cell_type": "code",
   "execution_count": 7,
   "metadata": {},
   "outputs": [
    {
     "data": {
      "text/plain": [
       "30000    @BretWeinstein @BitcoinRadiolo1 Learn about RS...\n",
       "30001    Bitcoin vulnerabilities due to mining call its...\n",
       "30002    #BTC is gonna make it!!  😉 https://t.co/4k0wAw...\n",
       "30003    Crypto mining won’t survive another round of e...\n",
       "30004    Be weary btc is supposed to go to 25k https://...\n",
       "                               ...                        \n",
       "39995    Swing 🚥\n",
       "\n",
       "$BTC 🟢 $37,805.03\n",
       "$ETH 🟢 $2,569.97\n",
       "$B...\n",
       "39996    @stoolpresidente Why don’t you’re kick your bo...\n",
       "39997      @gator_bitcoin Shorts are killing ya huh?  🤣🤣🤣🤣\n",
       "39998    isthisallowed found #bitcoin in a User vault a...\n",
       "39999    @jbhearn The supply is essentially fixed. Its ...\n",
       "Name: text, Length: 10000, dtype: string"
      ]
     },
     "execution_count": 7,
     "metadata": {},
     "output_type": "execute_result"
    }
   ],
   "source": [
    "btcTrainData.text[30000:40000]\n",
    "#data = btcdata.astype({\"text\": \"str\"}, copy=True)\n",
    "#data['text'] = data['text'].str.replace('@[\\w]+', '')\n",
    "#data.info()\n"
   ]
  },
  {
   "cell_type": "code",
   "execution_count": 8,
   "metadata": {},
   "outputs": [
    {
     "data": {
      "text/plain": [
       "'@jbhearn the supply is essentially fixed. its a known. therefore demand for bitcoin is the only variable determining price. right now it is volatile, but will it be in 10 years? im guessing in 10 years bitcoin will be used more widely, and demand will be more stable.'"
      ]
     },
     "execution_count": 8,
     "metadata": {},
     "output_type": "execute_result"
    }
   ],
   "source": [
    "btcTrainData['text'] = btcTrainData['text'].apply(lambda x: x.lower()) #transform text to lowercase\n",
    "\n",
    "\n",
    "data = btcTrainData\n",
    "data.text[39999]"
   ]
  },
  {
   "cell_type": "code",
   "execution_count": 9,
   "metadata": {},
   "outputs": [
    {
     "name": "stdout",
     "output_type": "stream",
     "text": [
      "before dropping invalid users: (9168747, 12)\n",
      "after dropping invalid users: (9166500, 12)\n"
     ]
    }
   ],
   "source": [
    "#dropping the tweets from users with no followers, friends and favourites\n",
    "print('before dropping invalid users:' , data.shape)\n",
    "data = data[~((data[\"userFollowerCount\"] == 0) & (data[\"userFavCount\"] == 0) & (data[\"userFriendCount\"] == 0))]\n",
    "#data = data.drop(data[(data[\"user_followers\"] == 0) | (data[\"user_friends\"] == 0) | (data[\"user_favourites\"] == 0)].index)\n",
    "print('after dropping invalid users:', data.shape)\n"
   ]
  },
  {
   "cell_type": "code",
   "execution_count": 10,
   "metadata": {},
   "outputs": [
    {
     "name": "stdout",
     "output_type": "stream",
     "text": [
      "before dropping by hashtags: (9166500, 12)\n",
      "after dropping by hashtags: (9161967, 12)\n",
      "before dropping by single keyword: (9161967, 12)\n",
      "after dropping by single keyword: (9151642, 12)\n",
      "before dropping by bigrams: (9151642, 12)\n",
      "after dropping by bigrams: (8919130, 12)\n",
      "before dropping by trigrams: (8919130, 12)\n",
      "after dropping by trigrams: (8919051, 12)\n"
     ]
    }
   ],
   "source": [
    "#dropping the tweets with suspicious hashtags, words, bigrams, and trigrams\n",
    "\n",
    "#any(substring in string for substring in substring_list)\n",
    "\n",
    "#hashtags\n",
    "print('before dropping by hashtags:' , data.shape)\n",
    "data = data[~data.text.str.contains('#freecrypto|#freemoney|#freebitcoin|#freebtc')]\n",
    "print('after dropping by hashtags:' , data.shape)\n",
    "\n",
    "#words\n",
    "print('before dropping by single keyword:' , data.shape)\n",
    "data = data[~data.text.str.contains('entertaining|subscribe')]\n",
    "print('after dropping by single keyword:' , data.shape)\n",
    "\n",
    "#bigrams\n",
    "print('before dropping by bigrams:' , data.shape)\n",
    "data = data[~(data.text.str.contains('free bitcoin|current price|bitcoin price|earn bitcoin'))]\n",
    "print('after dropping by bigrams:' , data.shape)\n",
    "#data = data[~(data.text.str.contains('current') & (data.text.str.contains('price')))]\n",
    "#data = data[~(data.text.str.contains('bitcoin') & (data.text.str.contains('price')))]\n",
    "#data = data[~(data.text.str.contains('earn') & (data.text.str.contains('bitcoin')))]\n",
    "\n",
    "#trigrams\n",
    "print('before dropping by trigrams:' , data.shape)\n",
    "data = data[~(data.text.str.contains('start trading bitcoin'))]\n",
    "print('after dropping by trigrams:' , data.shape)\n"
   ]
  },
  {
   "cell_type": "code",
   "execution_count": 11,
   "metadata": {},
   "outputs": [],
   "source": [
    "#Remove urls, mentions, hashtags, empty lines, spaces, reserved words (RT, FAV)\n",
    "#keep emojis, smileys, numbers\n",
    "p.set_options(p.OPT.URL, p.OPT.MENTION, p.OPT.HASHTAG, p.OPT.RESERVED)\n",
    "data['text'] = data['text'].apply(lambda x: p.clean(x))\n",
    "\n"
   ]
  },
  {
   "cell_type": "code",
   "execution_count": 12,
   "metadata": {},
   "outputs": [
    {
     "data": {
      "text/plain": [
       "102    why nov 2021 was not the, \"true\" cycle top? ✔️...\n",
       "103    $btc price: $38192 $eth price: $2602 $ltc pric...\n",
       "104                                  he invented bitcoin\n",
       "105    criminals laundered $8.6 billion worth of cryp...\n",
       "106    a panel of 33 fintech experts predict (btc) to...\n",
       "                             ...                        \n",
       "203    michael saylor's bitcoin average: ~$29534 prof...\n",
       "204    i am super bullish because is most likely bitc...\n",
       "205    started out with a value of zero and has hit h...\n",
       "206                                now rewatch true lies\n",
       "207    this right here is a perfect example of the gu...\n",
       "Name: text, Length: 100, dtype: object"
      ]
     },
     "execution_count": 12,
     "metadata": {},
     "output_type": "execute_result"
    }
   ],
   "source": [
    "#Check the header of formated text\n",
    "data.text[100:200]\n"
   ]
  },
  {
   "cell_type": "code",
   "execution_count": 13,
   "metadata": {},
   "outputs": [],
   "source": [
    "#remove special characters\n",
    "#data['text'] = data['text'].apply(lambda x: re.sub('[^a-zA-z0-9\\s]', '', x)) "
   ]
  },
  {
   "cell_type": "code",
   "execution_count": 14,
   "metadata": {},
   "outputs": [],
   "source": [
    "#remove extra space between words\n",
    "#data['text'] = data['text'].apply(lambda x: re.sub(' +', ' ', x)) "
   ]
  },
  {
   "cell_type": "code",
   "execution_count": 15,
   "metadata": {},
   "outputs": [],
   "source": [
    "#save the length of each tweets to df\n",
    "data['textLength'] = data['text'].str.len()"
   ]
  },
  {
   "cell_type": "markdown",
   "metadata": {},
   "source": [
    "Verify data integrity\n"
   ]
  },
  {
   "cell_type": "code",
   "execution_count": 16,
   "metadata": {},
   "outputs": [
    {
     "name": "stdout",
     "output_type": "stream",
     "text": [
      "(8919051, 13)\n"
     ]
    },
    {
     "data": {
      "text/plain": [
       "(8919051, 13)"
      ]
     },
     "execution_count": 16,
     "metadata": {},
     "output_type": "execute_result"
    }
   ],
   "source": [
    "# Select all duplicate rows based on one column\n",
    "#duplicateRowsDF = data[data.duplicated(['id'])]\n",
    "\n",
    "#print(\"Duplicate Rows based on a single column are:\", duplicateRowsDF, sep='\\n')\n",
    "##duplicateRowsDF\n",
    "\n",
    "#Numbers of duplicate rows in each date\n",
    "#duplicateRowsDFDate = duplicateRowsDF['dateTime'].groupby(duplicateRowsDF['dateTime'].dt.date)\n",
    "#duplicateRowsDFDate.size()\n",
    "print(data.shape)\n",
    "\n",
    "#check if all the text are string\n",
    "data[data['text'].map(type) == str].shape \n",
    "\n"
   ]
  },
  {
   "cell_type": "markdown",
   "metadata": {},
   "source": [
    "Save processed data\n"
   ]
  },
  {
   "cell_type": "code",
   "execution_count": 17,
   "metadata": {},
   "outputs": [],
   "source": [
    "#save the processed data to csv\n",
    "data.to_csv('../data/processed/bitcoin_tweets_result_processed_20211001-20220130.csv')\n"
   ]
  },
  {
   "cell_type": "markdown",
   "metadata": {},
   "source": [
    "Display histograms of tweets length\n"
   ]
  },
  {
   "cell_type": "code",
   "execution_count": 18,
   "metadata": {},
   "outputs": [
    {
     "data": {
      "image/png": "[encoded data removed]",
      "text/plain": [
       "<Figure size 432x288 with 1 Axes>"
      ]
     },
     "metadata": {
      "needs_background": "dark"
     },
     "output_type": "display_data"
    }
   ],
   "source": [
    "#display histograms of tweets length\n",
    "#cols = [\"user_followers\", \"user_friends\", \"user_favourites\"]\n",
    "\n",
    "#for col in cols:\n",
    "col = \"textLength\"\n",
    "#btcdata = btcdata.astype({\"user_friends\": \"float64\"}) #Conv datatype of df3, user_followers Col from object to int64\n",
    "#pos_series = btcdata[col].tolist()\n",
    "#neg_series = negative_examples[col].tolist()\n",
    "plt.hist(data[col], 50, facecolor='g', alpha=0.7)\n",
    "#plt.hist(neg_series, 50, facecolor='r', alpha=0.7, label=\"0\")\n",
    "#plt.legend(prop={\"size\": 10})\n",
    "plt.xlabel(\"Tweet's length\", color='#FFC000')\n",
    "plt.ylabel(\"Count\", color='#FFC000')\n",
    "plt.ticklabel_format(style='plain')\n",
    "plt.tick_params(labelcolor='#FFC000')\n",
    "plt.title(\"Histogram of tweets length by tweets count\", color='#FFC000')\n",
    "plt.show()"
   ]
  },
  {
   "cell_type": "markdown",
   "metadata": {},
   "source": [
    "Check the total number of tweets for each day, overlay with bitcoin closing price\n"
   ]
  },
  {
   "cell_type": "code",
   "execution_count": 19,
   "metadata": {},
   "outputs": [],
   "source": [
    "#load bitcoin pricing information\n",
    "price = pd.read_csv('../data/external/BTC_USD_2020-10-10_2021-10-09-CoinDesk.csv')\n",
    "pdata = price[['Date', 'Closing Price (USD)']]"
   ]
  },
  {
   "cell_type": "code",
   "execution_count": 20,
   "metadata": {},
   "outputs": [],
   "source": [
    "#count number of tweets each date\n",
    "df = data['dateTime'].groupby(data['dateTime'].dt.date).size().reset_index(name='count')"
   ]
  },
  {
   "cell_type": "code",
   "execution_count": 21,
   "metadata": {},
   "outputs": [
    {
     "name": "stdout",
     "output_type": "stream",
     "text": [
      "<class 'str'>\n"
     ]
    }
   ],
   "source": [
    "#merge two dfs by date\n",
    "\n",
    "\n",
    "df = df.astype({\"dateTime\": \"str\"}) \n",
    "print(type(df['dateTime'][0]))\n",
    "#print(type(pdata['Date'][0]))\n",
    "\n",
    "#merged_df1 = pd.merge(left=df, right=pdata, left_on='dateTime', right_on='Date')\n",
    "#merged_df1 = merged_df1.astype({\"Closing Price (USD)\": \"int\"}) \n",
    "#merged_df1"
   ]
  },
  {
   "cell_type": "code",
   "execution_count": 22,
   "metadata": {},
   "outputs": [
    {
     "data": {
      "image/png": "[encoded data removed]",
      "text/plain": [
       "<Figure size 1280x720 with 1 Axes>"
      ]
     },
     "metadata": {
      "needs_background": "light"
     },
     "output_type": "display_data"
    }
   ],
   "source": [
    "#x = merged_df1['dateTime']\n",
    "#y1 = merged_df1['count']\n",
    "#y2 = merged_df1['Closing Price (USD)']\n",
    "\n",
    "x = df['dateTime']\n",
    "y1 = df['count']\n",
    "\n",
    "# Plot Line1 (Left Y Axis)\n",
    "fig, ax1 = plt.subplots(1,1,figsize=(16,9), dpi= 80)\n",
    "ax1.plot(x, y1, color='tab:red')\n",
    "\n",
    "\n",
    "# Plot Line2 (Right Y Axis)\n",
    "#ax2 = ax1.twinx()  # instantiate a second axes that shares the same x-axis\n",
    "#ax2.plot(x, y2, color='tab:blue')\n",
    "\n",
    "# Decorations\n",
    "# ax1 (left Y axis)\n",
    "ax1.set_xlabel('Date', fontsize=20)\n",
    "ax1.tick_params(axis='x', rotation=0, labelsize=12)\n",
    "ax1.set_ylabel('Tweets count by date', color='tab:red', fontsize=20)\n",
    "ax1.tick_params(axis='y', rotation=0, labelcolor='tab:red' )\n",
    "ax1.grid(alpha=.4)\n",
    "\n",
    "ax1.set_xticks(np.arange(0, len(x), 10)) #change this number to change the number of labels\n",
    "ax1.set_xticklabels(x[::10], rotation=90, fontdict={'fontsize':10}) #change this number to change the number of labels\n",
    "\n",
    "# ax2 (right Y axis)\n",
    "#ax2.set_ylabel(\"Bitcoin closing price (USD)\", color='tab:blue', fontsize=20)\n",
    "#ax2.tick_params(axis='y', labelcolor='tab:blue')\n",
    "#ax2.set_xticks(np.arange(0, len(x), 20)) #change this number to change the number of labels\n",
    "#ax2.set_xticklabels(x[::20], rotation=90, fontdict={'fontsize':10}) #change this number to change the number of labels\n",
    "#ax2.set_title(\"Personal Savings Rate vs Unemployed: Plotting in Secondary Y Axis\", fontsize=22)\n",
    "fig.tight_layout()\n",
    "plt.show()\n",
    "\n",
    "\n"
   ]
  },
  {
   "cell_type": "markdown",
   "metadata": {},
   "source": [
    "Randomly select rows from each day\n"
   ]
  },
  {
   "cell_type": "code",
   "execution_count": 23,
   "metadata": {},
   "outputs": [
    {
     "data": {
      "text/html": [
       "<div>\n",
       "<style scoped>\n",
       "    .dataframe tbody tr th:only-of-type {\n",
       "        vertical-align: middle;\n",
       "    }\n",
       "\n",
       "    .dataframe tbody tr th {\n",
       "        vertical-align: top;\n",
       "    }\n",
       "\n",
       "    .dataframe thead th {\n",
       "        text-align: right;\n",
       "    }\n",
       "</style>\n",
       "<table border=\"1\" class=\"dataframe\">\n",
       "  <thead>\n",
       "    <tr style=\"text-align: right;\">\n",
       "      <th></th>\n",
       "      <th></th>\n",
       "      <th>id</th>\n",
       "      <th>date</th>\n",
       "      <th>text</th>\n",
       "      <th>hashtags</th>\n",
       "      <th>replyCount</th>\n",
       "      <th>retweetCount</th>\n",
       "      <th>likeCount</th>\n",
       "      <th>userName</th>\n",
       "      <th>userFollowerCount</th>\n",
       "      <th>userFavCount</th>\n",
       "      <th>userFriendCount</th>\n",
       "      <th>dateTime</th>\n",
       "      <th>textLength</th>\n",
       "    </tr>\n",
       "    <tr>\n",
       "      <th>dateTime</th>\n",
       "      <th></th>\n",
       "      <th></th>\n",
       "      <th></th>\n",
       "      <th></th>\n",
       "      <th></th>\n",
       "      <th></th>\n",
       "      <th></th>\n",
       "      <th></th>\n",
       "      <th></th>\n",
       "      <th></th>\n",
       "      <th></th>\n",
       "      <th></th>\n",
       "      <th></th>\n",
       "      <th></th>\n",
       "    </tr>\n",
       "  </thead>\n",
       "  <tbody>\n",
       "    <tr>\n",
       "      <th rowspan=\"5\" valign=\"top\">1</th>\n",
       "      <th>4440283</th>\n",
       "      <td>1465943852183965697</td>\n",
       "      <td>2021-12-01 07:20:24+00:00</td>\n",
       "      <td>hey this is a great to get behind! raising mon...</td>\n",
       "      <td>['SHIBARMY', 'Ethereum', 'Bitcoin', 'dogelon',...</td>\n",
       "      <td>0</td>\n",
       "      <td>0</td>\n",
       "      <td>0</td>\n",
       "      <td>SirRonHale</td>\n",
       "      <td>5930</td>\n",
       "      <td>546</td>\n",
       "      <td>576</td>\n",
       "      <td>2021-12-01 07:20:24+00:00</td>\n",
       "      <td>63</td>\n",
       "    </tr>\n",
       "    <tr>\n",
       "      <th>9104396</th>\n",
       "      <td>1444015825791422496</td>\n",
       "      <td>2021-10-01 19:06:16+00:00</td>\n",
       "      <td>literally everyone saying $53k is the next big...</td>\n",
       "      <td>['BTC']</td>\n",
       "      <td>2</td>\n",
       "      <td>1</td>\n",
       "      <td>22</td>\n",
       "      <td>kale_abe</td>\n",
       "      <td>82812</td>\n",
       "      <td>10161</td>\n",
       "      <td>522</td>\n",
       "      <td>2021-10-01 19:06:16+00:00</td>\n",
       "      <td>258</td>\n",
       "    </tr>\n",
       "    <tr>\n",
       "      <th>4432668</th>\n",
       "      <td>1465984969713623046</td>\n",
       "      <td>2021-12-01 10:03:48+00:00</td>\n",
       "      <td>24-hour crypto market activity via social volu...</td>\n",
       "      <td>['LunarCrush', 'LunarShare']</td>\n",
       "      <td>0</td>\n",
       "      <td>5</td>\n",
       "      <td>6</td>\n",
       "      <td>JiyaulH02265628</td>\n",
       "      <td>46</td>\n",
       "      <td>514</td>\n",
       "      <td>335</td>\n",
       "      <td>2021-12-01 10:03:48+00:00</td>\n",
       "      <td>209</td>\n",
       "    </tr>\n",
       "    <tr>\n",
       "      <th>6728334</th>\n",
       "      <td>1455115160025112578</td>\n",
       "      <td>2021-11-01 10:11:03+00:00</td>\n",
       "      <td>the sandbox - $sand nexo - $nexo kucoin token ...</td>\n",
       "      <td>NaN</td>\n",
       "      <td>0</td>\n",
       "      <td>1</td>\n",
       "      <td>4</td>\n",
       "      <td>AnsariMfa</td>\n",
       "      <td>13</td>\n",
       "      <td>160</td>\n",
       "      <td>112</td>\n",
       "      <td>2021-11-01 10:11:03+00:00</td>\n",
       "      <td>254</td>\n",
       "    </tr>\n",
       "    <tr>\n",
       "      <th>9118536</th>\n",
       "      <td>1443958305957818370</td>\n",
       "      <td>2021-10-01 15:17:42+00:00</td>\n",
       "      <td>would love to get in touch. this is an older f...</td>\n",
       "      <td>NaN</td>\n",
       "      <td>1</td>\n",
       "      <td>0</td>\n",
       "      <td>2</td>\n",
       "      <td>SinoCrypto</td>\n",
       "      <td>19492</td>\n",
       "      <td>19356</td>\n",
       "      <td>1091</td>\n",
       "      <td>2021-10-01 15:17:42+00:00</td>\n",
       "      <td>191</td>\n",
       "    </tr>\n",
       "    <tr>\n",
       "      <th>...</th>\n",
       "      <th>...</th>\n",
       "      <td>...</td>\n",
       "      <td>...</td>\n",
       "      <td>...</td>\n",
       "      <td>...</td>\n",
       "      <td>...</td>\n",
       "      <td>...</td>\n",
       "      <td>...</td>\n",
       "      <td>...</td>\n",
       "      <td>...</td>\n",
       "      <td>...</td>\n",
       "      <td>...</td>\n",
       "      <td>...</td>\n",
       "      <td>...</td>\n",
       "    </tr>\n",
       "    <tr>\n",
       "      <th rowspan=\"5\" valign=\"top\">31</th>\n",
       "      <th>2343160</th>\n",
       "      <td>1476999129452716035</td>\n",
       "      <td>2021-12-31 19:30:08+00:00</td>\n",
       "      <td>just fork to a new hashing algorithm. if your ...</td>\n",
       "      <td>NaN</td>\n",
       "      <td>1</td>\n",
       "      <td>0</td>\n",
       "      <td>1</td>\n",
       "      <td>DavidVorick</td>\n",
       "      <td>14653</td>\n",
       "      <td>6240</td>\n",
       "      <td>494</td>\n",
       "      <td>2021-12-31 19:30:08+00:00</td>\n",
       "      <td>170</td>\n",
       "    </tr>\n",
       "    <tr>\n",
       "      <th>2370814</th>\n",
       "      <td>1476856842877816832</td>\n",
       "      <td>2021-12-31 10:04:44+00:00</td>\n",
       "      <td>is at 48286 usd</td>\n",
       "      <td>['Bitcoin']</td>\n",
       "      <td>1</td>\n",
       "      <td>0</td>\n",
       "      <td>0</td>\n",
       "      <td>cryptokuh</td>\n",
       "      <td>141</td>\n",
       "      <td>17</td>\n",
       "      <td>168</td>\n",
       "      <td>2021-12-31 10:04:44+00:00</td>\n",
       "      <td>15</td>\n",
       "    </tr>\n",
       "    <tr>\n",
       "      <th>2332960</th>\n",
       "      <td>1477047729494835202</td>\n",
       "      <td>2021-12-31 22:43:15+00:00</td>\n",
       "      <td>neutral. partly because i don't have a clue, p...</td>\n",
       "      <td>['Bitcoin']</td>\n",
       "      <td>0</td>\n",
       "      <td>0</td>\n",
       "      <td>1</td>\n",
       "      <td>Butler_Services</td>\n",
       "      <td>48</td>\n",
       "      <td>1417</td>\n",
       "      <td>119</td>\n",
       "      <td>2021-12-31 22:43:15+00:00</td>\n",
       "      <td>116</td>\n",
       "    </tr>\n",
       "    <tr>\n",
       "      <th>2358824</th>\n",
       "      <td>1476927509534953475</td>\n",
       "      <td>2021-12-31 14:45:32+00:00</td>\n",
       "      <td>amazing break ath soon</td>\n",
       "      <td>['BTC', 'SpikeInu']</td>\n",
       "      <td>0</td>\n",
       "      <td>0</td>\n",
       "      <td>0</td>\n",
       "      <td>Katyl68</td>\n",
       "      <td>38</td>\n",
       "      <td>1551</td>\n",
       "      <td>271</td>\n",
       "      <td>2021-12-31 14:45:32+00:00</td>\n",
       "      <td>22</td>\n",
       "    </tr>\n",
       "    <tr>\n",
       "      <th>2354614</th>\n",
       "      <td>1476947900726927368</td>\n",
       "      <td>2021-12-31 16:06:34+00:00</td>\n",
       "      <td>is this michael saylor a bot? he is spamming e...</td>\n",
       "      <td>NaN</td>\n",
       "      <td>0</td>\n",
       "      <td>0</td>\n",
       "      <td>0</td>\n",
       "      <td>liquids17483287</td>\n",
       "      <td>30</td>\n",
       "      <td>505</td>\n",
       "      <td>44</td>\n",
       "      <td>2021-12-31 16:06:34+00:00</td>\n",
       "      <td>122</td>\n",
       "    </tr>\n",
       "  </tbody>\n",
       "</table>\n",
       "<p>310 rows × 13 columns</p>\n",
       "</div>"
      ],
      "text/plain": [
       "                                   id                       date  \\\n",
       "dateTime                                                           \n",
       "1        4440283  1465943852183965697  2021-12-01 07:20:24+00:00   \n",
       "         9104396  1444015825791422496  2021-10-01 19:06:16+00:00   \n",
       "         4432668  1465984969713623046  2021-12-01 10:03:48+00:00   \n",
       "         6728334  1455115160025112578  2021-11-01 10:11:03+00:00   \n",
       "         9118536  1443958305957818370  2021-10-01 15:17:42+00:00   \n",
       "...                               ...                        ...   \n",
       "31       2343160  1476999129452716035  2021-12-31 19:30:08+00:00   \n",
       "         2370814  1476856842877816832  2021-12-31 10:04:44+00:00   \n",
       "         2332960  1477047729494835202  2021-12-31 22:43:15+00:00   \n",
       "         2358824  1476927509534953475  2021-12-31 14:45:32+00:00   \n",
       "         2354614  1476947900726927368  2021-12-31 16:06:34+00:00   \n",
       "\n",
       "                                                               text  \\\n",
       "dateTime                                                              \n",
       "1        4440283  hey this is a great to get behind! raising mon...   \n",
       "         9104396  literally everyone saying $53k is the next big...   \n",
       "         4432668  24-hour crypto market activity via social volu...   \n",
       "         6728334  the sandbox - $sand nexo - $nexo kucoin token ...   \n",
       "         9118536  would love to get in touch. this is an older f...   \n",
       "...                                                             ...   \n",
       "31       2343160  just fork to a new hashing algorithm. if your ...   \n",
       "         2370814                                    is at 48286 usd   \n",
       "         2332960  neutral. partly because i don't have a clue, p...   \n",
       "         2358824                             amazing break ath soon   \n",
       "         2354614  is this michael saylor a bot? he is spamming e...   \n",
       "\n",
       "                                                           hashtags  \\\n",
       "dateTime                                                              \n",
       "1        4440283  ['SHIBARMY', 'Ethereum', 'Bitcoin', 'dogelon',...   \n",
       "         9104396                                            ['BTC']   \n",
       "         4432668                       ['LunarCrush', 'LunarShare']   \n",
       "         6728334                                                NaN   \n",
       "         9118536                                                NaN   \n",
       "...                                                             ...   \n",
       "31       2343160                                                NaN   \n",
       "         2370814                                        ['Bitcoin']   \n",
       "         2332960                                        ['Bitcoin']   \n",
       "         2358824                                ['BTC', 'SpikeInu']   \n",
       "         2354614                                                NaN   \n",
       "\n",
       "                  replyCount  retweetCount  likeCount         userName  \\\n",
       "dateTime                                                                 \n",
       "1        4440283           0             0          0       SirRonHale   \n",
       "         9104396           2             1         22         kale_abe   \n",
       "         4432668           0             5          6  JiyaulH02265628   \n",
       "         6728334           0             1          4        AnsariMfa   \n",
       "         9118536           1             0          2       SinoCrypto   \n",
       "...                      ...           ...        ...              ...   \n",
       "31       2343160           1             0          1      DavidVorick   \n",
       "         2370814           1             0          0        cryptokuh   \n",
       "         2332960           0             0          1  Butler_Services   \n",
       "         2358824           0             0          0          Katyl68   \n",
       "         2354614           0             0          0  liquids17483287   \n",
       "\n",
       "                  userFollowerCount  userFavCount  userFriendCount  \\\n",
       "dateTime                                                             \n",
       "1        4440283               5930           546              576   \n",
       "         9104396              82812         10161              522   \n",
       "         4432668                 46           514              335   \n",
       "         6728334                 13           160              112   \n",
       "         9118536              19492         19356             1091   \n",
       "...                             ...           ...              ...   \n",
       "31       2343160              14653          6240              494   \n",
       "         2370814                141            17              168   \n",
       "         2332960                 48          1417              119   \n",
       "         2358824                 38          1551              271   \n",
       "         2354614                 30           505               44   \n",
       "\n",
       "                                  dateTime  textLength  \n",
       "dateTime                                                \n",
       "1        4440283 2021-12-01 07:20:24+00:00          63  \n",
       "         9104396 2021-10-01 19:06:16+00:00         258  \n",
       "         4432668 2021-12-01 10:03:48+00:00         209  \n",
       "         6728334 2021-11-01 10:11:03+00:00         254  \n",
       "         9118536 2021-10-01 15:17:42+00:00         191  \n",
       "...                                    ...         ...  \n",
       "31       2343160 2021-12-31 19:30:08+00:00         170  \n",
       "         2370814 2021-12-31 10:04:44+00:00          15  \n",
       "         2332960 2021-12-31 22:43:15+00:00         116  \n",
       "         2358824 2021-12-31 14:45:32+00:00          22  \n",
       "         2354614 2021-12-31 16:06:34+00:00         122  \n",
       "\n",
       "[310 rows x 13 columns]"
      ]
     },
     "execution_count": 23,
     "metadata": {},
     "output_type": "execute_result"
    }
   ],
   "source": [
    "#btcdata.groupby(btcdata['date_time'].dt.year).apply(lambda x :x.iloc[random.choice(range(0,len(x)))])\n",
    "#btcdata.groupby(btcdata['date_time'].dt.year).apply(lambda x: x.sample(2)).reset_index(drop=True)\n",
    "\n",
    "selected = data.groupby(data['dateTime'].dt.day).apply(lambda x: x.sample(10, random_state=889))\n",
    "\n",
    "selected.to_csv('sample_bitcoin_tweets_ten_each_day.csv')\n",
    "selected"
   ]
  }
 ],
 "metadata": {
  "interpreter": {
   "hash": "aee8b7b246df8f9039afb4144a1f6fd8d2ca17a180786b69acc140d282b71a49"
  },
  "kernelspec": {
   "display_name": "Python 3.9.6 64-bit",
   "name": "python3"
  },
  "language_info": {
   "codemirror_mode": {
    "name": "ipython",
    "version": 3
   },
   "file_extension": ".py",
   "mimetype": "text/x-python",
   "name": "python",
   "nbconvert_exporter": "python",
   "pygments_lexer": "ipython3",
   "version": "3.9.6"
  },
  "orig_nbformat": 4
 },
 "nbformat": 4,
 "nbformat_minor": 2
}
