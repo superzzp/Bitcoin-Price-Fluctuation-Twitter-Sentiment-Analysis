{
 "cells": [
  {
   "cell_type": "code",
   "execution_count": 1,
   "metadata": {},
   "outputs": [],
   "source": [
    "import pandas as pd\n",
    "import numpy as np\n",
    "import matplotlib.pyplot as plt\n",
    "import random \n",
    "import re\n",
    "import preprocessor as p\n"
   ]
  },
  {
   "cell_type": "code",
   "execution_count": 2,
   "metadata": {},
   "outputs": [
    {
     "name": "stderr",
     "output_type": "stream",
     "text": [
      "/Library/Frameworks/Python.framework/Versions/3.9/lib/python3.9/site-packages/IPython/core/interactiveshell.py:3441: DtypeWarning: Columns (0,4,5,6,8,9,10) have mixed types.Specify dtype option on import or set low_memory=False.\n",
      "  exec(code_obj, self.user_global_ns, self.user_ns)\n"
     ]
    }
   ],
   "source": [
    "#chunksize = 10 ** 8\n",
    "\n",
    "#btcdata = pd.read_csv('../data/interim/copy/bitcoin_engage_tweets_search_result_temp.csv')\n",
    "#btcdata = pd.read_csv('../data/raw/btc-tweets-2016-2019/tweets.csv', sep='delimiter', header=None, low_memory=False)\n",
    "#btcdata = pd.read_csv('../data/interim/bitcoin_all_tweets_search_result.csv')\n",
    "btcTrainData = pd.read_csv('../data/interim/bitcoin_all_tweets_search_result_20210101-20210930.csv')\n",
    "\n"
   ]
  },
  {
   "cell_type": "code",
   "execution_count": 3,
   "metadata": {},
   "outputs": [
    {
     "name": "stdout",
     "output_type": "stream",
     "text": [
      "(20357616, 11)\n",
      "<class 'pandas.core.frame.DataFrame'>\n",
      "RangeIndex: 20357616 entries, 0 to 20357615\n",
      "Data columns (total 11 columns):\n",
      " #   Column             Dtype \n",
      "---  ------             ----- \n",
      " 0   id                 object\n",
      " 1   date               object\n",
      " 2   text               object\n",
      " 3   hashtags           object\n",
      " 4   replyCount         object\n",
      " 5   retweetCount       object\n",
      " 6   likeCount          object\n",
      " 7   userName           object\n",
      " 8   userFollowerCount  object\n",
      " 9   userFavCount       object\n",
      " 10  userFriendCount    object\n",
      "dtypes: object(11)\n",
      "memory usage: 1.7+ GB\n"
     ]
    }
   ],
   "source": [
    "\n",
    "btcTrainData = btcTrainData[['id', 'date', 'text', 'hashtags', 'replyCount', 'retweetCount',\n",
    "'likeCount', 'userName', 'userFollowerCount', 'userFavCount', 'userFriendCount']]\n",
    "print(btcTrainData.shape)\n",
    "btcTrainData.info()\n"
   ]
  },
  {
   "cell_type": "code",
   "execution_count": 4,
   "metadata": {},
   "outputs": [
    {
     "name": "stdout",
     "output_type": "stream",
     "text": [
      "before dropping duplicate by id: (20357616, 11)\n",
      "after dropping duplicate by id: (20357288, 11)\n"
     ]
    }
   ],
   "source": [
    "#Remove duplicates based on the id\n",
    "print('before dropping duplicate by id:' , btcTrainData.shape)\n",
    "btcTrainData = btcTrainData.drop_duplicates(subset=['id'], keep='first')\n",
    "print('after dropping duplicate by id:' , btcTrainData.shape)\n"
   ]
  },
  {
   "cell_type": "code",
   "execution_count": 5,
   "metadata": {},
   "outputs": [
    {
     "data": {
      "text/plain": [
       "(20357287, 11)"
      ]
     },
     "execution_count": 5,
     "metadata": {},
     "output_type": "execute_result"
    }
   ],
   "source": [
    "#convert type of numeric fields\n",
    "btcTrainData['replyCount'] = pd.to_numeric(btcTrainData['replyCount'], errors='coerce')\n",
    "btcTrainData['retweetCount'] = pd.to_numeric(btcTrainData['retweetCount'], errors='coerce')\n",
    "btcTrainData['likeCount'] = pd.to_numeric(btcTrainData['likeCount'], errors='coerce')\n",
    "btcTrainData['userFollowerCount'] = pd.to_numeric(btcTrainData['userFollowerCount'], errors='coerce')\n",
    "btcTrainData['userFavCount'] = pd.to_numeric(btcTrainData['userFavCount'], errors='coerce')\n",
    "btcTrainData['userFriendCount'] = pd.to_numeric(btcTrainData['userFriendCount'], errors='coerce')\n",
    "\n",
    "#convert type of text fields\n",
    "btcTrainData['text'] = btcTrainData['text'].astype(\"string\")\n",
    "\n",
    "#btcdata.shape\n",
    "btcTrainData = btcTrainData.dropna(subset=['replyCount', 'retweetCount', 'likeCount', 'userFollowerCount', 'userFavCount', 'userFriendCount'])\n",
    "btcTrainData.shape\n",
    "#btcdata = btcdata.astype({\n",
    "    #\"userFollowerCount\": \"int\",\n",
    "    #\"userFavCount\": \"int\",\n",
    "    #\"userFriendCount\": \"int\",\n",
    "    #\"replyCount\": \"int\",\n",
    "    #\"retweetCount\": \"int\",\n",
    "    #\"likeCount\": \"int\"\n",
    "    #}) \n",
    "\n",
    "\n",
    "#btcdata.describe().apply(lambda s: s.apply('{0:.5f}'.format))\n",
    "\n"
   ]
  },
  {
   "cell_type": "code",
   "execution_count": 6,
   "metadata": {},
   "outputs": [],
   "source": [
    "#converting to datetime from string\n",
    "btcTrainData[\"dateTime\"] = pd.to_datetime(btcTrainData[\"date\"], format=\"%Y-%m-%d %H:%M:%S\", errors='coerce')\n",
    "\n",
    "#to get rows from a period of time using dateTime\n",
    "#august = btcdata[(btcdata['dateTime'] > '2021-08-01') & (btcdata['dateTime'] < '2021-09-01')]\n"
   ]
  },
  {
   "cell_type": "code",
   "execution_count": 7,
   "metadata": {},
   "outputs": [
    {
     "data": {
      "text/plain": [
       "30000    It appears we have a #vet breakout on the 4 HR...\n",
       "30001    @CryptoWhale @XRPisOurFuture And the number of...\n",
       "30002    @DocumentingBTC It was inevitable ¯\\_(ツ)_/¯\n",
       "\n",
       "#...\n",
       "30003             @IAMLLUCIANA @Nois3NFT @honey_btc Oh wow\n",
       "30004    @Bitcoin_Fool @JoWeb5 @EricBalchunas @DigiEcon...\n",
       "                               ...                        \n",
       "39995    Most of u aint even ready for #bitcoin @ 100k ...\n",
       "39996        #Bitcoin fixes this 😛 https://t.co/4CBpJmY1NS\n",
       "39997    $BTC go to 45k-47k\n",
       "\n",
       "New idea by @cryptodailyuk...\n",
       "39998    @0xjustblaze @insiliconot Would need btc to br...\n",
       "39999    @permabearXBT What is the point analyzing alts...\n",
       "Name: text, Length: 10000, dtype: string"
      ]
     },
     "execution_count": 7,
     "metadata": {},
     "output_type": "execute_result"
    }
   ],
   "source": [
    "btcTrainData.text[30000:40000]\n",
    "#data = btcdata.astype({\"text\": \"str\"}, copy=True)\n",
    "#data['text'] = data['text'].str.replace('@[\\w]+', '')\n",
    "#data.info()\n"
   ]
  },
  {
   "cell_type": "code",
   "execution_count": 8,
   "metadata": {},
   "outputs": [
    {
     "data": {
      "text/plain": [
       "'@permabearxbt what is the point analyzing alts/usd charts? if btc decides to move against, alts will follow. btc/usd + alts/btc makes more sence imo. do you agree?'"
      ]
     },
     "execution_count": 8,
     "metadata": {},
     "output_type": "execute_result"
    }
   ],
   "source": [
    "btcTrainData['text'] = btcTrainData['text'].apply(lambda x: x.lower()) #transform text to lowercase\n",
    "\n",
    "\n",
    "data = btcTrainData\n",
    "data.text[39999]"
   ]
  },
  {
   "cell_type": "code",
   "execution_count": 9,
   "metadata": {},
   "outputs": [
    {
     "name": "stdout",
     "output_type": "stream",
     "text": [
      "before dropping invalid users: (20357287, 12)\n",
      "after dropping invalid users: (20350599, 12)\n"
     ]
    }
   ],
   "source": [
    "#dropping the tweets from users with no followers, friends and favourites\n",
    "print('before dropping invalid users:' , data.shape)\n",
    "data = data[~((data[\"userFollowerCount\"] == 0) & (data[\"userFavCount\"] == 0) & (data[\"userFriendCount\"] == 0))]\n",
    "#data = data.drop(data[(data[\"user_followers\"] == 0) | (data[\"user_friends\"] == 0) | (data[\"user_favourites\"] == 0)].index)\n",
    "print('after dropping invalid users:', data.shape)\n"
   ]
  },
  {
   "cell_type": "code",
   "execution_count": 10,
   "metadata": {},
   "outputs": [
    {
     "name": "stdout",
     "output_type": "stream",
     "text": [
      "before dropping by hashtags: (20350599, 12)\n",
      "after dropping by hashtags: (20330679, 12)\n",
      "before dropping by single keyword: (20330679, 12)\n",
      "after dropping by single keyword: (20298562, 12)\n",
      "before dropping by bigrams: (20298562, 12)\n",
      "after dropping by bigrams: (19936961, 12)\n",
      "before dropping by trigrams: (19936961, 12)\n",
      "after dropping by trigrams: (19936535, 12)\n"
     ]
    }
   ],
   "source": [
    "#dropping the tweets with suspicious hashtags, words, bigrams, and trigrams\n",
    "\n",
    "#any(substring in string for substring in substring_list)\n",
    "\n",
    "#hashtags\n",
    "print('before dropping by hashtags:' , data.shape)\n",
    "data = data[~data.text.str.contains('#freecrypto|#freemoney|#freebitcoin|#freebtc')]\n",
    "print('after dropping by hashtags:' , data.shape)\n",
    "\n",
    "#words\n",
    "print('before dropping by single keyword:' , data.shape)\n",
    "data = data[~data.text.str.contains('entertaining|subscribe')]\n",
    "print('after dropping by single keyword:' , data.shape)\n",
    "\n",
    "#bigrams\n",
    "print('before dropping by bigrams:' , data.shape)\n",
    "data = data[~(data.text.str.contains('free bitcoin|current price|bitcoin price|earn bitcoin'))]\n",
    "print('after dropping by bigrams:' , data.shape)\n",
    "#data = data[~(data.text.str.contains('current') & (data.text.str.contains('price')))]\n",
    "#data = data[~(data.text.str.contains('bitcoin') & (data.text.str.contains('price')))]\n",
    "#data = data[~(data.text.str.contains('earn') & (data.text.str.contains('bitcoin')))]\n",
    "\n",
    "#trigrams\n",
    "print('before dropping by trigrams:' , data.shape)\n",
    "data = data[~(data.text.str.contains('start trading bitcoin'))]\n",
    "print('after dropping by trigrams:' , data.shape)\n"
   ]
  },
  {
   "cell_type": "code",
   "execution_count": 11,
   "metadata": {},
   "outputs": [],
   "source": [
    "#Remove urls, mentions, hashtags, empty lines, spaces, reserved words (RT, FAV)\n",
    "#keep emojis, smileys, numbers\n",
    "p.set_options(p.OPT.URL, p.OPT.MENTION, p.OPT.HASHTAG, p.OPT.RESERVED)\n",
    "data['text'] = data['text'].apply(lambda x: p.clean(x))\n",
    "\n"
   ]
  },
  {
   "cell_type": "code",
   "execution_count": 12,
   "metadata": {},
   "outputs": [
    {
     "data": {
      "text/plain": [
       "101    that is going to be a lovely office. anyway, l...\n",
       "102     cryptocurrencies are eating straws in your heart\n",
       "103                                 join me in my space!\n",
       "104    american hodlers should be taking advantage of...\n",
       "105    october is projected to be the start of the cr...\n",
       "                             ...                        \n",
       "198    is very high quality and reliable platform. th...\n",
       "199    just reporting the stats, it is the part of sc...\n",
       "200    cryptocurrency ransomware payments rose by 300...\n",
       "201    probably the most intelligent take on bitcoin ...\n",
       "202    forex trading: what is forex? fx trading expla...\n",
       "Name: text, Length: 100, dtype: object"
      ]
     },
     "execution_count": 12,
     "metadata": {},
     "output_type": "execute_result"
    }
   ],
   "source": [
    "#Check the header of formated text\n",
    "data.text[100:200]\n"
   ]
  },
  {
   "cell_type": "code",
   "execution_count": 13,
   "metadata": {},
   "outputs": [],
   "source": [
    "#remove special characters\n",
    "#data['text'] = data['text'].apply(lambda x: re.sub('[^a-zA-z0-9\\s]', '', x)) "
   ]
  },
  {
   "cell_type": "code",
   "execution_count": 14,
   "metadata": {},
   "outputs": [],
   "source": [
    "#remove extra space between words\n",
    "#data['text'] = data['text'].apply(lambda x: re.sub(' +', ' ', x)) "
   ]
  },
  {
   "cell_type": "code",
   "execution_count": 15,
   "metadata": {},
   "outputs": [],
   "source": [
    "#save the length of each tweets to df\n",
    "data['textLength'] = data['text'].str.len()"
   ]
  },
  {
   "cell_type": "markdown",
   "metadata": {},
   "source": [
    "Verify data integrity\n"
   ]
  },
  {
   "cell_type": "code",
   "execution_count": 21,
   "metadata": {},
   "outputs": [
    {
     "name": "stdout",
     "output_type": "stream",
     "text": [
      "(19936535, 13)\n"
     ]
    },
    {
     "data": {
      "text/plain": [
       "(19936535, 13)"
      ]
     },
     "execution_count": 21,
     "metadata": {},
     "output_type": "execute_result"
    }
   ],
   "source": [
    "# Select all duplicate rows based on one column\n",
    "#duplicateRowsDF = data[data.duplicated(['id'])]\n",
    "\n",
    "#print(\"Duplicate Rows based on a single column are:\", duplicateRowsDF, sep='\\n')\n",
    "##duplicateRowsDF\n",
    "\n",
    "#Numbers of duplicate rows in each date\n",
    "#duplicateRowsDFDate = duplicateRowsDF['dateTime'].groupby(duplicateRowsDF['dateTime'].dt.date)\n",
    "#duplicateRowsDFDate.size()\n",
    "print(data.shape)\n",
    "\n",
    "#check if all the text are string\n",
    "data[data['text'].map(type) == str].shape \n",
    "\n"
   ]
  },
  {
   "cell_type": "markdown",
   "metadata": {},
   "source": [
    "Save processed data\n"
   ]
  },
  {
   "cell_type": "code",
   "execution_count": 22,
   "metadata": {},
   "outputs": [],
   "source": [
    "#save the processed data to csv\n",
    "data.to_csv('../data/processed/bitcoin_tweets_result_processed_20210101-20210930.csv')\n"
   ]
  },
  {
   "cell_type": "markdown",
   "metadata": {},
   "source": [
    "Display histograms of tweets length\n"
   ]
  },
  {
   "cell_type": "code",
   "execution_count": null,
   "metadata": {},
   "outputs": [],
   "source": [
    "#display histograms of tweets length\n",
    "#cols = [\"user_followers\", \"user_friends\", \"user_favourites\"]\n",
    "\n",
    "#for col in cols:\n",
    "col = \"textLength\"\n",
    "#btcdata = btcdata.astype({\"user_friends\": \"float64\"}) #Conv datatype of df3, user_followers Col from object to int64\n",
    "#pos_series = btcdata[col].tolist()\n",
    "#neg_series = negative_examples[col].tolist()\n",
    "plt.hist(data[col], 50, facecolor='g', alpha=0.7)\n",
    "#plt.hist(neg_series, 50, facecolor='r', alpha=0.7, label=\"0\")\n",
    "#plt.legend(prop={\"size\": 10})\n",
    "plt.xlabel(\"Tweet's length\", color='#FFC000')\n",
    "plt.ylabel(\"Count\", color='#FFC000')\n",
    "plt.ticklabel_format(style='plain')\n",
    "plt.tick_params(labelcolor='#FFC000')\n",
    "plt.title(\"Histogram of tweets length by tweets count\", color='#FFC000')\n",
    "plt.show()"
   ]
  },
  {
   "cell_type": "markdown",
   "metadata": {},
   "source": [
    "Check the total number of tweets for each day, overlay with bitcoin closing price\n"
   ]
  },
  {
   "cell_type": "code",
   "execution_count": null,
   "metadata": {},
   "outputs": [],
   "source": [
    "#load bitcoin pricing information\n",
    "price = pd.read_csv('../data/external/BTC_USD_2020-10-10_2021-10-09-CoinDesk.csv')\n",
    "pdata = price[['Date', 'Closing Price (USD)']]"
   ]
  },
  {
   "cell_type": "code",
   "execution_count": null,
   "metadata": {},
   "outputs": [],
   "source": [
    "#count number of tweets each date\n",
    "df = data['dateTime'].groupby(data['dateTime'].dt.date).size().reset_index(name='count')"
   ]
  },
  {
   "cell_type": "code",
   "execution_count": null,
   "metadata": {},
   "outputs": [],
   "source": [
    "#merge two dfs by date\n",
    "\n",
    "\n",
    "df = df.astype({\"dateTime\": \"str\"}) \n",
    "print(type(df['dateTime'][0]))\n",
    "#print(type(pdata['Date'][0]))\n",
    "\n",
    "#merged_df1 = pd.merge(left=df, right=pdata, left_on='dateTime', right_on='Date')\n",
    "#merged_df1 = merged_df1.astype({\"Closing Price (USD)\": \"int\"}) \n",
    "#merged_df1"
   ]
  },
  {
   "cell_type": "code",
   "execution_count": null,
   "metadata": {},
   "outputs": [],
   "source": [
    "#x = merged_df1['dateTime']\n",
    "#y1 = merged_df1['count']\n",
    "#y2 = merged_df1['Closing Price (USD)']\n",
    "\n",
    "x = df['dateTime']\n",
    "y1 = df['count']\n",
    "\n",
    "# Plot Line1 (Left Y Axis)\n",
    "fig, ax1 = plt.subplots(1,1,figsize=(16,9), dpi= 80)\n",
    "ax1.plot(x, y1, color='tab:red')\n",
    "\n",
    "\n",
    "# Plot Line2 (Right Y Axis)\n",
    "#ax2 = ax1.twinx()  # instantiate a second axes that shares the same x-axis\n",
    "#ax2.plot(x, y2, color='tab:blue')\n",
    "\n",
    "# Decorations\n",
    "# ax1 (left Y axis)\n",
    "ax1.set_xlabel('Date', fontsize=20)\n",
    "ax1.tick_params(axis='x', rotation=0, labelsize=12)\n",
    "ax1.set_ylabel('Tweets count by date', color='tab:red', fontsize=20)\n",
    "ax1.tick_params(axis='y', rotation=0, labelcolor='tab:red' )\n",
    "ax1.grid(alpha=.4)\n",
    "\n",
    "ax1.set_xticks(np.arange(0, len(x), 10)) #change this number to change the number of labels\n",
    "ax1.set_xticklabels(x[::10], rotation=90, fontdict={'fontsize':10}) #change this number to change the number of labels\n",
    "\n",
    "# ax2 (right Y axis)\n",
    "#ax2.set_ylabel(\"Bitcoin closing price (USD)\", color='tab:blue', fontsize=20)\n",
    "#ax2.tick_params(axis='y', labelcolor='tab:blue')\n",
    "#ax2.set_xticks(np.arange(0, len(x), 20)) #change this number to change the number of labels\n",
    "#ax2.set_xticklabels(x[::20], rotation=90, fontdict={'fontsize':10}) #change this number to change the number of labels\n",
    "#ax2.set_title(\"Personal Savings Rate vs Unemployed: Plotting in Secondary Y Axis\", fontsize=22)\n",
    "fig.tight_layout()\n",
    "plt.show()\n",
    "\n",
    "\n"
   ]
  },
  {
   "cell_type": "markdown",
   "metadata": {},
   "source": [
    "Randomly select rows from each day\n"
   ]
  },
  {
   "cell_type": "code",
   "execution_count": null,
   "metadata": {},
   "outputs": [],
   "source": [
    "#btcdata.groupby(btcdata['date_time'].dt.year).apply(lambda x :x.iloc[random.choice(range(0,len(x)))])\n",
    "#btcdata.groupby(btcdata['date_time'].dt.year).apply(lambda x: x.sample(2)).reset_index(drop=True)\n",
    "\n",
    "selected = data.groupby(data['dateTime'].dt.day).apply(lambda x: x.sample(10, random_state=889))\n",
    "\n",
    "selected.to_csv('sample_bitcoin_tweets_ten_each_day.csv')\n",
    "selected"
   ]
  }
 ],
 "metadata": {
  "interpreter": {
   "hash": "aee8b7b246df8f9039afb4144a1f6fd8d2ca17a180786b69acc140d282b71a49"
  },
  "kernelspec": {
   "display_name": "Python 3.9.6 64-bit",
   "name": "python3"
  },
  "language_info": {
   "codemirror_mode": {
    "name": "ipython",
    "version": 3
   },
   "file_extension": ".py",
   "mimetype": "text/x-python",
   "name": "python",
   "nbconvert_exporter": "python",
   "pygments_lexer": "ipython3",
   "version": "3.9.6"
  },
  "orig_nbformat": 4
 },
 "nbformat": 4,
 "nbformat_minor": 2
}
