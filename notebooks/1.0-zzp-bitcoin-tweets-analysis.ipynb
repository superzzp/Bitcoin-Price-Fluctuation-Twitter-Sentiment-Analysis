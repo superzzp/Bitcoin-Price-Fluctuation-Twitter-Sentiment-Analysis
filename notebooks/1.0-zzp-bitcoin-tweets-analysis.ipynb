{
 "cells": [
  {
   "cell_type": "code",
   "execution_count": 6,
   "metadata": {},
   "outputs": [],
   "source": [
    "import pandas as pd\n",
    "import numpy as np\n",
    "import matplotlib.pyplot as plt\n",
    "import random \n",
    "import re\n",
    "import preprocessor as p\n"
   ]
  },
  {
   "cell_type": "code",
   "execution_count": 7,
   "metadata": {},
   "outputs": [],
   "source": [
    "#chunksize = 10 ** 8\n",
    "\n",
    "#btcdata = pd.read_csv('../data/interim/copy/bitcoin_engage_tweets_search_result_temp.csv')\n",
    "#btcdata = pd.read_csv('../data/raw/btc-tweets-2016-2019/tweets.csv', sep='delimiter', header=None, low_memory=False)\n",
    "#btcdata = pd.read_csv('../data/interim/bitcoin_all_tweets_search_result.csv')\n",
    "#btcTrainData = pd.read_csv('../data/interim/bitcoin_all_tweets_search_result_20211001-20220130.csv')\n",
    "\n",
    "btcTrainData = pd.read_csv('../data/interim/bitcoin_all_tweets_search_result_20210101-20210930.csv')"
   ]
  },
  {
   "cell_type": "code",
   "execution_count": 8,
   "metadata": {},
   "outputs": [
    {
     "name": "stdout",
     "output_type": "stream",
     "text": [
      "(20357616, 11)\n",
      "<class 'pandas.core.frame.DataFrame'>\n",
      "RangeIndex: 20357616 entries, 0 to 20357615\n",
      "Data columns (total 11 columns):\n",
      " #   Column             Dtype \n",
      "---  ------             ----- \n",
      " 0   id                 object\n",
      " 1   date               object\n",
      " 2   text               object\n",
      " 3   hashtags           object\n",
      " 4   replyCount         object\n",
      " 5   retweetCount       object\n",
      " 6   likeCount          object\n",
      " 7   userName           object\n",
      " 8   userFollowerCount  object\n",
      " 9   userFavCount       object\n",
      " 10  userFriendCount    object\n",
      "dtypes: object(11)\n",
      "memory usage: 1.7+ GB\n"
     ]
    }
   ],
   "source": [
    "\n",
    "btcTrainData = btcTrainData[['id', 'date', 'text', 'hashtags', 'replyCount', 'retweetCount',\n",
    "'likeCount', 'userName', 'userFollowerCount', 'userFavCount', 'userFriendCount']]\n",
    "print(btcTrainData.shape)\n",
    "btcTrainData.info()\n"
   ]
  },
  {
   "cell_type": "code",
   "execution_count": 9,
   "metadata": {},
   "outputs": [
    {
     "name": "stdout",
     "output_type": "stream",
     "text": [
      "before dropping duplicate by id: (20357616, 11)\n",
      "after dropping duplicate by id: (20357288, 11)\n"
     ]
    }
   ],
   "source": [
    "#Remove duplicates based on the id\n",
    "print('before dropping duplicate by id:' , btcTrainData.shape)\n",
    "btcTrainData = btcTrainData.drop_duplicates(subset=['id'], keep='first')\n",
    "print('after dropping duplicate by id:' , btcTrainData.shape)\n"
   ]
  },
  {
   "cell_type": "code",
   "execution_count": 10,
   "metadata": {},
   "outputs": [],
   "source": [
    "#convert type of numeric fields\n",
    "btcTrainData['replyCount'] = pd.to_numeric(btcTrainData['replyCount'], errors='coerce')\n",
    "btcTrainData['retweetCount'] = pd.to_numeric(btcTrainData['retweetCount'], errors='coerce')\n",
    "btcTrainData['likeCount'] = pd.to_numeric(btcTrainData['likeCount'], errors='coerce')\n",
    "btcTrainData['userFollowerCount'] = pd.to_numeric(btcTrainData['userFollowerCount'], errors='coerce')\n",
    "btcTrainData['userFavCount'] = pd.to_numeric(btcTrainData['userFavCount'], errors='coerce')\n",
    "btcTrainData['userFriendCount'] = pd.to_numeric(btcTrainData['userFriendCount'], errors='coerce')\n",
    "\n",
    "#convert type of text fields\n",
    "btcTrainData['text'] = btcTrainData['text'].astype(\"string\")\n",
    "\n",
    "#btcdata = btcdata.astype({\n",
    "    #\"userFollowerCount\": \"int\",\n",
    "    #\"userFavCount\": \"int\",\n",
    "    #\"userFriendCount\": \"int\",\n",
    "    #\"replyCount\": \"int\",\n",
    "    #\"retweetCount\": \"int\",\n",
    "    #\"likeCount\": \"int\"\n",
    "    #}) \n",
    "\n",
    "\n",
    "#btcdata.describe().apply(lambda s: s.apply('{0:.5f}'.format))\n",
    "\n"
   ]
  },
  {
   "cell_type": "code",
   "execution_count": 11,
   "metadata": {},
   "outputs": [],
   "source": [
    "#converting to datetime from string\n",
    "btcTrainData[\"dateTime\"] = pd.to_datetime(btcTrainData[\"date\"], format=\"%Y-%m-%d %H:%M:%S\", errors='coerce')\n",
    "\n",
    "#to get rows from a period of time using dateTime\n",
    "#btcTrainData = btcTrainData[(btcTrainData['dateTime'] > '2021-08-01') & (btcdata['dateTime'] < '2021-09-01')]\n",
    "btcTrainData = btcTrainData[btcTrainData['dateTime'] >= '2021-02-01']\n",
    "\n"
   ]
  },
  {
   "cell_type": "code",
   "execution_count": 12,
   "metadata": {},
   "outputs": [],
   "source": [
    "btcTrainData['text'] = btcTrainData['text'].apply(lambda x: x.lower()) #transform text to lowercase\n",
    "\n",
    "data = btcTrainData"
   ]
  },
  {
   "cell_type": "code",
   "execution_count": 13,
   "metadata": {},
   "outputs": [
    {
     "name": "stdout",
     "output_type": "stream",
     "text": [
      "before drop by na\n",
      "(18226843, 12)\n",
      "after drop by na\n",
      "(18226843, 12)\n"
     ]
    }
   ],
   "source": [
    "#btcdata.shape\n",
    "#drop tweets with missing data\n",
    "print('before drop by na')\n",
    "print(data.shape)\n",
    "print('after drop by na')\n",
    "data = data.dropna(subset=['replyCount', 'retweetCount', 'likeCount', 'userFollowerCount', 'userFavCount', 'userFriendCount'])\n",
    "print(data.shape)\n",
    "\n",
    "\n"
   ]
  },
  {
   "cell_type": "code",
   "execution_count": 14,
   "metadata": {},
   "outputs": [
    {
     "name": "stdout",
     "output_type": "stream",
     "text": [
      "before dropping invalid users: (18226843, 12)\n",
      "after dropping invalid users: (18220667, 12)\n"
     ]
    }
   ],
   "source": [
    "#dropping the tweets from users with no followers, friends and favourites\n",
    "print('before dropping invalid users:' , data.shape)\n",
    "data = data[~((data[\"userFollowerCount\"] == 0) & (data[\"userFavCount\"] == 0) & (data[\"userFriendCount\"] == 0))]\n",
    "#data = data.drop(data[(data[\"user_followers\"] == 0) | (data[\"user_friends\"] == 0) | (data[\"user_favourites\"] == 0)].index)\n",
    "print('after dropping invalid users:', data.shape)\n"
   ]
  },
  {
   "cell_type": "code",
   "execution_count": 15,
   "metadata": {},
   "outputs": [
    {
     "name": "stdout",
     "output_type": "stream",
     "text": [
      "before dropping by hashtags: (18220667, 12)\n",
      "after dropping by hashtags: (18207303, 12)\n",
      "before dropping by single keyword: (18207303, 12)\n",
      "after dropping by single keyword: (18178584, 12)\n",
      "before dropping by bigrams: (18178584, 12)\n",
      "after dropping by bigrams: (17853606, 12)\n",
      "before dropping by trigrams: (17853606, 12)\n",
      "after dropping by trigrams: (17853271, 12)\n"
     ]
    }
   ],
   "source": [
    "#dropping the tweets with suspicious hashtags, words, bigrams, and trigrams\n",
    "\n",
    "#any(substring in string for substring in substring_list)\n",
    "\n",
    "#hashtags\n",
    "print('before dropping by hashtags:' , data.shape)\n",
    "data = data[~data.text.str.contains('#freecrypto|#freemoney|#freebitcoin|#freebtc')]\n",
    "print('after dropping by hashtags:' , data.shape)\n",
    "\n",
    "#words\n",
    "print('before dropping by single keyword:' , data.shape)\n",
    "data = data[~data.text.str.contains('entertaining|subscribe')]\n",
    "print('after dropping by single keyword:' , data.shape)\n",
    "\n",
    "#bigrams\n",
    "print('before dropping by bigrams:' , data.shape)\n",
    "data = data[~(data.text.str.contains('free bitcoin|current price|bitcoin price|earn bitcoin'))]\n",
    "print('after dropping by bigrams:' , data.shape)\n",
    "#data = data[~(data.text.str.contains('current') & (data.text.str.contains('price')))]\n",
    "#data = data[~(data.text.str.contains('bitcoin') & (data.text.str.contains('price')))]\n",
    "#data = data[~(data.text.str.contains('earn') & (data.text.str.contains('bitcoin')))]\n",
    "\n",
    "#trigrams\n",
    "print('before dropping by trigrams:' , data.shape)\n",
    "data = data[~(data.text.str.contains('start trading bitcoin'))]\n",
    "print('after dropping by trigrams:' , data.shape)\n"
   ]
  },
  {
   "cell_type": "code",
   "execution_count": 16,
   "metadata": {},
   "outputs": [],
   "source": [
    "#Remove urls, mentions, hashtags, empty lines, spaces, reserved words (RT, FAV)\n",
    "#keep emojis, smileys, numbers\n",
    "p.set_options(p.OPT.URL, p.OPT.MENTION, p.OPT.HASHTAG, p.OPT.RESERVED)\n",
    "data['text'] = data['text'].apply(lambda x: p.clean(x))\n",
    "\n"
   ]
  },
  {
   "cell_type": "code",
   "execution_count": 17,
   "metadata": {},
   "outputs": [
    {
     "data": {
      "text/plain": [
       "101    that is going to be a lovely office. anyway, l...\n",
       "102     cryptocurrencies are eating straws in your heart\n",
       "103                                 join me in my space!\n",
       "104    american hodlers should be taking advantage of...\n",
       "105    october is projected to be the start of the cr...\n",
       "                             ...                        \n",
       "198    is very high quality and reliable platform. th...\n",
       "199    just reporting the stats, it is the part of sc...\n",
       "200    cryptocurrency ransomware payments rose by 300...\n",
       "201    probably the most intelligent take on bitcoin ...\n",
       "202    forex trading: what is forex? fx trading expla...\n",
       "Name: text, Length: 100, dtype: object"
      ]
     },
     "execution_count": 17,
     "metadata": {},
     "output_type": "execute_result"
    }
   ],
   "source": [
    "#Check the header of formated text\n",
    "data.text[100:200]\n"
   ]
  },
  {
   "cell_type": "code",
   "execution_count": 18,
   "metadata": {},
   "outputs": [],
   "source": [
    "#save the length of each tweets to df\n",
    "data['textLength'] = data['text'].str.len()"
   ]
  },
  {
   "cell_type": "markdown",
   "metadata": {},
   "source": [
    "Verify data integrity\n"
   ]
  },
  {
   "cell_type": "code",
   "execution_count": 19,
   "metadata": {},
   "outputs": [
    {
     "name": "stdout",
     "output_type": "stream",
     "text": [
      "(17853271, 13)\n"
     ]
    },
    {
     "data": {
      "text/plain": [
       "(17853271, 13)"
      ]
     },
     "execution_count": 19,
     "metadata": {},
     "output_type": "execute_result"
    }
   ],
   "source": [
    "# Select all duplicate rows based on one column\n",
    "#duplicateRowsDF = data[data.duplicated(['id'])]\n",
    "\n",
    "#print(\"Duplicate Rows based on a single column are:\", duplicateRowsDF, sep='\\n')\n",
    "##duplicateRowsDF\n",
    "\n",
    "#Numbers of duplicate rows in each date\n",
    "#duplicateRowsDFDate = duplicateRowsDF['dateTime'].groupby(duplicateRowsDF['dateTime'].dt.date)\n",
    "#duplicateRowsDFDate.size()\n",
    "print(data.shape)\n",
    "\n",
    "#check if all the text are string\n",
    "data[data['text'].map(type) == str].shape \n",
    "\n"
   ]
  },
  {
   "cell_type": "markdown",
   "metadata": {},
   "source": [
    "Save processed data\n"
   ]
  },
  {
   "cell_type": "code",
   "execution_count": 20,
   "metadata": {},
   "outputs": [],
   "source": [
    "#save the processed data to csv\n",
    "#data.to_csv('../data/processed/bitcoin_tweets_result_processed_20211001-20220130.csv')\n"
   ]
  },
  {
   "cell_type": "markdown",
   "metadata": {},
   "source": [
    "Display histograms of tweets length\n"
   ]
  },
  {
   "cell_type": "code",
   "execution_count": 21,
   "metadata": {},
   "outputs": [
    {
     "data": {
      "image/png": "[encoded data removed]",
      "text/plain": [
       "<Figure size 432x288 with 1 Axes>"
      ]
     },
     "metadata": {
      "needs_background": "dark"
     },
     "output_type": "display_data"
    }
   ],
   "source": [
    "#display histograms of tweets length\n",
    "#cols = [\"user_followers\", \"user_friends\", \"user_favourites\"]\n",
    "\n",
    "#for col in cols:\n",
    "col = \"textLength\"\n",
    "#btcdata = btcdata.astype({\"user_friends\": \"float64\"}) #Conv datatype of df3, user_followers Col from object to int64\n",
    "#pos_series = btcdata[col].tolist()\n",
    "#neg_series = negative_examples[col].tolist()\n",
    "plt.hist(data[col], 50, facecolor='g', alpha=0.7)\n",
    "#plt.hist(neg_series, 50, facecolor='r', alpha=0.7, label=\"0\")\n",
    "#plt.legend(prop={\"size\": 10})\n",
    "plt.xlabel(\"Tweet's length\", color='#FFC000')\n",
    "plt.ylabel(\"Count\", color='#FFC000')\n",
    "plt.ticklabel_format(style='plain')\n",
    "plt.tick_params(labelcolor='#FFC000')\n",
    "plt.title(\"Histogram of tweets length by tweets count\", color='#FFC000')\n",
    "plt.show()"
   ]
  },
  {
   "cell_type": "markdown",
   "metadata": {},
   "source": [
    "Check the total number of tweets for each day, overlay with bitcoin closing price\n"
   ]
  },
  {
   "cell_type": "code",
   "execution_count": 22,
   "metadata": {},
   "outputs": [],
   "source": [
    "#load bitcoin pricing information\n",
    "price = pd.read_csv('../data/external/BTC_USD_2020-10-10_2021-10-09-CoinDesk.csv')\n",
    "pdata = price[['Date', 'Closing Price (USD)']]"
   ]
  },
  {
   "cell_type": "code",
   "execution_count": 23,
   "metadata": {},
   "outputs": [],
   "source": [
    "#count number of tweets each date\n",
    "df = data['dateTime'].groupby(data['dateTime'].dt.date).size().reset_index(name='count')"
   ]
  },
  {
   "cell_type": "code",
   "execution_count": 24,
   "metadata": {},
   "outputs": [
    {
     "name": "stdout",
     "output_type": "stream",
     "text": [
      "<class 'str'>\n"
     ]
    }
   ],
   "source": [
    "#merge two dfs by date\n",
    "\n",
    "\n",
    "df = df.astype({\"dateTime\": \"str\"}) \n",
    "print(type(df['dateTime'][0]))\n",
    "#print(type(pdata['Date'][0]))\n",
    "\n",
    "#merged_df1 = pd.merge(left=df, right=pdata, left_on='dateTime', right_on='Date')\n",
    "#merged_df1 = merged_df1.astype({\"Closing Price (USD)\": \"int\"}) \n",
    "#merged_df1"
   ]
  },
  {
   "cell_type": "code",
   "execution_count": 25,
   "metadata": {},
   "outputs": [
    {
     "data": {
      "image/png": "[encoded data removed]",
      "text/plain": [
       "<Figure size 1280x720 with 1 Axes>"
      ]
     },
     "metadata": {
      "needs_background": "light"
     },
     "output_type": "display_data"
    }
   ],
   "source": [
    "#x = merged_df1['dateTime']\n",
    "#y1 = merged_df1['count']\n",
    "#y2 = merged_df1['Closing Price (USD)']\n",
    "\n",
    "x = df['dateTime']\n",
    "y1 = df['count']\n",
    "\n",
    "# Plot Line1 (Left Y Axis)\n",
    "fig, ax1 = plt.subplots(1,1,figsize=(16,9), dpi= 80)\n",
    "ax1.plot(x, y1, color='tab:red')\n",
    "\n",
    "\n",
    "# Plot Line2 (Right Y Axis)\n",
    "#ax2 = ax1.twinx()  # instantiate a second axes that shares the same x-axis\n",
    "#ax2.plot(x, y2, color='tab:blue')\n",
    "\n",
    "# Decorations\n",
    "# ax1 (left Y axis)\n",
    "ax1.set_xlabel('Date', fontsize=20)\n",
    "ax1.tick_params(axis='x', rotation=0, labelsize=12)\n",
    "ax1.set_ylabel('Tweets count by date', color='tab:red', fontsize=20)\n",
    "ax1.tick_params(axis='y', rotation=0, labelcolor='tab:red' )\n",
    "ax1.grid(alpha=.4)\n",
    "\n",
    "ax1.set_xticks(np.arange(0, len(x), 10)) #change this number to change the number of labels\n",
    "ax1.set_xticklabels(x[::10], rotation=90, fontdict={'fontsize':10}) #change this number to change the number of labels\n",
    "\n",
    "# ax2 (right Y axis)\n",
    "#ax2.set_ylabel(\"Bitcoin closing price (USD)\", color='tab:blue', fontsize=20)\n",
    "#ax2.tick_params(axis='y', labelcolor='tab:blue')\n",
    "#ax2.set_xticks(np.arange(0, len(x), 20)) #change this number to change the number of labels\n",
    "#ax2.set_xticklabels(x[::20], rotation=90, fontdict={'fontsize':10}) #change this number to change the number of labels\n",
    "#ax2.set_title(\"Personal Savings Rate vs Unemployed: Plotting in Secondary Y Axis\", fontsize=22)\n",
    "fig.tight_layout()\n",
    "plt.show()\n",
    "\n",
    "\n"
   ]
  },
  {
   "cell_type": "markdown",
   "metadata": {},
   "source": [
    "Randomly select rows from each day\n"
   ]
  },
  {
   "cell_type": "code",
   "execution_count": 26,
   "metadata": {},
   "outputs": [
    {
     "data": {
      "text/html": [
       "<div>\n",
       "<style scoped>\n",
       "    .dataframe tbody tr th:only-of-type {\n",
       "        vertical-align: middle;\n",
       "    }\n",
       "\n",
       "    .dataframe tbody tr th {\n",
       "        vertical-align: top;\n",
       "    }\n",
       "\n",
       "    .dataframe thead th {\n",
       "        text-align: right;\n",
       "    }\n",
       "</style>\n",
       "<table border=\"1\" class=\"dataframe\">\n",
       "  <thead>\n",
       "    <tr style=\"text-align: right;\">\n",
       "      <th></th>\n",
       "      <th></th>\n",
       "      <th>id</th>\n",
       "      <th>date</th>\n",
       "      <th>text</th>\n",
       "      <th>hashtags</th>\n",
       "      <th>replyCount</th>\n",
       "      <th>retweetCount</th>\n",
       "      <th>likeCount</th>\n",
       "      <th>userName</th>\n",
       "      <th>userFollowerCount</th>\n",
       "      <th>userFavCount</th>\n",
       "      <th>userFriendCount</th>\n",
       "      <th>dateTime</th>\n",
       "      <th>textLength</th>\n",
       "    </tr>\n",
       "    <tr>\n",
       "      <th>dateTime</th>\n",
       "      <th></th>\n",
       "      <th></th>\n",
       "      <th></th>\n",
       "      <th></th>\n",
       "      <th></th>\n",
       "      <th></th>\n",
       "      <th></th>\n",
       "      <th></th>\n",
       "      <th></th>\n",
       "      <th></th>\n",
       "      <th></th>\n",
       "      <th></th>\n",
       "      <th></th>\n",
       "      <th></th>\n",
       "    </tr>\n",
       "  </thead>\n",
       "  <tbody>\n",
       "    <tr>\n",
       "      <th rowspan=\"5\" valign=\"top\">1</th>\n",
       "      <th>13692201</th>\n",
       "      <td>1377597361925488640</td>\n",
       "      <td>2021-04-01 12:23:00+00:00</td>\n",
       "      <td>goldman sachs is close to offering bitcoin and...</td>\n",
       "      <td>NaN</td>\n",
       "      <td>0.0</td>\n",
       "      <td>0.0</td>\n",
       "      <td>3.0</td>\n",
       "      <td>GaltsGirl</td>\n",
       "      <td>42468.0</td>\n",
       "      <td>6916.0</td>\n",
       "      <td>5183.0</td>\n",
       "      <td>2021-04-01 12:23:00+00:00</td>\n",
       "      <td>100</td>\n",
       "    </tr>\n",
       "    <tr>\n",
       "      <th>8744272</th>\n",
       "      <td>1399561775612313600</td>\n",
       "      <td>2021-06-01 03:01:44+00:00</td>\n",
       "      <td>exchanges could fix that if they stop pairing ...</td>\n",
       "      <td>NaN</td>\n",
       "      <td>0.0</td>\n",
       "      <td>0.0</td>\n",
       "      <td>2.0</td>\n",
       "      <td>Jason39336330</td>\n",
       "      <td>926.0</td>\n",
       "      <td>44338.0</td>\n",
       "      <td>1053.0</td>\n",
       "      <td>2021-06-01 03:01:44+00:00</td>\n",
       "      <td>216</td>\n",
       "    </tr>\n",
       "    <tr>\n",
       "      <th>4082689</th>\n",
       "      <td>1421767398122692612</td>\n",
       "      <td>2021-08-01 09:38:57+00:00</td>\n",
       "      <td>$btc head and shoulder on the 1 hour chart</td>\n",
       "      <td>NaN</td>\n",
       "      <td>1.0</td>\n",
       "      <td>0.0</td>\n",
       "      <td>0.0</td>\n",
       "      <td>5Mu5hy</td>\n",
       "      <td>7.0</td>\n",
       "      <td>115.0</td>\n",
       "      <td>103.0</td>\n",
       "      <td>2021-08-01 09:38:57+00:00</td>\n",
       "      <td>42</td>\n",
       "    </tr>\n",
       "    <tr>\n",
       "      <th>15922826</th>\n",
       "      <td>1366210853754859520</td>\n",
       "      <td>2021-03-01 02:17:05+00:00</td>\n",
       "      <td>newsflash, anytime bitcoin is purchased its be...</td>\n",
       "      <td>NaN</td>\n",
       "      <td>0.0</td>\n",
       "      <td>0.0</td>\n",
       "      <td>0.0</td>\n",
       "      <td>ayyylmaobruhhh</td>\n",
       "      <td>337.0</td>\n",
       "      <td>177136.0</td>\n",
       "      <td>845.0</td>\n",
       "      <td>2021-03-01 02:17:05+00:00</td>\n",
       "      <td>65</td>\n",
       "    </tr>\n",
       "    <tr>\n",
       "      <th>15885194</th>\n",
       "      <td>1366406691860844545</td>\n",
       "      <td>2021-03-01 15:15:16+00:00</td>\n",
       "      <td>hurry! 2.70% intra-loop arbitrage in . the max...</td>\n",
       "      <td>['ENJ', 'CoinDCX', 'crypto', 'arbitrage', 'koi...</td>\n",
       "      <td>0.0</td>\n",
       "      <td>0.0</td>\n",
       "      <td>0.0</td>\n",
       "      <td>KoinKnight</td>\n",
       "      <td>2188.0</td>\n",
       "      <td>49.0</td>\n",
       "      <td>101.0</td>\n",
       "      <td>2021-03-01 15:15:16+00:00</td>\n",
       "      <td>150</td>\n",
       "    </tr>\n",
       "    <tr>\n",
       "      <th>...</th>\n",
       "      <th>...</th>\n",
       "      <td>...</td>\n",
       "      <td>...</td>\n",
       "      <td>...</td>\n",
       "      <td>...</td>\n",
       "      <td>...</td>\n",
       "      <td>...</td>\n",
       "      <td>...</td>\n",
       "      <td>...</td>\n",
       "      <td>...</td>\n",
       "      <td>...</td>\n",
       "      <td>...</td>\n",
       "      <td>...</td>\n",
       "      <td>...</td>\n",
       "    </tr>\n",
       "    <tr>\n",
       "      <th rowspan=\"5\" valign=\"top\">31</th>\n",
       "      <th>2206999</th>\n",
       "      <td>1432712548365778949</td>\n",
       "      <td>2021-08-31 14:31:04+00:00</td>\n",
       "      <td>📉💶$4,293,569 $btc shorted $47520.0 [31/08/21 1...</td>\n",
       "      <td>NaN</td>\n",
       "      <td>0.0</td>\n",
       "      <td>1.0</td>\n",
       "      <td>5.0</td>\n",
       "      <td>WhaleTrades</td>\n",
       "      <td>139748.0</td>\n",
       "      <td>369.0</td>\n",
       "      <td>0.0</td>\n",
       "      <td>2021-08-31 14:31:04+00:00</td>\n",
       "      <td>108</td>\n",
       "    </tr>\n",
       "    <tr>\n",
       "      <th>4104504</th>\n",
       "      <td>1421597723808174085</td>\n",
       "      <td>2021-07-31 22:24:44+00:00</td>\n",
       "      <td>stock to flow (s2f) 📈 bullish indication relat...</td>\n",
       "      <td>['Bitcoin', 'BTC']</td>\n",
       "      <td>1.0</td>\n",
       "      <td>0.0</td>\n",
       "      <td>0.0</td>\n",
       "      <td>CoinIndication</td>\n",
       "      <td>625.0</td>\n",
       "      <td>7.0</td>\n",
       "      <td>2.0</td>\n",
       "      <td>2021-07-31 22:24:44+00:00</td>\n",
       "      <td>134</td>\n",
       "    </tr>\n",
       "    <tr>\n",
       "      <th>8753842</th>\n",
       "      <td>1399502450030268418</td>\n",
       "      <td>2021-05-31 23:06:00+00:00</td>\n",
       "      <td>autoglyph</td>\n",
       "      <td>['ethereum', 'bitcoin', 'binance', 'crypto', '...</td>\n",
       "      <td>0.0</td>\n",
       "      <td>1.0</td>\n",
       "      <td>0.0</td>\n",
       "      <td>arel_btc</td>\n",
       "      <td>121.0</td>\n",
       "      <td>153.0</td>\n",
       "      <td>278.0</td>\n",
       "      <td>2021-05-31 23:06:00+00:00</td>\n",
       "      <td>9</td>\n",
       "    </tr>\n",
       "    <tr>\n",
       "      <th>4141074</th>\n",
       "      <td>1421365200108806147</td>\n",
       "      <td>2021-07-31 07:00:46+00:00</td>\n",
       "      <td>this provision could redefine a coffee shop ow...</td>\n",
       "      <td>['bitcoin']</td>\n",
       "      <td>0.0</td>\n",
       "      <td>0.0</td>\n",
       "      <td>1.0</td>\n",
       "      <td>v4pedro</td>\n",
       "      <td>372.0</td>\n",
       "      <td>958.0</td>\n",
       "      <td>578.0</td>\n",
       "      <td>2021-07-31 07:00:46+00:00</td>\n",
       "      <td>166</td>\n",
       "    </tr>\n",
       "    <tr>\n",
       "      <th>2183444</th>\n",
       "      <td>1432831121813876736</td>\n",
       "      <td>2021-08-31 22:22:14+00:00</td>\n",
       "      <td>break out for what? btc?? eth??</td>\n",
       "      <td>NaN</td>\n",
       "      <td>0.0</td>\n",
       "      <td>0.0</td>\n",
       "      <td>0.0</td>\n",
       "      <td>Deon32970609</td>\n",
       "      <td>3.0</td>\n",
       "      <td>154.0</td>\n",
       "      <td>52.0</td>\n",
       "      <td>2021-08-31 22:22:14+00:00</td>\n",
       "      <td>31</td>\n",
       "    </tr>\n",
       "  </tbody>\n",
       "</table>\n",
       "<p>310 rows × 13 columns</p>\n",
       "</div>"
      ],
      "text/plain": [
       "                                    id                       date  \\\n",
       "dateTime                                                            \n",
       "1        13692201  1377597361925488640  2021-04-01 12:23:00+00:00   \n",
       "         8744272   1399561775612313600  2021-06-01 03:01:44+00:00   \n",
       "         4082689   1421767398122692612  2021-08-01 09:38:57+00:00   \n",
       "         15922826  1366210853754859520  2021-03-01 02:17:05+00:00   \n",
       "         15885194  1366406691860844545  2021-03-01 15:15:16+00:00   \n",
       "...                                ...                        ...   \n",
       "31       2206999   1432712548365778949  2021-08-31 14:31:04+00:00   \n",
       "         4104504   1421597723808174085  2021-07-31 22:24:44+00:00   \n",
       "         8753842   1399502450030268418  2021-05-31 23:06:00+00:00   \n",
       "         4141074   1421365200108806147  2021-07-31 07:00:46+00:00   \n",
       "         2183444   1432831121813876736  2021-08-31 22:22:14+00:00   \n",
       "\n",
       "                                                                text  \\\n",
       "dateTime                                                               \n",
       "1        13692201  goldman sachs is close to offering bitcoin and...   \n",
       "         8744272   exchanges could fix that if they stop pairing ...   \n",
       "         4082689          $btc head and shoulder on the 1 hour chart   \n",
       "         15922826  newsflash, anytime bitcoin is purchased its be...   \n",
       "         15885194  hurry! 2.70% intra-loop arbitrage in . the max...   \n",
       "...                                                              ...   \n",
       "31       2206999   📉💶$4,293,569 $btc shorted $47520.0 [31/08/21 1...   \n",
       "         4104504   stock to flow (s2f) 📈 bullish indication relat...   \n",
       "         8753842                                           autoglyph   \n",
       "         4141074   this provision could redefine a coffee shop ow...   \n",
       "         2183444                     break out for what? btc?? eth??   \n",
       "\n",
       "                                                            hashtags  \\\n",
       "dateTime                                                               \n",
       "1        13692201                                                NaN   \n",
       "         8744272                                                 NaN   \n",
       "         4082689                                                 NaN   \n",
       "         15922826                                                NaN   \n",
       "         15885194  ['ENJ', 'CoinDCX', 'crypto', 'arbitrage', 'koi...   \n",
       "...                                                              ...   \n",
       "31       2206999                                                 NaN   \n",
       "         4104504                                  ['Bitcoin', 'BTC']   \n",
       "         8753842   ['ethereum', 'bitcoin', 'binance', 'crypto', '...   \n",
       "         4141074                                         ['bitcoin']   \n",
       "         2183444                                                 NaN   \n",
       "\n",
       "                   replyCount  retweetCount  likeCount        userName  \\\n",
       "dateTime                                                                 \n",
       "1        13692201         0.0           0.0        3.0       GaltsGirl   \n",
       "         8744272          0.0           0.0        2.0   Jason39336330   \n",
       "         4082689          1.0           0.0        0.0          5Mu5hy   \n",
       "         15922826         0.0           0.0        0.0  ayyylmaobruhhh   \n",
       "         15885194         0.0           0.0        0.0      KoinKnight   \n",
       "...                       ...           ...        ...             ...   \n",
       "31       2206999          0.0           1.0        5.0     WhaleTrades   \n",
       "         4104504          1.0           0.0        0.0  CoinIndication   \n",
       "         8753842          0.0           1.0        0.0        arel_btc   \n",
       "         4141074          0.0           0.0        1.0         v4pedro   \n",
       "         2183444          0.0           0.0        0.0    Deon32970609   \n",
       "\n",
       "                   userFollowerCount  userFavCount  userFriendCount  \\\n",
       "dateTime                                                              \n",
       "1        13692201            42468.0        6916.0           5183.0   \n",
       "         8744272               926.0       44338.0           1053.0   \n",
       "         4082689                 7.0         115.0            103.0   \n",
       "         15922826              337.0      177136.0            845.0   \n",
       "         15885194             2188.0          49.0            101.0   \n",
       "...                              ...           ...              ...   \n",
       "31       2206999            139748.0         369.0              0.0   \n",
       "         4104504               625.0           7.0              2.0   \n",
       "         8753842               121.0         153.0            278.0   \n",
       "         4141074               372.0         958.0            578.0   \n",
       "         2183444                 3.0         154.0             52.0   \n",
       "\n",
       "                                   dateTime  textLength  \n",
       "dateTime                                                 \n",
       "1        13692201 2021-04-01 12:23:00+00:00         100  \n",
       "         8744272  2021-06-01 03:01:44+00:00         216  \n",
       "         4082689  2021-08-01 09:38:57+00:00          42  \n",
       "         15922826 2021-03-01 02:17:05+00:00          65  \n",
       "         15885194 2021-03-01 15:15:16+00:00         150  \n",
       "...                                     ...         ...  \n",
       "31       2206999  2021-08-31 14:31:04+00:00         108  \n",
       "         4104504  2021-07-31 22:24:44+00:00         134  \n",
       "         8753842  2021-05-31 23:06:00+00:00           9  \n",
       "         4141074  2021-07-31 07:00:46+00:00         166  \n",
       "         2183444  2021-08-31 22:22:14+00:00          31  \n",
       "\n",
       "[310 rows x 13 columns]"
      ]
     },
     "execution_count": 26,
     "metadata": {},
     "output_type": "execute_result"
    }
   ],
   "source": [
    "#btcdata.groupby(btcdata['date_time'].dt.year).apply(lambda x :x.iloc[random.choice(range(0,len(x)))])\n",
    "#btcdata.groupby(btcdata['date_time'].dt.year).apply(lambda x: x.sample(2)).reset_index(drop=True)\n",
    "\n",
    "selected = data.groupby(data['dateTime'].dt.day).apply(lambda x: x.sample(10, random_state=889))\n",
    "\n",
    "selected.to_csv('sample_bitcoin_tweets_ten_each_day.csv')\n",
    "selected"
   ]
  }
 ],
 "metadata": {
  "interpreter": {
   "hash": "aee8b7b246df8f9039afb4144a1f6fd8d2ca17a180786b69acc140d282b71a49"
  },
  "kernelspec": {
   "display_name": "Python 3.9.6 64-bit",
   "name": "python3"
  },
  "language_info": {
   "codemirror_mode": {
    "name": "ipython",
    "version": 3
   },
   "file_extension": ".py",
   "mimetype": "text/x-python",
   "name": "python",
   "nbconvert_exporter": "python",
   "pygments_lexer": "ipython3",
   "version": "3.9.6"
  },
  "orig_nbformat": 4
 },
 "nbformat": 4,
 "nbformat_minor": 2
}
