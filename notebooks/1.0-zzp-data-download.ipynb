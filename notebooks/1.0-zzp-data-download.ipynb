{
 "cells": [
  {
   "cell_type": "code",
   "execution_count": 1,
   "source": [
    "import snscrape.modules.twitter as sntwitter\n",
    "import csv\n",
    "maxTweets = 100000\n",
    "\n",
    "#keyword = 'deprem'\n",
    "#place = '5e02a0f0d91c76d2' #This geo_place string corresponds to İstanbul, Turkey on twitter.\n",
    "\n",
    "#keyword = 'covid'\n",
    "#place = '01fbe706f872cb32' This geo_place string corresponds to Washington DC on twitter.\n",
    "\n",
    "#Open/create a file to append data to\n",
    "csvFile = open('bitcoin_tweets_result.csv', 'a', newline='', encoding='utf8')\n",
    "\n",
    "#Use csv writer\n",
    "csvWriter = csv.writer(csvFile)\n",
    "csvWriter.writerow(['id','date','text','replyCount','retweetCount', 'likeCount']) \n",
    "\n",
    "for i,tweet in enumerate(sntwitter.TwitterSearchScraper('bitcoin OR btc since:2021-01-01 until:2021-09-26 lang:en -filter:retweets filter:safe filter:has_engagement').get_items()):\n",
    "        if i > maxTweets :\n",
    "            break  \n",
    "        csvWriter.writerow([tweet.id, tweet.date, tweet.content, tweet.replyCount, \n",
    "        tweet.retweetCount, tweet.likeCount])\n",
    "csvFile.close()"
   ],
   "outputs": [],
   "metadata": {}
  },
  {
   "cell_type": "code",
   "execution_count": 2,
   "source": [
    "# Twitter advanced search syntax:\n",
    "# https://github.com/igorbrigadir/twitter-advanced-search\n",
    "\n",
    "#define Tweet(typing.NamedTuple, snscrape.base.Item): \n",
    " \t#url: str \n",
    " \t#date: datetime.datetime \n",
    " \t#content: str \n",
    " \t#renderedContent: str \n",
    " \t#id: int \n",
    " \t#username: str # Deprecated, use user['username'] instead \n",
    " \t#user: 'User' \n",
    " \t#outlinks: list \n",
    " \t#outlinksss: str # Deprecated, use outlinks instead \n",
    " \t#tcooutlinks: list \n",
    " \t#tcooutlinksss: str # Deprecated, use tcooutlinks instead \n",
    " \t#replyCount: int \n",
    " \t#retweetCount: int \n",
    " \t#likeCount: int \n",
    " \t#quoteCount: int \n",
    " \t#conversationId: int \n",
    " \t#lang: str \n",
    " \t#source: str \n",
    " \t#media: typing.Optional[typing.List['Medium']] = None \n",
    " \t#retweetedTweet: typing.Optional['Tweet'] = None \n",
    " \t#quotedTweet: typing.Optional['Tweet'] = None \n",
    " \t#mentionedUsers: typing.Optional[typing.List['User']] = None "
   ],
   "outputs": [],
   "metadata": {}
  }
 ],
 "metadata": {
  "interpreter": {
   "hash": "aee8b7b246df8f9039afb4144a1f6fd8d2ca17a180786b69acc140d282b71a49"
  },
  "kernelspec": {
   "name": "python3",
   "display_name": "Python 3.9.6 64-bit"
  },
  "language_info": {
   "codemirror_mode": {
    "name": "ipython",
    "version": 3
   },
   "file_extension": ".py",
   "mimetype": "text/x-python",
   "name": "python",
   "nbconvert_exporter": "python",
   "pygments_lexer": "ipython3",
   "version": "3.9.6"
  },
  "orig_nbformat": 4
 },
 "nbformat": 4,
 "nbformat_minor": 2
}