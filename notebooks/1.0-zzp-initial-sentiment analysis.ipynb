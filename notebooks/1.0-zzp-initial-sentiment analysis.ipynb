{
 "cells": [
  {
   "cell_type": "markdown",
   "source": [
    "# Sentiment Analysis with an RNN"
   ],
   "metadata": {}
  },
  {
   "cell_type": "markdown",
   "source": [
    "<table align=\"left\"><td>\n",
    "  <a target=\"_blank\"  href=\"https://colab.research.google.com/github/TannerGilbert/Tutorials/blob/master/Keras-Tutorials/6.%20Sentiment%20Analysis/Sentiment%20Analysis.ipynb\">\n",
    "    <img src=\"https://www.tensorflow.org/images/colab_logo_32px.png\" />Run in Google Colab\n",
    "  </a>\n",
    "</td><td>\n",
    "  <a target=\"_blank\"  href=\"https://github.com/TannerGilbert/Tutorials/blob/master/Keras-Tutorials/6.%20Sentiment%20Analysis/Sentiment%20Analysis.ipynb\">\n",
    "    <img width=32px src=\"https://www.tensorflow.org/images/GitHub-Mark-32px.png\" />View source on GitHub</a>\n",
    "</td></table>"
   ],
   "metadata": {}
  },
  {
   "cell_type": "code",
   "execution_count": null,
   "source": [],
   "outputs": [],
   "metadata": {}
  },
  {
   "cell_type": "markdown",
   "source": [
    "<img src=\"http://www.polyvista.com/blog/wp-content/uploads/2015/06/sentiment-customer-exp-large.png\">\n",
    "<p style=\"font-size:10px;\">http://www.polyvista.com/blog/wp-content/uploads/2015/06/sentiment-customer-exp-large.png</p>"
   ],
   "metadata": {}
  },
  {
   "cell_type": "markdown",
   "source": [
    "## What is Sentiment Analysis?\n",
    "\n",
    "Sentiment Analysis also know as opinion mining refers to the identification, extraction and study of sentiment states by using natural language processing, text analysis, computational linguistics and biometrics."
   ],
   "metadata": {}
  },
  {
   "cell_type": "markdown",
   "source": [
    "## Sentiment Analysis with an Recurrent Neural Network\n",
    "\n",
    "We will use a RNN for sentiment analysis because we care for the sequence in the data."
   ],
   "metadata": {}
  },
  {
   "cell_type": "markdown",
   "source": [
    "### Imports"
   ],
   "metadata": {}
  },
  {
   "cell_type": "code",
   "execution_count": 3,
   "source": [
    "import re\n",
    "import numpy as np\n",
    "import pandas as pd\n",
    "from sklearn.model_selection import train_test_split\n",
    "import matplotlib.pyplot as plt\n",
    "\n",
    "from keras.models import Sequential, load_model\n",
    "from keras.layers import Dense, LSTM, Embedding, Dropout\n",
    "from keras.preprocessing.text import Tokenizer\n",
    "from keras.preprocessing.sequence import pad_sequences"
   ],
   "outputs": [],
   "metadata": {}
  },
  {
   "cell_type": "markdown",
   "source": [
    "### Loading in Dataset"
   ],
   "metadata": {}
  },
  {
   "cell_type": "code",
   "execution_count": null,
   "source": [
    "data = pd.read_csv('../data/raw/sentinment140-2/training.1600000.processed.noemoticon.csv', encoding='iso-8859-1', names=[\"SentimentCode\", \"Index\", \"Date\", \"Flag\", \"Username\", \"Text\"])\n",
    "data = data.sample(frac=1).reset_index(drop=True)\n",
    "print(data.shape)\n",
    "data.head()"
   ],
   "outputs": [],
   "metadata": {}
  },
  {
   "cell_type": "code",
   "execution_count": null,
   "source": [],
   "outputs": [],
   "metadata": {}
  },
  {
   "cell_type": "code",
   "execution_count": 7,
   "source": [
    "newData = pd.read_csv('../data/raw/BTC_tweets_daily_example.csv', index_col = 0)\n",
    "newData.shape\n",
    "newData.head()\n",
    "\n",
    "\n"
   ],
   "outputs": [
    {
     "output_type": "execute_result",
     "data": {
      "text/html": [
       "<div>\n",
       "<style scoped>\n",
       "    .dataframe tbody tr th:only-of-type {\n",
       "        vertical-align: middle;\n",
       "    }\n",
       "\n",
       "    .dataframe tbody tr th {\n",
       "        vertical-align: top;\n",
       "    }\n",
       "\n",
       "    .dataframe thead th {\n",
       "        text-align: right;\n",
       "    }\n",
       "</style>\n",
       "<table border=\"1\" class=\"dataframe\">\n",
       "  <thead>\n",
       "    <tr style=\"text-align: right;\">\n",
       "      <th></th>\n",
       "      <th>Date</th>\n",
       "      <th>Tweet</th>\n",
       "      <th>Screen_name</th>\n",
       "      <th>Source</th>\n",
       "      <th>Link</th>\n",
       "      <th>Sentiment</th>\n",
       "      <th>sent_score</th>\n",
       "      <th>New_Sentiment_Score</th>\n",
       "      <th>New_Sentiment_State</th>\n",
       "    </tr>\n",
       "  </thead>\n",
       "  <tbody>\n",
       "    <tr>\n",
       "      <th>0</th>\n",
       "      <td>Fri Mar 23 00:40:32 +0000 2018</td>\n",
       "      <td>RT @ALXTOKEN: Paul Krugman, Nobel Luddite. I h...</td>\n",
       "      <td>myresumerocket</td>\n",
       "      <td>[]</td>\n",
       "      <td>&lt;a href=\"http://twitter.com\" rel=\"nofollow\"&gt;Tw...</td>\n",
       "      <td>['neutral']</td>\n",
       "      <td>0.0</td>\n",
       "      <td>0.000000</td>\n",
       "      <td>0.0</td>\n",
       "    </tr>\n",
       "    <tr>\n",
       "      <th>1</th>\n",
       "      <td>Fri Mar 23 00:40:34 +0000 2018</td>\n",
       "      <td>@lopp @_Kevin_Pham @psycho_sage @naval But @Pr...</td>\n",
       "      <td>BitMocro</td>\n",
       "      <td>[u'Bitcoin']</td>\n",
       "      <td>&lt;a href=\"http://twitter.com/download/android\" ...</td>\n",
       "      <td>['neutral']</td>\n",
       "      <td>0.0</td>\n",
       "      <td>0.000000</td>\n",
       "      <td>0.0</td>\n",
       "    </tr>\n",
       "    <tr>\n",
       "      <th>2</th>\n",
       "      <td>Fri Mar 23 00:40:35 +0000 2018</td>\n",
       "      <td>RT @tippereconomy: Another use case for #block...</td>\n",
       "      <td>hojachotopur</td>\n",
       "      <td>[u'blockchain', u'Tipper', u'TipperEconomy']</td>\n",
       "      <td>&lt;a href=\"http://twitter.com\" rel=\"nofollow\"&gt;Tw...</td>\n",
       "      <td>['positive']</td>\n",
       "      <td>1.0</td>\n",
       "      <td>0.136364</td>\n",
       "      <td>1.0</td>\n",
       "    </tr>\n",
       "    <tr>\n",
       "      <th>3</th>\n",
       "      <td>Fri Mar 23 00:40:36 +0000 2018</td>\n",
       "      <td>free coins https://t.co/DiuoePJdap</td>\n",
       "      <td>denies_distro</td>\n",
       "      <td>[]</td>\n",
       "      <td>&lt;a href=\"http://twitter.com\" rel=\"nofollow\"&gt;Tw...</td>\n",
       "      <td>['positive']</td>\n",
       "      <td>1.0</td>\n",
       "      <td>0.400000</td>\n",
       "      <td>1.0</td>\n",
       "    </tr>\n",
       "    <tr>\n",
       "      <th>4</th>\n",
       "      <td>Fri Mar 23 00:40:36 +0000 2018</td>\n",
       "      <td>RT @payvxofficial: WE are happy to announce th...</td>\n",
       "      <td>aditzgraha</td>\n",
       "      <td>[]</td>\n",
       "      <td>&lt;a href=\"http://twitter.com/download/android\" ...</td>\n",
       "      <td>['positive']</td>\n",
       "      <td>1.0</td>\n",
       "      <td>0.468182</td>\n",
       "      <td>1.0</td>\n",
       "    </tr>\n",
       "  </tbody>\n",
       "</table>\n",
       "</div>"
      ],
      "text/plain": [
       "                             Date  \\\n",
       "0  Fri Mar 23 00:40:32 +0000 2018   \n",
       "1  Fri Mar 23 00:40:34 +0000 2018   \n",
       "2  Fri Mar 23 00:40:35 +0000 2018   \n",
       "3  Fri Mar 23 00:40:36 +0000 2018   \n",
       "4  Fri Mar 23 00:40:36 +0000 2018   \n",
       "\n",
       "                                               Tweet     Screen_name  \\\n",
       "0  RT @ALXTOKEN: Paul Krugman, Nobel Luddite. I h...  myresumerocket   \n",
       "1  @lopp @_Kevin_Pham @psycho_sage @naval But @Pr...        BitMocro   \n",
       "2  RT @tippereconomy: Another use case for #block...    hojachotopur   \n",
       "3                 free coins https://t.co/DiuoePJdap   denies_distro   \n",
       "4  RT @payvxofficial: WE are happy to announce th...      aditzgraha   \n",
       "\n",
       "                                         Source  \\\n",
       "0                                            []   \n",
       "1                                  [u'Bitcoin']   \n",
       "2  [u'blockchain', u'Tipper', u'TipperEconomy']   \n",
       "3                                            []   \n",
       "4                                            []   \n",
       "\n",
       "                                                Link     Sentiment  \\\n",
       "0  <a href=\"http://twitter.com\" rel=\"nofollow\">Tw...   ['neutral']   \n",
       "1  <a href=\"http://twitter.com/download/android\" ...   ['neutral']   \n",
       "2  <a href=\"http://twitter.com\" rel=\"nofollow\">Tw...  ['positive']   \n",
       "3  <a href=\"http://twitter.com\" rel=\"nofollow\">Tw...  ['positive']   \n",
       "4  <a href=\"http://twitter.com/download/android\" ...  ['positive']   \n",
       "\n",
       "   sent_score  New_Sentiment_Score  New_Sentiment_State  \n",
       "0         0.0             0.000000                  0.0  \n",
       "1         0.0             0.000000                  0.0  \n",
       "2         1.0             0.136364                  1.0  \n",
       "3         1.0             0.400000                  1.0  \n",
       "4         1.0             0.468182                  1.0  "
      ]
     },
     "metadata": {},
     "execution_count": 7
    }
   ],
   "metadata": {}
  },
  {
   "cell_type": "markdown",
   "source": [
    "### Labeling sementic for each entry\n",
    "(0 = negative, 2 = neutral, 4 = positive)"
   ],
   "metadata": {}
  },
  {
   "cell_type": "code",
   "execution_count": null,
   "source": [
    "'''def f(row):\n",
    "    if row['SentimentCode'] == 0:\n",
    "        val = 'negative'\n",
    "    elif row['SentimentCode'] == 2:\n",
    "        val = 'neutral'\n",
    "    else:\n",
    "        val = 'positive'\n",
    "    return val\n",
    "\n",
    "data['Sentiment'] = data.apply(f, axis=1)\n",
    "\n",
    "print(data.shape)\n",
    "data.head()\n",
    "'''\n",
    "\n"
   ],
   "outputs": [],
   "metadata": {}
  },
  {
   "cell_type": "markdown",
   "source": [
    "Removing all columns except the airline_sentiment and text column."
   ],
   "metadata": {}
  },
  {
   "cell_type": "code",
   "execution_count": 61,
   "source": [
    "data = newData[['Sentiment', 'Tweet']]\n",
    "data.head()\n",
    "data.shape"
   ],
   "outputs": [
    {
     "output_type": "execute_result",
     "data": {
      "text/plain": [
       "(50887, 2)"
      ]
     },
     "metadata": {},
     "execution_count": 61
    }
   ],
   "metadata": {}
  },
  {
   "cell_type": "markdown",
   "source": [
    "Removing all rows with no sentinment value"
   ],
   "metadata": {}
  },
  {
   "cell_type": "code",
   "execution_count": 66,
   "source": [
    "data = data.drop(data[(data.Sentiment == 0) | (data.Sentiment != \"['positive']\") & (data.Sentiment != \"['negative']\") & (data.Sentiment != \"['neutral']\")].index)\n",
    "data.shape"
   ],
   "outputs": [
    {
     "output_type": "execute_result",
     "data": {
      "text/plain": [
       "(50852, 2)"
      ]
     },
     "metadata": {},
     "execution_count": 66
    }
   ],
   "metadata": {}
  },
  {
   "cell_type": "markdown",
   "source": [],
   "metadata": {}
  },
  {
   "cell_type": "code",
   "execution_count": null,
   "source": [],
   "outputs": [],
   "metadata": {}
  },
  {
   "cell_type": "markdown",
   "source": [
    "### Data exploration"
   ],
   "metadata": {}
  },
  {
   "cell_type": "code",
   "execution_count": 67,
   "source": [
    "data['Sentiment'].value_counts().sort_index().plot.bar()"
   ],
   "outputs": [
    {
     "output_type": "execute_result",
     "data": {
      "text/plain": [
       "<AxesSubplot:>"
      ]
     },
     "metadata": {},
     "execution_count": 67
    },
    {
     "output_type": "display_data",
     "data": {
      "image/png": "[encoded data removed]",
      "text/plain": [
       "<Figure size 432x288 with 1 Axes>"
      ]
     },
     "metadata": {
      "needs_background": "light"
     }
    }
   ],
   "metadata": {}
  },
  {
   "cell_type": "code",
   "execution_count": 68,
   "source": [
    "data['Tweet'].str.len().plot.hist()"
   ],
   "outputs": [
    {
     "output_type": "execute_result",
     "data": {
      "text/plain": [
       "<AxesSubplot:ylabel='Frequency'>"
      ]
     },
     "metadata": {},
     "execution_count": 68
    },
    {
     "output_type": "display_data",
     "data": {
      "image/png": "[encoded data removed]",
      "text/plain": [
       "<Figure size 432x288 with 1 Axes>"
      ]
     },
     "metadata": {
      "needs_background": "light"
     }
    }
   ],
   "metadata": {}
  },
  {
   "cell_type": "markdown",
   "source": [
    "### Preprocessing"
   ],
   "metadata": {}
  },
  {
   "cell_type": "code",
   "execution_count": 69,
   "source": [
    "data['Tweet'] = data['Tweet'].str.replace('@[\\w]+', '')\n",
    "#data.iloc[20:30]\n",
    "data.info()\n",
    "data = data.astype({\"Tweet\": \"str\"})\n"
   ],
   "outputs": [
    {
     "output_type": "stream",
     "name": "stdout",
     "text": [
      "<class 'pandas.core.frame.DataFrame'>\n",
      "Index: 50852 entries, 0 to 50858\n",
      "Data columns (total 2 columns):\n",
      " #   Column     Non-Null Count  Dtype \n",
      "---  ------     --------------  ----- \n",
      " 0   Sentiment  50852 non-null  object\n",
      " 1   Tweet      50852 non-null  object\n",
      "dtypes: object(2)\n",
      "memory usage: 3.2+ MB\n"
     ]
    },
    {
     "output_type": "stream",
     "name": "stderr",
     "text": [
      "/var/folders/qj/zhs6m1zd0dvg_v7rtzjt38n80000gn/T/ipykernel_13559/3898131742.py:1: FutureWarning: The default value of regex will change from True to False in a future version.\n",
      "  data['Tweet'] = data['Tweet'].str.replace('@[\\w]+', '')\n"
     ]
    }
   ],
   "metadata": {}
  },
  {
   "cell_type": "code",
   "execution_count": 70,
   "source": [
    "data['Tweet'].apply(lambda x: x.lower()) #transform text to lowercase\n",
    "data['Tweet'] = data['Tweet'].apply(lambda x: re.sub('[^a-zA-z0-9\\s]', '', x))\n",
    "data['Tweet'].head()"
   ],
   "outputs": [
    {
     "output_type": "execute_result",
     "data": {
      "text/plain": [
       "0    RT  Paul Krugman Nobel Luddite I had to tweak ...\n",
       "1        But  dum b a ss said you know nothing abou...\n",
       "2    RT  Another use case for blockchain and Tipper...\n",
       "3                        free coins httpstcoDiuoePJdap\n",
       "4    RT  WE are happy to announce that PayVX Presal...\n",
       "Name: Tweet, dtype: object"
      ]
     },
     "metadata": {},
     "execution_count": 70
    }
   ],
   "metadata": {}
  },
  {
   "cell_type": "code",
   "execution_count": 71,
   "source": [
    "tokenizer = Tokenizer(num_words=5000, split=\" \")\n",
    "tokenizer.fit_on_texts(data['Tweet'].values)\n",
    "\n",
    "X = tokenizer.texts_to_sequences(data['Tweet'].values)\n",
    "X = pad_sequences(X) # padding our text vector so they all have the same length\n",
    "X[:5]"
   ],
   "outputs": [
    {
     "output_type": "execute_result",
     "data": {
      "text/plain": [
       "array([[   0,    0,    0,    0,    0,    0,    0,    0,    0,    0,    0,\n",
       "           0,    0,    0,    0,    0,    0,    2,   25,  310,    4,    3,\n",
       "           7,   29,    1,  387,  266, 1203, 1002,  352,    3,  364,  920],\n",
       "       [   0,    0,    0,    0,    0,    0,    0,    0,    0,    0,    0,\n",
       "           0,    0,    0,    0,    0,    0,    0,    0,    0,    0,    0,\n",
       "           0,    0,  139,  324,    5,  571,   12,  195, 1611,   44,    1],\n",
       "       [   0,    0,    0,    0,    0,    0,    0,    0,    0,    0,    0,\n",
       "           0,    0,    0,    2,  225,  198,  426,   11,   10,    6,  750,\n",
       "           3,  841,   42,  881,  547,    6,   84,  493,   35,  108,  175],\n",
       "       [   0,    0,    0,    0,    0,    0,    0,    0,    0,    0,    0,\n",
       "           0,    0,    0,    0,    0,    0,    0,    0,    0,    0,    0,\n",
       "           0,    0,    0,    0,    0,    0,    0,    0,    0,   52,  199],\n",
       "       [   0,    0,    0,    0,    0,    0,    0,    0,    0,    0,    0,\n",
       "           0,    0,    2,   20,   23,  390,    4,  394,   26,  461,  471,\n",
       "         575,   31,    9,   50,  108,  181,   64,  528,  940,  509,  637]],\n",
       "      dtype=int32)"
      ]
     },
     "metadata": {},
     "execution_count": 71
    }
   ],
   "metadata": {}
  },
  {
   "cell_type": "markdown",
   "source": [
    "### Creating model"
   ],
   "metadata": {}
  },
  {
   "cell_type": "code",
   "execution_count": 72,
   "source": [
    "model = Sequential()\n",
    "model.add(Embedding(5000, 256, input_length=X.shape[1]))\n",
    "model.add(Dropout(0.3))\n",
    "model.add(LSTM(256, return_sequences=True, dropout=0.3, recurrent_dropout=0.2))\n",
    "model.add(LSTM(256, dropout=0.3, recurrent_dropout=0.2))\n",
    "model.add(Dense(3, activation='softmax'))"
   ],
   "outputs": [],
   "metadata": {}
  },
  {
   "cell_type": "code",
   "execution_count": 73,
   "source": [
    "model.compile(loss='categorical_crossentropy', optimizer='adam', metrics=['accuracy'])\n",
    "model.summary()"
   ],
   "outputs": [
    {
     "output_type": "stream",
     "name": "stdout",
     "text": [
      "Model: \"sequential_1\"\n",
      "_________________________________________________________________\n",
      "Layer (type)                 Output Shape              Param #   \n",
      "=================================================================\n",
      "embedding_1 (Embedding)      (None, 33, 256)           1280000   \n",
      "_________________________________________________________________\n",
      "dropout_1 (Dropout)          (None, 33, 256)           0         \n",
      "_________________________________________________________________\n",
      "lstm_2 (LSTM)                (None, 33, 256)           525312    \n",
      "_________________________________________________________________\n",
      "lstm_3 (LSTM)                (None, 256)               525312    \n",
      "_________________________________________________________________\n",
      "dense_1 (Dense)              (None, 3)                 771       \n",
      "=================================================================\n",
      "Total params: 2,331,395\n",
      "Trainable params: 2,331,395\n",
      "Non-trainable params: 0\n",
      "_________________________________________________________________\n"
     ]
    }
   ],
   "metadata": {}
  },
  {
   "cell_type": "code",
   "execution_count": 74,
   "source": [
    "y = pd.get_dummies(data['Sentiment']).values\n",
    "[print(data['Sentiment'][i], y[i]) for i in range(0,5)]"
   ],
   "outputs": [
    {
     "output_type": "stream",
     "name": "stdout",
     "text": [
      "['neutral'] [0 1 0]\n",
      "['neutral'] [0 1 0]\n",
      "['positive'] [0 0 1]\n",
      "['positive'] [0 0 1]\n",
      "['positive'] [0 0 1]\n"
     ]
    },
    {
     "output_type": "execute_result",
     "data": {
      "text/plain": [
       "[None, None, None, None, None]"
      ]
     },
     "metadata": {},
     "execution_count": 74
    }
   ],
   "metadata": {}
  },
  {
   "cell_type": "code",
   "execution_count": 75,
   "source": [
    "X_train, X_test, y_train, y_test = train_test_split(X, y, test_size=0.2, random_state=0)"
   ],
   "outputs": [],
   "metadata": {}
  },
  {
   "cell_type": "markdown",
   "source": [
    "### Training model"
   ],
   "metadata": {}
  },
  {
   "cell_type": "code",
   "execution_count": 76,
   "source": [
    "batch_size = 32\n",
    "epochs = 8\n",
    "\n",
    "model.fit(X_train, y_train, epochs=epochs, batch_size=batch_size, verbose=2)"
   ],
   "outputs": [
    {
     "output_type": "stream",
     "name": "stdout",
     "text": [
      "Epoch 1/8\n",
      "1272/1272 - 375s - loss: 0.2138 - accuracy: 0.9287\n",
      "Epoch 2/8\n",
      "1272/1272 - 369s - loss: 0.0862 - accuracy: 0.9769\n",
      "Epoch 3/8\n",
      "1272/1272 - 344s - loss: 0.0614 - accuracy: 0.9818\n",
      "Epoch 4/8\n",
      "1272/1272 - 339s - loss: 0.0464 - accuracy: 0.9859\n",
      "Epoch 5/8\n",
      "1272/1272 - 748s - loss: 0.0350 - accuracy: 0.9894\n",
      "Epoch 6/8\n",
      "1272/1272 - 275s - loss: 0.0274 - accuracy: 0.9911\n",
      "Epoch 7/8\n",
      "1272/1272 - 272s - loss: 0.0206 - accuracy: 0.9936\n",
      "Epoch 8/8\n",
      "1272/1272 - 274s - loss: 0.0160 - accuracy: 0.9953\n"
     ]
    },
    {
     "output_type": "execute_result",
     "data": {
      "text/plain": [
       "<keras.callbacks.History at 0x7fd32b514a00>"
      ]
     },
     "metadata": {},
     "execution_count": 76
    }
   ],
   "metadata": {}
  },
  {
   "cell_type": "code",
   "execution_count": 77,
   "source": [
    "model.save('sentiment_analysis.h5')"
   ],
   "outputs": [],
   "metadata": {}
  },
  {
   "cell_type": "markdown",
   "source": [
    "### Testing model"
   ],
   "metadata": {}
  },
  {
   "cell_type": "code",
   "execution_count": 8,
   "source": [
    "model = load_model('sentiment_analysis.h5')"
   ],
   "outputs": [],
   "metadata": {}
  },
  {
   "cell_type": "code",
   "execution_count": 29,
   "source": [
    "prodData = pd.read_csv('../data/interim/proddata.csv')\n",
    "\n",
    "tokenizer = Tokenizer(num_words=5000, split=\" \")\n",
    "tokenizer.fit_on_texts(prodData['Tweet'].values)\n",
    "\n",
    "X_prod = tokenizer.texts_to_sequences(prodData['Tweet'].values)\n",
    "X_prod = pad_sequences(X_prod) # padding our text vector so they all have the same length\n",
    "X_prod[:5]\n",
    "\n",
    "y_prod = pd.get_dummies(prodData['Sentiment']).values\n",
    "\n",
    "[print(prodData['Sentiment'][i], y_prod[i]) for i in range(0,6)]"
   ],
   "outputs": [
    {
     "output_type": "stream",
     "name": "stdout",
     "text": [
      "['positive'] [0 0 1]\n",
      "['positive'] [0 0 1]\n",
      "['negative'] [1 0 0]\n",
      "['neutral'] [0 1 0]\n",
      "['neutral'] [0 1 0]\n",
      "['negative'] [1 0 0]\n"
     ]
    },
    {
     "output_type": "execute_result",
     "data": {
      "text/plain": [
       "[None, None, None, None, None, None]"
      ]
     },
     "metadata": {},
     "execution_count": 29
    }
   ],
   "metadata": {}
  },
  {
   "cell_type": "code",
   "execution_count": 31,
   "source": [
    "#predictions = model.predict(X_test)\n",
    "predictions = model.predict(X_prod)\n",
    "\n",
    "[print(prodData['Tweet'][i], predictions[i], y_prod[i]) for i in range(0,5)]"
   ],
   "outputs": [
    {
     "output_type": "stream",
     "name": "stdout",
     "text": [
      "Bitcoin is going to the moon! [0.17667277 0.5438352  0.27949208] [0 0 1]\n",
      "Cryptocurrency is going to be the future of financial system [0.01687921 0.9770997  0.006021  ] [0 0 1]\n",
      "Bitcoin dump incoming… leave the market if you can [0.29853892 0.58256215 0.11889895] [1 0 0]\n",
      "Market is going sideway at the current level. Nothing intersting is happening [0.17656025 0.30546957 0.5179702 ] [0 1 0]\n",
      "Trade with me to get free bitcoin [0.13152792 0.00402765 0.8644444 ] [0 1 0]\n"
     ]
    },
    {
     "output_type": "execute_result",
     "data": {
      "text/plain": [
       "[None, None, None, None, None]"
      ]
     },
     "metadata": {},
     "execution_count": 31
    }
   ],
   "metadata": {}
  },
  {
   "cell_type": "code",
   "execution_count": 18,
   "source": [
    "pos_count, neu_count, neg_count = 0, 0, 0\n",
    "real_pos, real_neu, real_neg = 0, 0, 0\n",
    "for i, prediction in enumerate(predictions):\n",
    "    if np.argmax(prediction)==2:\n",
    "        pos_count += 1\n",
    "    elif np.argmax(prediction)==1:\n",
    "        neu_count += 1\n",
    "    else:\n",
    "        neg_count += 1\n",
    "    \n",
    "    if np.argmax(y_test[i])==2:\n",
    "        real_pos += 1\n",
    "    elif np.argmax(y_test[i])==1:    \n",
    "        real_neu += 1\n",
    "    else:\n",
    "        real_neg +=1\n",
    "\n",
    "print('Positive predictions:', pos_count)\n",
    "print('Neutral predictions:', neu_count)\n",
    "print('Negative predictions:', neg_count)\n",
    "print('Real positive:', real_pos)\n",
    "print('Real neutral:', real_neu)\n",
    "print('Real negative:', real_neg)"
   ],
   "outputs": [
    {
     "output_type": "error",
     "ename": "NameError",
     "evalue": "name 'y_test' is not defined",
     "traceback": [
      "\u001b[0;31m---------------------------------------------------------------------------\u001b[0m",
      "\u001b[0;31mNameError\u001b[0m                                 Traceback (most recent call last)",
      "\u001b[0;32m/var/folders/qj/zhs6m1zd0dvg_v7rtzjt38n80000gn/T/ipykernel_15227/2353159222.py\u001b[0m in \u001b[0;36m<module>\u001b[0;34m\u001b[0m\n\u001b[1;32m      9\u001b[0m         \u001b[0mneg_count\u001b[0m \u001b[0;34m+=\u001b[0m \u001b[0;36m1\u001b[0m\u001b[0;34m\u001b[0m\u001b[0;34m\u001b[0m\u001b[0m\n\u001b[1;32m     10\u001b[0m \u001b[0;34m\u001b[0m\u001b[0m\n\u001b[0;32m---> 11\u001b[0;31m     \u001b[0;32mif\u001b[0m \u001b[0mnp\u001b[0m\u001b[0;34m.\u001b[0m\u001b[0margmax\u001b[0m\u001b[0;34m(\u001b[0m\u001b[0my_test\u001b[0m\u001b[0;34m[\u001b[0m\u001b[0mi\u001b[0m\u001b[0;34m]\u001b[0m\u001b[0;34m)\u001b[0m\u001b[0;34m==\u001b[0m\u001b[0;36m2\u001b[0m\u001b[0;34m:\u001b[0m\u001b[0;34m\u001b[0m\u001b[0;34m\u001b[0m\u001b[0m\n\u001b[0m\u001b[1;32m     12\u001b[0m         \u001b[0mreal_pos\u001b[0m \u001b[0;34m+=\u001b[0m \u001b[0;36m1\u001b[0m\u001b[0;34m\u001b[0m\u001b[0;34m\u001b[0m\u001b[0m\n\u001b[1;32m     13\u001b[0m     \u001b[0;32melif\u001b[0m \u001b[0mnp\u001b[0m\u001b[0;34m.\u001b[0m\u001b[0margmax\u001b[0m\u001b[0;34m(\u001b[0m\u001b[0my_test\u001b[0m\u001b[0;34m[\u001b[0m\u001b[0mi\u001b[0m\u001b[0;34m]\u001b[0m\u001b[0;34m)\u001b[0m\u001b[0;34m==\u001b[0m\u001b[0;36m1\u001b[0m\u001b[0;34m:\u001b[0m\u001b[0;34m\u001b[0m\u001b[0;34m\u001b[0m\u001b[0m\n",
      "\u001b[0;31mNameError\u001b[0m: name 'y_test' is not defined"
     ]
    }
   ],
   "metadata": {}
  },
  {
   "cell_type": "markdown",
   "source": [
    "## Improvements we could implement\n",
    "<ul>\n",
    "    <li>Weight classes (because data is skew)</li>\n",
    "    <li>Train more epochs</li>\n",
    "    <li>Use bigger network</li>\n",
    "    <li>Try other word number</li>\n",
    "</ul>"
   ],
   "metadata": {}
  },
  {
   "cell_type": "markdown",
   "source": [
    "## Resources\n",
    "\n",
    "<ul>\n",
    "    <li><a href=\"https://programmingwithgilbert.firebaseapp.com/videos/machine-learning-explained/recurrent-neural-networks-lstm-explained\">Recurrent Neural Networks Explained (my own post and video)</a></li>\n",
    "    <li><a href=\"https://en.wikipedia.org/wiki/Sentiment_analysis\">Sentiment Analysis (Wikipedia)</a></li>\n",
    "    <li><a href=\"https://www.quora.com/What-is-the-best-way-to-do-sentiment-analysis-with-Python-I%E2%80%99m-looking-for-a-sentiment-analysis-API-that-I-can-add-an-emoticon-dictionary-to-I-have-no-idea-how-to-use-NLTK-Can-anyone-help-me-with-that\">What is the best way to do sentiment analysis with Python? (Quora)</a></li>\n",
    "    <li><a href=\"https://www.youtube.com/watch?v=si8zZHkufRY\">How to Do Sentiment Analysis (Siraj Raval)</a></li>\n",
    "</ul>"
   ],
   "metadata": {}
  }
 ],
 "metadata": {
  "kernelspec": {
   "name": "python3",
   "display_name": "Python 3.9.6 64-bit"
  },
  "language_info": {
   "codemirror_mode": {
    "name": "ipython",
    "version": 3
   },
   "file_extension": ".py",
   "mimetype": "text/x-python",
   "name": "python",
   "nbconvert_exporter": "python",
   "pygments_lexer": "ipython3",
   "version": "3.9.6"
  },
  "interpreter": {
   "hash": "aee8b7b246df8f9039afb4144a1f6fd8d2ca17a180786b69acc140d282b71a49"
  }
 },
 "nbformat": 4,
 "nbformat_minor": 2
}